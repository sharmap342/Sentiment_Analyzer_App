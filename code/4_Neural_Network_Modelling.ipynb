{
 "cells": [
  {
   "cell_type": "markdown",
   "metadata": {},
   "source": [
    "## Notebook 4: `4_Neural_Network_Modelling`   \n",
    "\n",
    "In notebook 3, we tried some additional machine learning models on a sample of dataset.     \n",
    "\n",
    "\n",
    "In this notebook, we will try some deep learning models on a sample of dataset. First a simple neural network was trained on the transformed data to predict sentiment of tweets. Second, word embeddings were used to train a neural network and logistic regression model.    \n",
    "\n",
    "The following is the table of contents for this notebook. \n",
    "\n",
    "<br>\n",
    "\n",
    "### Table of Contents \n",
    "\n",
    "<br>   \n",
    "\n",
    "1. [Data Transformation](#transformation)                  \n",
    "2. [Modelling](#Modelling)        \n",
    "    2.1 [Neural Network](#NN)    \n",
    "    2.2 [word2vec](#w2v)\n",
    "    2.3 [Logistic regression with word2vec](#log_w2v)    \n",
    "    2.4 [Neural Network with word2vec](#NN_w2v)                      \n",
    "3. [Conclusion](#conclusion)    "
   ]
  },
  {
   "cell_type": "markdown",
   "metadata": {},
   "source": [
    "Import required libraries.   "
   ]
  },
  {
   "cell_type": "code",
   "execution_count": 1,
   "metadata": {},
   "outputs": [],
   "source": [
    "# Basic data science packages\n",
    "import pandas as pd \n",
    "import numpy as np\n",
    "import matplotlib.pyplot as plt\n",
    "\n",
    "# Text data packages\n",
    "import nltk\n",
    "from nltk.corpus import stopwords\n",
    "from  nltk.stem import SnowballStemmer\n",
    "from sklearn.feature_extraction.text import CountVectorizer, TfidfVectorizer\n",
    "\n",
    "# Other required packages\n",
    "from sklearn.model_selection import train_test_split, cross_val_score, GridSearchCV\n",
    "\n",
    "\n",
    "# modeling and metrics\n",
    "from sklearn.metrics import mean_absolute_error\n",
    "from sklearn.metrics import make_scorer\n",
    "\n",
    "from sklearn.dummy import DummyRegressor\n",
    "\n",
    "\n",
    "import pickle\n",
    "import joblib\n",
    "\n",
    "from sklearn.pipeline import Pipeline\n",
    "\n",
    "\n",
    "# Neural network packages\n",
    "import tensorflow as tf\n",
    "from tensorflow import keras\n",
    "from tensorflow.keras import layers\n",
    "import gensim\n",
    "from gensim.utils import simple_preprocess\n",
    "from tensorflow.keras.callbacks import EarlyStopping\n",
    "from nltk.tokenize import word_tokenize\n",
    "from nltk.stem import WordNetLemmatizer"
   ]
  },
  {
   "cell_type": "markdown",
   "metadata": {},
   "source": [
    "Let's start with training a simple neural network model on vectorized data."
   ]
  },
  {
   "cell_type": "code",
   "execution_count": 2,
   "metadata": {},
   "outputs": [],
   "source": [
    "df_clean_whole = pd.read_csv('../data/cleaned_data.csv')"
   ]
  },
  {
   "cell_type": "code",
   "execution_count": 3,
   "metadata": {},
   "outputs": [
    {
     "data": {
      "text/html": [
       "<div>\n",
       "<style scoped>\n",
       "    .dataframe tbody tr th:only-of-type {\n",
       "        vertical-align: middle;\n",
       "    }\n",
       "\n",
       "    .dataframe tbody tr th {\n",
       "        vertical-align: top;\n",
       "    }\n",
       "\n",
       "    .dataframe thead th {\n",
       "        text-align: right;\n",
       "    }\n",
       "</style>\n",
       "<table border=\"1\" class=\"dataframe\">\n",
       "  <thead>\n",
       "    <tr style=\"text-align: right;\">\n",
       "      <th></th>\n",
       "      <th>Unnamed: 0</th>\n",
       "      <th>ids</th>\n",
       "      <th>date</th>\n",
       "      <th>user</th>\n",
       "      <th>text</th>\n",
       "      <th>target</th>\n",
       "    </tr>\n",
       "  </thead>\n",
       "  <tbody>\n",
       "    <tr>\n",
       "      <th>0</th>\n",
       "      <td>0</td>\n",
       "      <td>1467810369</td>\n",
       "      <td>2009-04-06 22:19:45</td>\n",
       "      <td>_TheSpecialOne_</td>\n",
       "      <td>Awww thats a bummer You shoulda got David Carr...</td>\n",
       "      <td>0</td>\n",
       "    </tr>\n",
       "    <tr>\n",
       "      <th>1</th>\n",
       "      <td>1</td>\n",
       "      <td>1467810672</td>\n",
       "      <td>2009-04-06 22:19:49</td>\n",
       "      <td>scotthamilton</td>\n",
       "      <td>is upset that he cant update his Facebook by t...</td>\n",
       "      <td>0</td>\n",
       "    </tr>\n",
       "    <tr>\n",
       "      <th>2</th>\n",
       "      <td>2</td>\n",
       "      <td>1467810917</td>\n",
       "      <td>2009-04-06 22:19:53</td>\n",
       "      <td>mattycus</td>\n",
       "      <td>I dived many times for the ball Managed to sav...</td>\n",
       "      <td>0</td>\n",
       "    </tr>\n",
       "    <tr>\n",
       "      <th>3</th>\n",
       "      <td>3</td>\n",
       "      <td>1467811184</td>\n",
       "      <td>2009-04-06 22:19:57</td>\n",
       "      <td>ElleCTF</td>\n",
       "      <td>my whole body feels itchy and like its on fire</td>\n",
       "      <td>0</td>\n",
       "    </tr>\n",
       "    <tr>\n",
       "      <th>4</th>\n",
       "      <td>4</td>\n",
       "      <td>1467811193</td>\n",
       "      <td>2009-04-06 22:19:57</td>\n",
       "      <td>Karoli</td>\n",
       "      <td>no its not behaving at all im mad why am i her...</td>\n",
       "      <td>0</td>\n",
       "    </tr>\n",
       "  </tbody>\n",
       "</table>\n",
       "</div>"
      ],
      "text/plain": [
       "   Unnamed: 0         ids                 date             user  \\\n",
       "0           0  1467810369  2009-04-06 22:19:45  _TheSpecialOne_   \n",
       "1           1  1467810672  2009-04-06 22:19:49    scotthamilton   \n",
       "2           2  1467810917  2009-04-06 22:19:53         mattycus   \n",
       "3           3  1467811184  2009-04-06 22:19:57          ElleCTF   \n",
       "4           4  1467811193  2009-04-06 22:19:57           Karoli   \n",
       "\n",
       "                                                text  target  \n",
       "0  Awww thats a bummer You shoulda got David Carr...       0  \n",
       "1  is upset that he cant update his Facebook by t...       0  \n",
       "2  I dived many times for the ball Managed to sav...       0  \n",
       "3     my whole body feels itchy and like its on fire       0  \n",
       "4  no its not behaving at all im mad why am i her...       0  "
      ]
     },
     "execution_count": 3,
     "metadata": {},
     "output_type": "execute_result"
    }
   ],
   "source": [
    "df_clean_whole.head()"
   ]
  },
  {
   "cell_type": "code",
   "execution_count": 4,
   "metadata": {},
   "outputs": [],
   "source": [
    "#take a sample from this data set \n",
    "df_clean = df_clean_whole.sample(frac=0.1, random_state=1).copy()"
   ]
  },
  {
   "cell_type": "code",
   "execution_count": 5,
   "metadata": {},
   "outputs": [
    {
     "data": {
      "text/plain": [
       "(153270, 6)"
      ]
     },
     "execution_count": 5,
     "metadata": {},
     "output_type": "execute_result"
    }
   ],
   "source": [
    "df_clean.shape"
   ]
  },
  {
   "cell_type": "code",
   "execution_count": 6,
   "id": "d8a2626f",
   "metadata": {},
   "outputs": [],
   "source": [
    "#tokenize the data \n",
    "df_clean['cleaned_text'] = df_clean['text'].apply(lambda x: word_tokenize(x))"
   ]
  },
  {
   "cell_type": "markdown",
   "metadata": {},
   "source": [
    "## Data Transformation  <a name=\"transformation\"></a>"
   ]
  },
  {
   "cell_type": "markdown",
   "metadata": {},
   "source": [
    "Our goal is to predict sentiment for a given tweet. Stop words such as the, a, an etc. do not contribute to the sentiment for a sentence. I am removing the stop words from tokenized data. "
   ]
  },
  {
   "cell_type": "code",
   "execution_count": 8,
   "id": "e7501634",
   "metadata": {},
   "outputs": [],
   "source": [
    "#create a list of stop words \n",
    "stop_words = stopwords.words('english')"
   ]
  },
  {
   "cell_type": "code",
   "execution_count": 9,
   "id": "892e025a",
   "metadata": {},
   "outputs": [],
   "source": [
    "#remove stop words from tokenized data\n",
    "df_clean['cleaned_text'] = df_clean['cleaned_text'].apply(lambda x: [word for word in x if word.casefold() not in stop_words])"
   ]
  },
  {
   "cell_type": "markdown",
   "metadata": {},
   "source": [
    "Perform stemming."
   ]
  },
  {
   "cell_type": "code",
   "execution_count": 10,
   "metadata": {},
   "outputs": [],
   "source": [
    "snowball_stemmer = SnowballStemmer(language='english')\n",
    "wordnet_stemmer = WordNetLemmatizer()"
   ]
  },
  {
   "cell_type": "code",
   "execution_count": 11,
   "id": "0691d265",
   "metadata": {},
   "outputs": [],
   "source": [
    "#perform stemming or lemmetization\n",
    "df_clean['cleaned_text'] = df_clean['cleaned_text'].apply(lambda x: [snowball_stemmer.stem(word) for word in x])  "
   ]
  },
  {
   "cell_type": "markdown",
   "metadata": {},
   "source": [
    "Split data into training and validation sets.   "
   ]
  },
  {
   "cell_type": "code",
   "execution_count": 17,
   "metadata": {},
   "outputs": [],
   "source": [
    "X = df_clean['cleaned_text'].apply(lambda x: ' '.join(x))\n",
    "y = df_clean['target']"
   ]
  },
  {
   "cell_type": "code",
   "execution_count": 18,
   "metadata": {},
   "outputs": [],
   "source": [
    "X_train, X_validation, y_train, y_validation = train_test_split(X, y, train_size=0.8, stratify=y)"
   ]
  },
  {
   "cell_type": "markdown",
   "metadata": {},
   "source": [
    "Transform tokens to document term matrix.  "
   ]
  },
  {
   "cell_type": "code",
   "execution_count": 19,
   "metadata": {},
   "outputs": [],
   "source": [
    "tfidf_vectorizer = TfidfVectorizer(min_df=20)"
   ]
  },
  {
   "cell_type": "code",
   "execution_count": 20,
   "metadata": {},
   "outputs": [
    {
     "data": {
      "text/plain": [
       "TfidfVectorizer(min_df=20)"
      ]
     },
     "execution_count": 20,
     "metadata": {},
     "output_type": "execute_result"
    }
   ],
   "source": [
    "tfidf_vectorizer.fit(X_train)"
   ]
  },
  {
   "cell_type": "code",
   "execution_count": 21,
   "metadata": {},
   "outputs": [
    {
     "data": {
      "text/plain": [
       "<122616x3805 sparse matrix of type '<class 'numpy.float64'>'\n",
       "\twith 751712 stored elements in Compressed Sparse Row format>"
      ]
     },
     "execution_count": 21,
     "metadata": {},
     "output_type": "execute_result"
    }
   ],
   "source": [
    "X_train_transformed = tfidf_vectorizer.transform(X_train)\n",
    "X_train_transformed"
   ]
  },
  {
   "cell_type": "code",
   "execution_count": 22,
   "metadata": {},
   "outputs": [],
   "source": [
    "X_validation_transformed = tfidf_vectorizer.transform(X_validation)"
   ]
  },
  {
   "cell_type": "markdown",
   "metadata": {},
   "source": [
    "## Modelling <a name=\"Modelling\"></a> "
   ]
  },
  {
   "cell_type": "markdown",
   "metadata": {},
   "source": [
    "### Neural Network <a name=\"NN\"></a> "
   ]
  },
  {
   "cell_type": "markdown",
   "metadata": {},
   "source": [
    "Keras only deals with dense arrays so let's convert sparse matrix to dense array. "
   ]
  },
  {
   "cell_type": "code",
   "execution_count": 176,
   "metadata": {},
   "outputs": [],
   "source": [
    "#convert arrays to dense array so that keras can handle it\n",
    "X_train_transformed = X_train_transformed.toarray()\n",
    "X_validation_transformed = X_validation_transformed.toarray()"
   ]
  },
  {
   "cell_type": "markdown",
   "metadata": {},
   "source": [
    "Create a simple neural network to train.    "
   ]
  },
  {
   "cell_type": "code",
   "execution_count": 183,
   "metadata": {},
   "outputs": [
    {
     "name": "stdout",
     "output_type": "stream",
     "text": [
      "Restoring model weights from the end of the best epoch.\n",
      "Epoch 00012: early stopping\n"
     ]
    }
   ],
   "source": [
    "#let's create a simple neural network \n",
    "# Create a new sequential model\n",
    "model = keras.Sequential()\n",
    "\n",
    "# Declare the hidden layers\n",
    "model.add(layers.Dense(128, activation=\"relu\", kernel_initializer = 'glorot_uniform'))\n",
    "model.add(layers.Dropout(0.20)) #dropout layers for regularization \n",
    "model.add(layers.Dense(128, activation=\"relu\", kernel_initializer = 'glorot_uniform'))\n",
    "model.add(layers.Dropout(0.15))\n",
    "model.add(layers.Dense(128, activation=\"relu\", kernel_initializer = 'glorot_uniform'))\n",
    "model.add(layers.Dropout(0.1))\n",
    "\n",
    "\n",
    "# Declare the output layer\n",
    "model.add(layers.Dense(1, activation=\"sigmoid\"))\n",
    "\n",
    "# Compile the model\n",
    "model.compile(\n",
    "    optimizer=keras.optimizers.Adam(), #optimizer\n",
    "    loss=keras.losses.BinaryCrossentropy(), #Loss function to minimize\n",
    "    metrics=[keras.metrics.BinaryAccuracy()] #Metrics used to evalute the model \n",
    ")\n",
    "\n",
    "\n",
    "\n",
    "#define the stopping criteria \n",
    "callbacks = EarlyStopping(monitor='val_loss', \n",
    "                       patience=10, \n",
    "                       mode='min', \n",
    "                       verbose=1,\n",
    "                       restore_best_weights=True)\n",
    "\n",
    "#fit the model \n",
    "\n",
    "history = model.fit(X_train_transformed, \n",
    "                    y_train, \n",
    "                    epochs=20, # the data set is fed through the model 20 times \n",
    "                    verbose=0, \n",
    "                    # Pass in a validation data set to test each epoch.\n",
    "                    callbacks=[callbacks],\n",
    "                    validation_data=(X_validation_transformed, y_validation)) \n",
    "\n"
   ]
  },
  {
   "cell_type": "markdown",
   "metadata": {},
   "source": [
    "Let's plot the model loss with number of epochs.    "
   ]
  },
  {
   "cell_type": "code",
   "execution_count": 185,
   "metadata": {},
   "outputs": [
    {
     "data": {
      "image/png": "[encoded data removed]",
      "text/plain": [
       "<Figure size 1080x432 with 1 Axes>"
      ]
     },
     "metadata": {
      "needs_background": "light"
     },
     "output_type": "display_data"
    }
   ],
   "source": [
    "plt.figure(figsize=(15, 6))\n",
    "plt.plot(history.history['loss'])\n",
    "plt.plot(history.history['val_loss'])\n",
    "plt.title('Model Loss')\n",
    "plt.ylabel('Loss')\n",
    "plt.xlabel('Epoch')\n",
    "plt.legend(['Train', 'Validation'])\n",
    "plt.show()"
   ]
  },
  {
   "cell_type": "markdown",
   "metadata": {},
   "source": [
    "We can see that the training loss goes down with number of epochs while validation loss goes up with the number of epochs. The increase in validation loss represent that the model is learning noise and overfitting.  "
   ]
  },
  {
   "cell_type": "code",
   "execution_count": 196,
   "metadata": {},
   "outputs": [
    {
     "data": {
      "image/png": "[encoded data removed]",
      "text/plain": [
       "<Figure size 432x288 with 1 Axes>"
      ]
     },
     "metadata": {
      "needs_background": "light"
     },
     "output_type": "display_data"
    }
   ],
   "source": [
    "# plot accuracy\n",
    "plt.plot(history.history['binary_accuracy'])\n",
    "plt.plot(history.history['val_binary_accuracy'])\n",
    "plt.vlines(np.argmax(history.history['val_binary_accuracy']), ymin=0.71, ymax=0.95, linestyles='--', colors='red')\n",
    "plt.title('model accuracy')\n",
    "plt.ylabel('accuracy')\n",
    "plt.xlabel('epoch')\n",
    "plt.legend(['train', 'val'], loc='upper left')\n",
    "plt.show()"
   ]
  },
  {
   "cell_type": "markdown",
   "metadata": {},
   "source": [
    "The figure above shows the model accuracy with the number of epochs. Training accuracy goes up while the validation accuracy goes down after certain number of epochs. This is the point after which complex patterns are learned by the model and model overfits.    "
   ]
  },
  {
   "cell_type": "markdown",
   "metadata": {},
   "source": [
    "the maximum validation score is 0.76 when epoch is 1. \n",
    "\n",
    "Let's predict sentiment for the following sentence.   \n"
   ]
  },
  {
   "cell_type": "code",
   "execution_count": 201,
   "metadata": {},
   "outputs": [],
   "source": [
    "tweet = \"I like machine learning but deep learning is love\"\n",
    "#tokenize data \n",
    "snowball_stemmer = SnowballStemmer(language='english')\n",
    "stop_words = stopwords.words('english')\n",
    "\n",
    "tokenized_text = word_tokenize(tweet)\n",
    "cleaned_text = [word for word in tokenized_text if word.casefold() not in stop_words]\n",
    "cleaned_text = [snowball_stemmer.stem(word) for word in cleaned_text]"
   ]
  },
  {
   "cell_type": "code",
   "execution_count": 202,
   "metadata": {},
   "outputs": [],
   "source": [
    "#transform data\n",
    "tweet_transformed = tfidf_vectorizer.transform(cleaned_text).toarray()"
   ]
  },
  {
   "cell_type": "code",
   "execution_count": 206,
   "metadata": {},
   "outputs": [
    {
     "name": "stdout",
     "output_type": "stream",
     "text": [
      "tweet has positive sentiment\n"
     ]
    }
   ],
   "source": [
    "#predict sentiment \n",
    "prob_sent = np.mean(model.predict(tweet_transformed))\n",
    "if prob_sent > 0.5:\n",
    "    print('tweet has positive sentiment')\n",
    "else:\n",
    "    print('tweet has negative sentiment')"
   ]
  },
  {
   "cell_type": "markdown",
   "metadata": {},
   "source": [
    "Our neural network thinks that the sentence has positive sentiment which is kind of true :P        \n",
    "\n",
    "Save the keras model for later use. "
   ]
  },
  {
   "cell_type": "code",
   "execution_count": 208,
   "metadata": {},
   "outputs": [
    {
     "name": "stdout",
     "output_type": "stream",
     "text": [
      "WARNING:tensorflow:From C:\\Users\\sharm.LAPTOP-118C54MT\\AppData\\Roaming\\Python\\Python38\\site-packages\\tensorflow\\python\\ops\\resource_variable_ops.py:1813: calling BaseResourceVariable.__init__ (from tensorflow.python.ops.resource_variable_ops) with constraint is deprecated and will be removed in a future version.\n",
      "Instructions for updating:\n",
      "If using Keras pass *_constraint arguments to layers.\n",
      "INFO:tensorflow:Assets written to: basic_neural_network\\assets\n"
     ]
    }
   ],
   "source": [
    "#save the model \n",
    "model.save('basic_neural_network')\n",
    "#you can load this model by `keras.models.load_model('path/to/location')`"
   ]
  },
  {
   "cell_type": "markdown",
   "metadata": {},
   "source": [
    "### word2vec <a name=\"W2v\"></a> "
   ]
  },
  {
   "cell_type": "markdown",
   "metadata": {},
   "source": [
    "Until now we have predicted sentiment based on the words observed in training data. For example if the word `good` is in the tweet, the tweet has positive sentiment. Similarly, if the word `best` is not in the training set, our model will not be able to predict the sentiment for this tweet even though both the words has a similar sentiment. In order to make our model learn from similar words in the training set, we can use word embeddings. \n",
    "\n",
    "Word embedding is a high dimensional vector representation of words. These vectors are positioned in such a way that the distance between two similar words is minimum. We can use word embeddings to train models on not only the words in the training set but also the similar words from vocabulary of words used to train these word embeddings. "
   ]
  },
  {
   "cell_type": "code",
   "execution_count": 16,
   "metadata": {},
   "outputs": [],
   "source": [
    "# load the word2vec word embeddings\n",
    "import gensim\n",
    "word2vec = gensim.models.KeyedVectors.load_word2vec_format(\n",
    "    '../data/lexvec.enwiki+newscrawl.300d.W.pos.vectors', binary=False\n",
    ")"
   ]
  },
  {
   "cell_type": "markdown",
   "metadata": {},
   "source": [
    "Let's create sentence embeddings for our data."
   ]
  },
  {
   "cell_type": "markdown",
   "metadata": {},
   "source": [
    "First, tokenize all the documents in the training set using simple_preprocess function. "
   ]
  },
  {
   "cell_type": "code",
   "execution_count": 24,
   "metadata": {},
   "outputs": [],
   "source": [
    "# tokenize feature  \n",
    "df_clean['tokenized'] = df_clean['text'].apply(lambda x: simple_preprocess(x))"
   ]
  },
  {
   "cell_type": "markdown",
   "metadata": {},
   "source": [
    "Let's store word embeddings for each of the word of a document in a list. If the word present is not found in the vocabulary on which the word embeddings were trained, we will assume it to be zero.  "
   ]
  },
  {
   "cell_type": "code",
   "execution_count": 28,
   "metadata": {},
   "outputs": [],
   "source": [
    "X_emb = df_clean.tokenized.apply(lambda x: [word2vec[word] if word in word2vec else np.zeros(300) for word in x])"
   ]
  },
  {
   "cell_type": "markdown",
   "metadata": {},
   "source": [
    "Check out the shape of first document's word embedding. This document has six words hence the shape is `(6, 300)`. "
   ]
  },
  {
   "cell_type": "code",
   "execution_count": 41,
   "metadata": {},
   "outputs": [
    {
     "data": {
      "text/plain": [
       "(6, 300)"
      ]
     },
     "execution_count": 41,
     "metadata": {},
     "output_type": "execute_result"
    }
   ],
   "source": [
    "np.stack(X_emb.iloc[0]).shape"
   ]
  },
  {
   "cell_type": "markdown",
   "metadata": {},
   "source": [
    "To find embedding for a document, let's average embeddings for six words. This can be done using the following function. "
   ]
  },
  {
   "cell_type": "code",
   "execution_count": 50,
   "metadata": {},
   "outputs": [],
   "source": [
    "def average_emd(x):\n",
    "    \"\"\"returns average value from a numpy array\n",
    "    Parameter\n",
    "    ---------\n",
    "    x: np.array, array on which average will be taken\n",
    "    Returns\n",
    "    -------\n",
    "    np.array\"\"\"\n",
    "    \n",
    "    #if there is embedding for a document \n",
    "    if len(x) > 0:\n",
    "        return np.stack(x).mean(axis=0)\n",
    "    #if there is no embedding for the document\n",
    "    else:\n",
    "        return np.zeros(300)"
   ]
  },
  {
   "cell_type": "code",
   "execution_count": 53,
   "metadata": {},
   "outputs": [],
   "source": [
    "X_emb = np.array(X_emb.apply(average_emd).tolist())"
   ]
  },
  {
   "cell_type": "markdown",
   "metadata": {},
   "source": [
    "Split data into training and validation set"
   ]
  },
  {
   "cell_type": "code",
   "execution_count": 54,
   "metadata": {},
   "outputs": [],
   "source": [
    "X_train, X_validation, y_train, y_validation = train_test_split(X_emb, df_clean['target'], train_size=0.8, stratify=y)"
   ]
  },
  {
   "cell_type": "markdown",
   "metadata": {},
   "source": [
    "### Logistic regression with word2vec <a name=\"log_W2v\"></a> "
   ]
  },
  {
   "cell_type": "markdown",
   "metadata": {},
   "source": [
    "Now that we have sentence embeddings, we can take these embeddings as new features and train additional models on them.   \n",
    "\n",
    "In the previous notebook we have seen that logistic regression was performing better than other models, so let's first train a logistic regression model.   "
   ]
  },
  {
   "cell_type": "code",
   "execution_count": 56,
   "metadata": {},
   "outputs": [],
   "source": [
    "#let's train a logistic regression model on this data \n",
    "from sklearn.linear_model import LogisticRegression\n"
   ]
  },
  {
   "cell_type": "code",
   "execution_count": 57,
   "metadata": {},
   "outputs": [],
   "source": [
    "#initialize model \n",
    "log_model = LogisticRegression(C=0.1, max_iter=1000)"
   ]
  },
  {
   "cell_type": "code",
   "execution_count": 58,
   "metadata": {},
   "outputs": [
    {
     "data": {
      "text/plain": [
       "LogisticRegression(C=0.1, max_iter=1000)"
      ]
     },
     "execution_count": 58,
     "metadata": {},
     "output_type": "execute_result"
    }
   ],
   "source": [
    "#fit the model \n",
    "log_model.fit(X_train, y_train)"
   ]
  },
  {
   "cell_type": "code",
   "execution_count": 60,
   "metadata": {},
   "outputs": [
    {
     "data": {
      "text/plain": [
       "0.726430482155673"
      ]
     },
     "execution_count": 60,
     "metadata": {},
     "output_type": "execute_result"
    }
   ],
   "source": [
    "#predict accuracy \n",
    "log_model.score(X_validation, y_validation)"
   ]
  },
  {
   "cell_type": "markdown",
   "metadata": {},
   "source": [
    "The accuracy of logistic regression model is 0.73 which is similar to the basic neural network. Let's optimize the hyper parameter for logistic regression model. "
   ]
  },
  {
   "cell_type": "code",
   "execution_count": 62,
   "metadata": {},
   "outputs": [],
   "source": [
    "#create a pipeline \n",
    "C = [0.001, 0.01, 0.1, 1, 10, 10, 100]\n",
    "score_dict = {'C':C, 'train_score': [], 'validation_score': []}\n",
    "\n",
    "for c in C:\n",
    "\n",
    "    log_model = LogisticRegression(C=c)\n",
    "\n",
    "    log_model.fit(X_train, y_train)\n",
    "\n",
    "    score_dict['train_score'].append(log_model.score(X_train, y_train))\n",
    "    score_dict['validation_score'].append(log_model.score(X_validation, y_validation))"
   ]
  },
  {
   "cell_type": "code",
   "execution_count": 64,
   "metadata": {},
   "outputs": [
    {
     "data": {
      "image/png": "[encoded data removed]",
      "text/plain": [
       "<Figure size 432x288 with 1 Axes>"
      ]
     },
     "metadata": {
      "needs_background": "light"
     },
     "output_type": "display_data"
    }
   ],
   "source": [
    "pd.DataFrame(score_dict).plot(x= 'C', y=['train_score', 'validation_score'])\n",
    "plt.ylabel('score')\n",
    "plt.title('score with C')\n",
    "plt.xscale('log')"
   ]
  },
  {
   "cell_type": "markdown",
   "metadata": {},
   "source": [
    "### Neural Network with word2vec <a name=\"NN_W2v\"></a> "
   ]
  },
  {
   "cell_type": "markdown",
   "metadata": {},
   "source": [
    "We can see from the plot above that the optimum value of C where validation score becomes maximum is 0.1. The accuracy of logistic regression model on sample data with sentence embedding as a feature is 0.73. The accuracy for logistic regression on the whole data was 0.77. The accuracy of 0.73 on the 10 percent sample is not bad and the next steps should be to get sentence embeddings for whole data set and train different models.\n",
    "\n",
    "Let's also train a neural network on these sentence embeddings. "
   ]
  },
  {
   "cell_type": "code",
   "execution_count": 67,
   "metadata": {},
   "outputs": [
    {
     "name": "stdout",
     "output_type": "stream",
     "text": [
      "Restoring model weights from the end of the best epoch.\n",
      "Epoch 00016: early stopping\n"
     ]
    }
   ],
   "source": [
    "#let's try a neural network on these embedding vectors\n",
    "# random seeds for reproducibility\n",
    "np.random.seed(123)\n",
    "tf.random.set_seed(123)\n",
    "\n",
    "# create a new sequential model\n",
    "model = keras.Sequential()\n",
    "\n",
    "model.add(layers.Dense(128, activation=\"relu\"))\n",
    "model.add(layers.Dropout(0.2))\n",
    "model.add(layers.Dense(128, activation=\"relu\"))\n",
    "model.add(layers.Dropout(0.15))\n",
    "model.add(layers.Dense(64, activation=\"relu\"))\n",
    "model.add(layers.Dropout(0.15))\n",
    "model.add(layers.Dense(2, activation=\"softmax\")) # output layer\n",
    "\n",
    "model.compile(\n",
    "    optimizer=keras.optimizers.Adam(), \n",
    "    loss=keras.losses.SparseCategoricalCrossentropy(),\n",
    "    metrics=keras.metrics.SparseCategoricalAccuracy()\n",
    ")\n",
    "\n",
    "\n",
    "\n",
    "#define the stopping criteria \n",
    "callbacks = EarlyStopping(monitor='val_loss', \n",
    "                       patience=10, \n",
    "                       mode='min', \n",
    "                       verbose=1,\n",
    "                       restore_best_weights=True)\n",
    "\n",
    "#fit the model \n",
    "\n",
    "history = model.fit(X_train, \n",
    "                    y_train, \n",
    "                    epochs=20, # the data set is fed through the model 20 times \n",
    "                    verbose=0, \n",
    "                    # Pass in a validation data set to test each epoch.\n",
    "                    callbacks=[callbacks],\n",
    "                    validation_data=(X_validation, y_validation)) "
   ]
  },
  {
   "cell_type": "code",
   "execution_count": 68,
   "metadata": {},
   "outputs": [
    {
     "data": {
      "image/png": "[encoded data removed]",
      "text/plain": [
       "<Figure size 1080x432 with 1 Axes>"
      ]
     },
     "metadata": {
      "needs_background": "light"
     },
     "output_type": "display_data"
    }
   ],
   "source": [
    "plt.figure(figsize=(15, 6))\n",
    "plt.plot(history.history['loss'])\n",
    "plt.plot(history.history['val_loss'])\n",
    "plt.title('Model Loss')\n",
    "plt.ylabel('Loss')\n",
    "plt.xlabel('Epoch')\n",
    "plt.legend(['Train', 'Validation'])\n",
    "plt.show()"
   ]
  },
  {
   "cell_type": "markdown",
   "metadata": {},
   "source": [
    "The figure above shows the change in loss over number of epochs. We can see that the training loss decreases while the validation set loss increases with increase in number of epochs. Let's plot accuracy of model with number of epochs.     "
   ]
  },
  {
   "cell_type": "code",
   "execution_count": 72,
   "metadata": {},
   "outputs": [
    {
     "data": {
      "image/png": "[encoded data removed]",
      "text/plain": [
       "<Figure size 432x288 with 1 Axes>"
      ]
     },
     "metadata": {
      "needs_background": "light"
     },
     "output_type": "display_data"
    }
   ],
   "source": [
    "plt.plot(history.history['sparse_categorical_accuracy'])\n",
    "plt.plot(history.history['val_sparse_categorical_accuracy'])\n",
    "plt.title('model accuracy')\n",
    "plt.ylabel('accuracy')\n",
    "plt.xlabel('epoch')\n",
    "plt.legend(['train', 'val'], loc='upper left')\n",
    "plt.show()"
   ]
  },
  {
   "cell_type": "markdown",
   "metadata": {},
   "source": [
    "From the figure above we can see that the accuracy of model on training set increases while on validation set decrease with increase in the number of epochs. The accuracy on validation set becomes constant after a point. This is the point after which overfitting occurs. \n",
    "\n",
    "It should be note here that the accuracy of neural network on sentence embeddings of only 10 percent of the data is 0.75 percent. If we can have enough computational power to use whole data the accuracy of neural network can exceed 0.77 which was the accuracy of logistic regression model on whole data set.      "
   ]
  },
  {
   "cell_type": "markdown",
   "metadata": {},
   "source": [
    "## Conclusion     <a name=\"conclusion\"></a> \n",
    "\n",
    "In this notebook, we used deep learning models to predict sentiment for the tweets. First a simple neural network was trained on a 10 percent sample of whole data set. The accuracy of neural network was 0.72 on the sample of dataset which was better than some of the machine learning classifiers even when they were trained on the whole data set.     \n",
    "\n",
    "Second, word2vec model was used to generate word embeddings for each of the word in the sample dataset. These word embeddings then were used to generate sentence embeddings. The sentence embeddings were used as features to train logistic regression and neural network. \n",
    "\n",
    "It was found that the neural network trained on the sentence embeddings had a score of 0.75 on validation set even though it was only trained only on the 10 percent of the data set.    \n",
    "\n",
    "The next steps for this study can be to get enough computational power and train a neural network on the whole dataset to improve accuracy.    \n",
    "\n",
    "\n",
    "After training these advanced models, we will test our logistic regression model on the data scrapped from twitter.   "
   ]
  },
  {
   "cell_type": "markdown",
   "metadata": {},
   "source": []
  }
 ],
 "metadata": {
  "interpreter": {
   "hash": "fe3e4ff462899b486b9163665ff890ebf517273e1fd85c1abd58b8741c9e644b"
  },
  "kernelspec": {
   "display_name": "Python 3.8.12",
   "language": "python",
   "name": "python3"
  },
  "language_info": {
   "codemirror_mode": {
    "name": "ipython",
    "version": 3
   },
   "file_extension": ".py",
   "mimetype": "text/x-python",
   "name": "python",
   "nbconvert_exporter": "python",
   "pygments_lexer": "ipython3",
   "version": "3.8.12"
  },
  "orig_nbformat": 4
 },
 "nbformat": 4,
 "nbformat_minor": 2
}
