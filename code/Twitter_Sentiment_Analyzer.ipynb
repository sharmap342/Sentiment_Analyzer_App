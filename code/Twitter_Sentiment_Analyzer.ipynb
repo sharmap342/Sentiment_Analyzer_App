{
 "cells": [
  {
   "cell_type": "code",
   "execution_count": 94,
   "metadata": {},
   "outputs": [],
   "source": [
    "#import required libraries\n",
    "import numpy as np\n",
    "import pandas as pd\n",
    "\n",
    "import matplotlib.pyplot as plt\n",
    "plt.style.use('default')"
   ]
  },
  {
   "cell_type": "markdown",
   "metadata": {},
   "source": [
    "## Data Preparation and Exploration"
   ]
  },
  {
   "cell_type": "markdown",
   "metadata": {},
   "source": [
    "### Dataset<br>\n",
    "\n",
    "This is the sentiment140 dataset that was extracted using twitter's API by [Go et al. (2009)](https://www-cs.stanford.edu/people/alecmgo/papers/TwitterDistantSupervision09.pdf).<br>  \n",
    "\n",
    "This dataset contains 1,600,000 tweets for multiple user in the year 2009. The tweets have been annotated (0 = negative, 2 = neutral, 4 = positive) based on emoticons in the tweets. The authors have annotated a tweet if it contains a tweet with positive emoticon like, :) else the tweet was annotated as negative if it contains a negative emoticon like :(. The tweets were scrapped from twitter using keyword in twitter's API.<br>  \n",
    "\n",
    "A tweet was considered as neutral if it could ever appear as a frontpage newspaper headline or as a\n",
    "sentence in Wikipedia. Different emoticons used for annotation are given in Table 1. For more information on target annotation for dataset please follow [this article](https://www-cs.stanford.edu/people/alecmgo/papers/TwitterDistantSupervision09.pdf).<br>    \n",
    "\n",
    "Table 1. Emoticons used for annotation<br>   \n",
    "\n",
    "| Emoticons mapped to :)  | Emoticons mapped to :(  |\n",
    "|---|---|\n",
    "| :-)  |  :-( |   \n",
    "| : )  |  : ( |  \n",
    "| :D  |   |   \n",
    "| =)  |   |  \n",
    "<br>   \n",
    "\n",
    "### Data Dictionary<br>   \n",
    "\n",
    "- ids - ID of the tweet  \n",
    "- date - Date on which tweet was posted\n",
    "- flag  - The query (lyx). If there is no query, then this value is NO_QUERY. \n",
    "- user - User who posted the tweet\n",
    "- text - Message in the tweet\n",
    "- target - Sentiment of the tweet\n"
   ]
  },
  {
   "cell_type": "code",
   "execution_count": 9,
   "metadata": {},
   "outputs": [],
   "source": [
    "df = pd.read_csv('../data/data_set.csv', encoding=\"ISO-8859-1\",\n",
    "                 names=[\"target\", \"ids\", \"date\", \"flag\", \"user\", \"text\"])"
   ]
  },
  {
   "cell_type": "code",
   "execution_count": 10,
   "metadata": {},
   "outputs": [
    {
     "data": {
      "text/html": [
       "<div>\n",
       "<style scoped>\n",
       "    .dataframe tbody tr th:only-of-type {\n",
       "        vertical-align: middle;\n",
       "    }\n",
       "\n",
       "    .dataframe tbody tr th {\n",
       "        vertical-align: top;\n",
       "    }\n",
       "\n",
       "    .dataframe thead th {\n",
       "        text-align: right;\n",
       "    }\n",
       "</style>\n",
       "<table border=\"1\" class=\"dataframe\">\n",
       "  <thead>\n",
       "    <tr style=\"text-align: right;\">\n",
       "      <th></th>\n",
       "      <th>target</th>\n",
       "      <th>ids</th>\n",
       "      <th>date</th>\n",
       "      <th>flag</th>\n",
       "      <th>user</th>\n",
       "      <th>text</th>\n",
       "    </tr>\n",
       "  </thead>\n",
       "  <tbody>\n",
       "    <tr>\n",
       "      <th>0</th>\n",
       "      <td>0</td>\n",
       "      <td>1467810369</td>\n",
       "      <td>Mon Apr 06 22:19:45 PDT 2009</td>\n",
       "      <td>NO_QUERY</td>\n",
       "      <td>_TheSpecialOne_</td>\n",
       "      <td>@switchfoot http://twitpic.com/2y1zl - Awww, t...</td>\n",
       "    </tr>\n",
       "    <tr>\n",
       "      <th>1</th>\n",
       "      <td>0</td>\n",
       "      <td>1467810672</td>\n",
       "      <td>Mon Apr 06 22:19:49 PDT 2009</td>\n",
       "      <td>NO_QUERY</td>\n",
       "      <td>scotthamilton</td>\n",
       "      <td>is upset that he can't update his Facebook by ...</td>\n",
       "    </tr>\n",
       "    <tr>\n",
       "      <th>2</th>\n",
       "      <td>0</td>\n",
       "      <td>1467810917</td>\n",
       "      <td>Mon Apr 06 22:19:53 PDT 2009</td>\n",
       "      <td>NO_QUERY</td>\n",
       "      <td>mattycus</td>\n",
       "      <td>@Kenichan I dived many times for the ball. Man...</td>\n",
       "    </tr>\n",
       "    <tr>\n",
       "      <th>3</th>\n",
       "      <td>0</td>\n",
       "      <td>1467811184</td>\n",
       "      <td>Mon Apr 06 22:19:57 PDT 2009</td>\n",
       "      <td>NO_QUERY</td>\n",
       "      <td>ElleCTF</td>\n",
       "      <td>my whole body feels itchy and like its on fire</td>\n",
       "    </tr>\n",
       "    <tr>\n",
       "      <th>4</th>\n",
       "      <td>0</td>\n",
       "      <td>1467811193</td>\n",
       "      <td>Mon Apr 06 22:19:57 PDT 2009</td>\n",
       "      <td>NO_QUERY</td>\n",
       "      <td>Karoli</td>\n",
       "      <td>@nationwideclass no, it's not behaving at all....</td>\n",
       "    </tr>\n",
       "  </tbody>\n",
       "</table>\n",
       "</div>"
      ],
      "text/plain": [
       "   target         ids                          date      flag  \\\n",
       "0       0  1467810369  Mon Apr 06 22:19:45 PDT 2009  NO_QUERY   \n",
       "1       0  1467810672  Mon Apr 06 22:19:49 PDT 2009  NO_QUERY   \n",
       "2       0  1467810917  Mon Apr 06 22:19:53 PDT 2009  NO_QUERY   \n",
       "3       0  1467811184  Mon Apr 06 22:19:57 PDT 2009  NO_QUERY   \n",
       "4       0  1467811193  Mon Apr 06 22:19:57 PDT 2009  NO_QUERY   \n",
       "\n",
       "              user                                               text  \n",
       "0  _TheSpecialOne_  @switchfoot http://twitpic.com/2y1zl - Awww, t...  \n",
       "1    scotthamilton  is upset that he can't update his Facebook by ...  \n",
       "2         mattycus  @Kenichan I dived many times for the ball. Man...  \n",
       "3          ElleCTF    my whole body feels itchy and like its on fire   \n",
       "4           Karoli  @nationwideclass no, it's not behaving at all....  "
      ]
     },
     "execution_count": 10,
     "metadata": {},
     "output_type": "execute_result"
    }
   ],
   "source": [
    "df.head()"
   ]
  },
  {
   "cell_type": "code",
   "execution_count": 14,
   "metadata": {},
   "outputs": [
    {
     "data": {
      "text/html": [
       "<div>\n",
       "<style scoped>\n",
       "    .dataframe tbody tr th:only-of-type {\n",
       "        vertical-align: middle;\n",
       "    }\n",
       "\n",
       "    .dataframe tbody tr th {\n",
       "        vertical-align: top;\n",
       "    }\n",
       "\n",
       "    .dataframe thead th {\n",
       "        text-align: right;\n",
       "    }\n",
       "</style>\n",
       "<table border=\"1\" class=\"dataframe\">\n",
       "  <thead>\n",
       "    <tr style=\"text-align: right;\">\n",
       "      <th></th>\n",
       "      <th>ids</th>\n",
       "      <th>flag</th>\n",
       "      <th>date</th>\n",
       "      <th>user</th>\n",
       "      <th>text</th>\n",
       "      <th>target</th>\n",
       "    </tr>\n",
       "  </thead>\n",
       "  <tbody>\n",
       "    <tr>\n",
       "      <th>0</th>\n",
       "      <td>1467810369</td>\n",
       "      <td>NO_QUERY</td>\n",
       "      <td>Mon Apr 06 22:19:45 PDT 2009</td>\n",
       "      <td>_TheSpecialOne_</td>\n",
       "      <td>@switchfoot http://twitpic.com/2y1zl - Awww, t...</td>\n",
       "      <td>0</td>\n",
       "    </tr>\n",
       "    <tr>\n",
       "      <th>1</th>\n",
       "      <td>1467810672</td>\n",
       "      <td>NO_QUERY</td>\n",
       "      <td>Mon Apr 06 22:19:49 PDT 2009</td>\n",
       "      <td>scotthamilton</td>\n",
       "      <td>is upset that he can't update his Facebook by ...</td>\n",
       "      <td>0</td>\n",
       "    </tr>\n",
       "    <tr>\n",
       "      <th>2</th>\n",
       "      <td>1467810917</td>\n",
       "      <td>NO_QUERY</td>\n",
       "      <td>Mon Apr 06 22:19:53 PDT 2009</td>\n",
       "      <td>mattycus</td>\n",
       "      <td>@Kenichan I dived many times for the ball. Man...</td>\n",
       "      <td>0</td>\n",
       "    </tr>\n",
       "    <tr>\n",
       "      <th>3</th>\n",
       "      <td>1467811184</td>\n",
       "      <td>NO_QUERY</td>\n",
       "      <td>Mon Apr 06 22:19:57 PDT 2009</td>\n",
       "      <td>ElleCTF</td>\n",
       "      <td>my whole body feels itchy and like its on fire</td>\n",
       "      <td>0</td>\n",
       "    </tr>\n",
       "    <tr>\n",
       "      <th>4</th>\n",
       "      <td>1467811193</td>\n",
       "      <td>NO_QUERY</td>\n",
       "      <td>Mon Apr 06 22:19:57 PDT 2009</td>\n",
       "      <td>Karoli</td>\n",
       "      <td>@nationwideclass no, it's not behaving at all....</td>\n",
       "      <td>0</td>\n",
       "    </tr>\n",
       "  </tbody>\n",
       "</table>\n",
       "</div>"
      ],
      "text/plain": [
       "          ids      flag                          date             user  \\\n",
       "0  1467810369  NO_QUERY  Mon Apr 06 22:19:45 PDT 2009  _TheSpecialOne_   \n",
       "1  1467810672  NO_QUERY  Mon Apr 06 22:19:49 PDT 2009    scotthamilton   \n",
       "2  1467810917  NO_QUERY  Mon Apr 06 22:19:53 PDT 2009         mattycus   \n",
       "3  1467811184  NO_QUERY  Mon Apr 06 22:19:57 PDT 2009          ElleCTF   \n",
       "4  1467811193  NO_QUERY  Mon Apr 06 22:19:57 PDT 2009           Karoli   \n",
       "\n",
       "                                                text  target  \n",
       "0  @switchfoot http://twitpic.com/2y1zl - Awww, t...       0  \n",
       "1  is upset that he can't update his Facebook by ...       0  \n",
       "2  @Kenichan I dived many times for the ball. Man...       0  \n",
       "3    my whole body feels itchy and like its on fire        0  \n",
       "4  @nationwideclass no, it's not behaving at all....       0  "
      ]
     },
     "execution_count": 14,
     "metadata": {},
     "output_type": "execute_result"
    }
   ],
   "source": [
    "#reorder column names\n",
    "df = df[['ids', 'flag', 'date', 'user', 'text', 'target']]\n",
    "df.head()"
   ]
  },
  {
   "cell_type": "code",
   "execution_count": 15,
   "metadata": {},
   "outputs": [
    {
     "data": {
      "text/plain": [
       "(1600000, 6)"
      ]
     },
     "execution_count": 15,
     "metadata": {},
     "output_type": "execute_result"
    }
   ],
   "source": [
    "# dimension of data \n",
    "df.shape"
   ]
  },
  {
   "cell_type": "code",
   "execution_count": 13,
   "metadata": {},
   "outputs": [
    {
     "name": "stdout",
     "output_type": "stream",
     "text": [
      "<class 'pandas.core.frame.DataFrame'>\n",
      "RangeIndex: 1600000 entries, 0 to 1599999\n",
      "Data columns (total 6 columns):\n",
      " #   Column  Non-Null Count    Dtype \n",
      "---  ------  --------------    ----- \n",
      " 0   ids     1600000 non-null  int64 \n",
      " 1   flag    1600000 non-null  object\n",
      " 2   date    1600000 non-null  object\n",
      " 3   user    1600000 non-null  object\n",
      " 4   text    1600000 non-null  object\n",
      " 5   target  1600000 non-null  int64 \n",
      "dtypes: int64(2), object(4)\n",
      "memory usage: 73.2+ MB\n"
     ]
    }
   ],
   "source": [
    "#check data types and dimensions for columns in the data\n",
    "df.info()"
   ]
  },
  {
   "cell_type": "code",
   "execution_count": 16,
   "metadata": {},
   "outputs": [
    {
     "data": {
      "text/plain": [
       "0"
      ]
     },
     "execution_count": 16,
     "metadata": {},
     "output_type": "execute_result"
    }
   ],
   "source": [
    "#check if there are null values in data\n",
    "df.isna().sum().sum()"
   ]
  },
  {
   "cell_type": "code",
   "execution_count": 19,
   "metadata": {},
   "outputs": [
    {
     "data": {
      "text/plain": [
       "0"
      ]
     },
     "execution_count": 19,
     "metadata": {},
     "output_type": "execute_result"
    }
   ],
   "source": [
    "#check for duplicate rows \n",
    "df.duplicated().sum()"
   ]
  },
  {
   "cell_type": "markdown",
   "metadata": {},
   "source": [
    "#### Some insights from initial data exploration<br>   \n",
    "\n",
    "- There are 1.6 million rows and 6 columns in data. \n",
    "- Two columns, ids and target are integers while other columns are object datatypes. We know that we have three categories in target (positive, negative and neutral), therefore, datatype for this column should be categorical.   \n",
    "- For the object type columns, the data type od date column should be timestamp and other columns should be strings. \n",
    "- There are no missing and null values in any of the columns of data. \n",
    "- There are no duplicate rows and columns in the data   "
   ]
  },
  {
   "cell_type": "code",
   "execution_count": 168,
   "metadata": {},
   "outputs": [
    {
     "name": "stdout",
     "output_type": "stream",
     "text": [
      "Unique values in ids: 1598315, 99.8946875%\n",
      "Unique values in flag: 1, 6.25e-05%\n",
      "Unique values in date: 774363, 48.3976875%\n",
      "Unique values in user: 659775, 41.2359375%\n",
      "Unique values in text: 1581466, 98.841625%\n",
      "Unique values in target: 2, 0.000125%\n"
     ]
    }
   ],
   "source": [
    "#check number of unique values for each column\n",
    "def nunique_values(df):\n",
    "    for col in df:\n",
    "        print(f'Unique values in {col}: {df[col].nunique()}, {100*df[col].nunique()/df.shape[0]}%')\n",
    "nunique_values(df)"
   ]
  },
  {
   "cell_type": "markdown",
   "metadata": {},
   "source": [
    "The number of unique values for ids are 99.9% of total data, that is there are 1685 duplicate ids in our data. Every tweet should only have one id. Let's explore further to understand what's going on in our dataset. For this let's see the data where ids are duplicated.   "
   ]
  },
  {
   "cell_type": "code",
   "execution_count": 51,
   "metadata": {},
   "outputs": [
    {
     "data": {
      "text/html": [
       "<div>\n",
       "<style scoped>\n",
       "    .dataframe tbody tr th:only-of-type {\n",
       "        vertical-align: middle;\n",
       "    }\n",
       "\n",
       "    .dataframe tbody tr th {\n",
       "        vertical-align: top;\n",
       "    }\n",
       "\n",
       "    .dataframe thead th {\n",
       "        text-align: right;\n",
       "    }\n",
       "</style>\n",
       "<table border=\"1\" class=\"dataframe\">\n",
       "  <thead>\n",
       "    <tr style=\"text-align: right;\">\n",
       "      <th></th>\n",
       "      <th>ids</th>\n",
       "      <th>flag</th>\n",
       "      <th>date</th>\n",
       "      <th>user</th>\n",
       "      <th>text</th>\n",
       "      <th>target</th>\n",
       "    </tr>\n",
       "  </thead>\n",
       "  <tbody>\n",
       "    <tr>\n",
       "      <th>213</th>\n",
       "      <td>1467863684</td>\n",
       "      <td>NO_QUERY</td>\n",
       "      <td>Mon Apr 06 22:33:35 PDT 2009</td>\n",
       "      <td>DjGundam</td>\n",
       "      <td>Awwh babs... you look so sad underneith that s...</td>\n",
       "      <td>0</td>\n",
       "    </tr>\n",
       "    <tr>\n",
       "      <th>800261</th>\n",
       "      <td>1467863684</td>\n",
       "      <td>NO_QUERY</td>\n",
       "      <td>Mon Apr 06 22:33:35 PDT 2009</td>\n",
       "      <td>DjGundam</td>\n",
       "      <td>Awwh babs... you look so sad underneith that s...</td>\n",
       "      <td>4</td>\n",
       "    </tr>\n",
       "    <tr>\n",
       "      <th>275</th>\n",
       "      <td>1467880442</td>\n",
       "      <td>NO_QUERY</td>\n",
       "      <td>Mon Apr 06 22:38:04 PDT 2009</td>\n",
       "      <td>iCalvin</td>\n",
       "      <td>Haven't tweeted nearly all day  Posted my webs...</td>\n",
       "      <td>0</td>\n",
       "    </tr>\n",
       "    <tr>\n",
       "      <th>800300</th>\n",
       "      <td>1467880442</td>\n",
       "      <td>NO_QUERY</td>\n",
       "      <td>Mon Apr 06 22:38:04 PDT 2009</td>\n",
       "      <td>iCalvin</td>\n",
       "      <td>Haven't tweeted nearly all day  Posted my webs...</td>\n",
       "      <td>4</td>\n",
       "    </tr>\n",
       "    <tr>\n",
       "      <th>989</th>\n",
       "      <td>1468053611</td>\n",
       "      <td>NO_QUERY</td>\n",
       "      <td>Mon Apr 06 23:28:09 PDT 2009</td>\n",
       "      <td>mariejamora</td>\n",
       "      <td>@hellobebe I also send some updates in plurk b...</td>\n",
       "      <td>0</td>\n",
       "    </tr>\n",
       "    <tr>\n",
       "      <th>...</th>\n",
       "      <td>...</td>\n",
       "      <td>...</td>\n",
       "      <td>...</td>\n",
       "      <td>...</td>\n",
       "      <td>...</td>\n",
       "      <td>...</td>\n",
       "    </tr>\n",
       "    <tr>\n",
       "      <th>524290</th>\n",
       "      <td>2193428118</td>\n",
       "      <td>NO_QUERY</td>\n",
       "      <td>Tue Jun 16 08:26:44 PDT 2009</td>\n",
       "      <td>bubbles00</td>\n",
       "      <td>finally finished typing!!!! Woohoooo  , still ...</td>\n",
       "      <td>0</td>\n",
       "    </tr>\n",
       "    <tr>\n",
       "      <th>1599440</th>\n",
       "      <td>2193451289</td>\n",
       "      <td>NO_QUERY</td>\n",
       "      <td>Tue Jun 16 08:28:37 PDT 2009</td>\n",
       "      <td>faiznurdavid</td>\n",
       "      <td>@fanafatin see, @misschimichanga tweet u to jo...</td>\n",
       "      <td>4</td>\n",
       "    </tr>\n",
       "    <tr>\n",
       "      <th>524345</th>\n",
       "      <td>2193451289</td>\n",
       "      <td>NO_QUERY</td>\n",
       "      <td>Tue Jun 16 08:28:37 PDT 2009</td>\n",
       "      <td>faiznurdavid</td>\n",
       "      <td>@fanafatin see, @misschimichanga tweet u to jo...</td>\n",
       "      <td>0</td>\n",
       "    </tr>\n",
       "    <tr>\n",
       "      <th>524688</th>\n",
       "      <td>2193576442</td>\n",
       "      <td>NO_QUERY</td>\n",
       "      <td>Tue Jun 16 08:38:45 PDT 2009</td>\n",
       "      <td>emma_b_xox</td>\n",
       "      <td>Had an injection today. Not fun  the rrst of t...</td>\n",
       "      <td>0</td>\n",
       "    </tr>\n",
       "    <tr>\n",
       "      <th>1599931</th>\n",
       "      <td>2193576442</td>\n",
       "      <td>NO_QUERY</td>\n",
       "      <td>Tue Jun 16 08:38:45 PDT 2009</td>\n",
       "      <td>emma_b_xox</td>\n",
       "      <td>Had an injection today. Not fun  the rrst of t...</td>\n",
       "      <td>4</td>\n",
       "    </tr>\n",
       "  </tbody>\n",
       "</table>\n",
       "<p>3370 rows × 6 columns</p>\n",
       "</div>"
      ],
      "text/plain": [
       "                ids      flag                          date          user  \\\n",
       "213      1467863684  NO_QUERY  Mon Apr 06 22:33:35 PDT 2009      DjGundam   \n",
       "800261   1467863684  NO_QUERY  Mon Apr 06 22:33:35 PDT 2009      DjGundam   \n",
       "275      1467880442  NO_QUERY  Mon Apr 06 22:38:04 PDT 2009       iCalvin   \n",
       "800300   1467880442  NO_QUERY  Mon Apr 06 22:38:04 PDT 2009       iCalvin   \n",
       "989      1468053611  NO_QUERY  Mon Apr 06 23:28:09 PDT 2009   mariejamora   \n",
       "...             ...       ...                           ...           ...   \n",
       "524290   2193428118  NO_QUERY  Tue Jun 16 08:26:44 PDT 2009     bubbles00   \n",
       "1599440  2193451289  NO_QUERY  Tue Jun 16 08:28:37 PDT 2009  faiznurdavid   \n",
       "524345   2193451289  NO_QUERY  Tue Jun 16 08:28:37 PDT 2009  faiznurdavid   \n",
       "524688   2193576442  NO_QUERY  Tue Jun 16 08:38:45 PDT 2009    emma_b_xox   \n",
       "1599931  2193576442  NO_QUERY  Tue Jun 16 08:38:45 PDT 2009    emma_b_xox   \n",
       "\n",
       "                                                      text  target  \n",
       "213      Awwh babs... you look so sad underneith that s...       0  \n",
       "800261   Awwh babs... you look so sad underneith that s...       4  \n",
       "275      Haven't tweeted nearly all day  Posted my webs...       0  \n",
       "800300   Haven't tweeted nearly all day  Posted my webs...       4  \n",
       "989      @hellobebe I also send some updates in plurk b...       0  \n",
       "...                                                    ...     ...  \n",
       "524290   finally finished typing!!!! Woohoooo  , still ...       0  \n",
       "1599440  @fanafatin see, @misschimichanga tweet u to jo...       4  \n",
       "524345   @fanafatin see, @misschimichanga tweet u to jo...       0  \n",
       "524688   Had an injection today. Not fun  the rrst of t...       0  \n",
       "1599931  Had an injection today. Not fun  the rrst of t...       4  \n",
       "\n",
       "[3370 rows x 6 columns]"
      ]
     },
     "execution_count": 51,
     "metadata": {},
     "output_type": "execute_result"
    }
   ],
   "source": [
    "df[df['ids'].duplicated(keep=False)].sort_values(by='ids')"
   ]
  },
  {
   "cell_type": "markdown",
   "metadata": {},
   "source": [
    "It seems some of the tweets are annotated as both positive and negative. Let's first find the total number of duplicate rows in our data (excluding target column) . "
   ]
  },
  {
   "cell_type": "code",
   "execution_count": 54,
   "metadata": {},
   "outputs": [
    {
     "data": {
      "text/html": [
       "<div>\n",
       "<style scoped>\n",
       "    .dataframe tbody tr th:only-of-type {\n",
       "        vertical-align: middle;\n",
       "    }\n",
       "\n",
       "    .dataframe tbody tr th {\n",
       "        vertical-align: top;\n",
       "    }\n",
       "\n",
       "    .dataframe thead th {\n",
       "        text-align: right;\n",
       "    }\n",
       "</style>\n",
       "<table border=\"1\" class=\"dataframe\">\n",
       "  <thead>\n",
       "    <tr style=\"text-align: right;\">\n",
       "      <th></th>\n",
       "      <th>ids</th>\n",
       "      <th>flag</th>\n",
       "      <th>date</th>\n",
       "      <th>user</th>\n",
       "      <th>text</th>\n",
       "      <th>target</th>\n",
       "    </tr>\n",
       "  </thead>\n",
       "  <tbody>\n",
       "    <tr>\n",
       "      <th>800261</th>\n",
       "      <td>1467863684</td>\n",
       "      <td>NO_QUERY</td>\n",
       "      <td>Mon Apr 06 22:33:35 PDT 2009</td>\n",
       "      <td>DjGundam</td>\n",
       "      <td>Awwh babs... you look so sad underneith that s...</td>\n",
       "      <td>4</td>\n",
       "    </tr>\n",
       "    <tr>\n",
       "      <th>800300</th>\n",
       "      <td>1467880442</td>\n",
       "      <td>NO_QUERY</td>\n",
       "      <td>Mon Apr 06 22:38:04 PDT 2009</td>\n",
       "      <td>iCalvin</td>\n",
       "      <td>Haven't tweeted nearly all day  Posted my webs...</td>\n",
       "      <td>4</td>\n",
       "    </tr>\n",
       "    <tr>\n",
       "      <th>801280</th>\n",
       "      <td>1468053611</td>\n",
       "      <td>NO_QUERY</td>\n",
       "      <td>Mon Apr 06 23:28:09 PDT 2009</td>\n",
       "      <td>mariejamora</td>\n",
       "      <td>@hellobebe I also send some updates in plurk b...</td>\n",
       "      <td>4</td>\n",
       "    </tr>\n",
       "    <tr>\n",
       "      <th>801573</th>\n",
       "      <td>1468100580</td>\n",
       "      <td>NO_QUERY</td>\n",
       "      <td>Mon Apr 06 23:42:57 PDT 2009</td>\n",
       "      <td>cristygarza</td>\n",
       "      <td>good night swetdreamss to everyonee   and jare...</td>\n",
       "      <td>4</td>\n",
       "    </tr>\n",
       "    <tr>\n",
       "      <th>801650</th>\n",
       "      <td>1468115720</td>\n",
       "      <td>NO_QUERY</td>\n",
       "      <td>Mon Apr 06 23:48:00 PDT 2009</td>\n",
       "      <td>WarholGirl</td>\n",
       "      <td>@ientje89 aw i'm fine too thanks! yeah i miss ...</td>\n",
       "      <td>4</td>\n",
       "    </tr>\n",
       "    <tr>\n",
       "      <th>...</th>\n",
       "      <td>...</td>\n",
       "      <td>...</td>\n",
       "      <td>...</td>\n",
       "      <td>...</td>\n",
       "      <td>...</td>\n",
       "      <td>...</td>\n",
       "    </tr>\n",
       "    <tr>\n",
       "      <th>1598780</th>\n",
       "      <td>2193278017</td>\n",
       "      <td>NO_QUERY</td>\n",
       "      <td>Tue Jun 16 08:14:22 PDT 2009</td>\n",
       "      <td>janiecwales</td>\n",
       "      <td>oh dear HH is back   please twitter do somethi...</td>\n",
       "      <td>4</td>\n",
       "    </tr>\n",
       "    <tr>\n",
       "      <th>1599298</th>\n",
       "      <td>2193403830</td>\n",
       "      <td>NO_QUERY</td>\n",
       "      <td>Tue Jun 16 08:24:44 PDT 2009</td>\n",
       "      <td>lauren__x33</td>\n",
       "      <td>english exam went okay        revising for fre...</td>\n",
       "      <td>4</td>\n",
       "    </tr>\n",
       "    <tr>\n",
       "      <th>1599385</th>\n",
       "      <td>2193428118</td>\n",
       "      <td>NO_QUERY</td>\n",
       "      <td>Tue Jun 16 08:26:44 PDT 2009</td>\n",
       "      <td>bubbles00</td>\n",
       "      <td>finally finished typing!!!! Woohoooo  , still ...</td>\n",
       "      <td>4</td>\n",
       "    </tr>\n",
       "    <tr>\n",
       "      <th>1599440</th>\n",
       "      <td>2193451289</td>\n",
       "      <td>NO_QUERY</td>\n",
       "      <td>Tue Jun 16 08:28:37 PDT 2009</td>\n",
       "      <td>faiznurdavid</td>\n",
       "      <td>@fanafatin see, @misschimichanga tweet u to jo...</td>\n",
       "      <td>4</td>\n",
       "    </tr>\n",
       "    <tr>\n",
       "      <th>1599931</th>\n",
       "      <td>2193576442</td>\n",
       "      <td>NO_QUERY</td>\n",
       "      <td>Tue Jun 16 08:38:45 PDT 2009</td>\n",
       "      <td>emma_b_xox</td>\n",
       "      <td>Had an injection today. Not fun  the rrst of t...</td>\n",
       "      <td>4</td>\n",
       "    </tr>\n",
       "  </tbody>\n",
       "</table>\n",
       "<p>1685 rows × 6 columns</p>\n",
       "</div>"
      ],
      "text/plain": [
       "                ids      flag                          date          user  \\\n",
       "800261   1467863684  NO_QUERY  Mon Apr 06 22:33:35 PDT 2009      DjGundam   \n",
       "800300   1467880442  NO_QUERY  Mon Apr 06 22:38:04 PDT 2009       iCalvin   \n",
       "801280   1468053611  NO_QUERY  Mon Apr 06 23:28:09 PDT 2009   mariejamora   \n",
       "801573   1468100580  NO_QUERY  Mon Apr 06 23:42:57 PDT 2009   cristygarza   \n",
       "801650   1468115720  NO_QUERY  Mon Apr 06 23:48:00 PDT 2009    WarholGirl   \n",
       "...             ...       ...                           ...           ...   \n",
       "1598780  2193278017  NO_QUERY  Tue Jun 16 08:14:22 PDT 2009   janiecwales   \n",
       "1599298  2193403830  NO_QUERY  Tue Jun 16 08:24:44 PDT 2009   lauren__x33   \n",
       "1599385  2193428118  NO_QUERY  Tue Jun 16 08:26:44 PDT 2009     bubbles00   \n",
       "1599440  2193451289  NO_QUERY  Tue Jun 16 08:28:37 PDT 2009  faiznurdavid   \n",
       "1599931  2193576442  NO_QUERY  Tue Jun 16 08:38:45 PDT 2009    emma_b_xox   \n",
       "\n",
       "                                                      text  target  \n",
       "800261   Awwh babs... you look so sad underneith that s...       4  \n",
       "800300   Haven't tweeted nearly all day  Posted my webs...       4  \n",
       "801280   @hellobebe I also send some updates in plurk b...       4  \n",
       "801573   good night swetdreamss to everyonee   and jare...       4  \n",
       "801650   @ientje89 aw i'm fine too thanks! yeah i miss ...       4  \n",
       "...                                                    ...     ...  \n",
       "1598780  oh dear HH is back   please twitter do somethi...       4  \n",
       "1599298  english exam went okay        revising for fre...       4  \n",
       "1599385  finally finished typing!!!! Woohoooo  , still ...       4  \n",
       "1599440  @fanafatin see, @misschimichanga tweet u to jo...       4  \n",
       "1599931  Had an injection today. Not fun  the rrst of t...       4  \n",
       "\n",
       "[1685 rows x 6 columns]"
      ]
     },
     "execution_count": 54,
     "metadata": {},
     "output_type": "execute_result"
    }
   ],
   "source": [
    "df[df.loc[:, ['ids', 'flag', 'date', 'user', 'text']].duplicated()].sort_values(by='ids')"
   ]
  },
  {
   "cell_type": "markdown",
   "metadata": {},
   "source": [
    "There are 1685 duplicate tweets, equal to the total number of duplicate ids. This implies that the dulpicate ids and rows are due to annotation of certain tweets both as positive and negative. Let's try to find why these tweets were annotated twice. "
   ]
  },
  {
   "cell_type": "code",
   "execution_count": 57,
   "metadata": {},
   "outputs": [],
   "source": [
    "df_duplicated = df[df.loc[:, ['ids', 'flag', 'date', 'user', 'text']].duplicated(keep=False)].sort_values(by='ids').copy()"
   ]
  },
  {
   "cell_type": "code",
   "execution_count": 60,
   "metadata": {},
   "outputs": [
    {
     "data": {
      "text/html": [
       "<div>\n",
       "<style scoped>\n",
       "    .dataframe tbody tr th:only-of-type {\n",
       "        vertical-align: middle;\n",
       "    }\n",
       "\n",
       "    .dataframe tbody tr th {\n",
       "        vertical-align: top;\n",
       "    }\n",
       "\n",
       "    .dataframe thead th {\n",
       "        text-align: right;\n",
       "    }\n",
       "</style>\n",
       "<table border=\"1\" class=\"dataframe\">\n",
       "  <thead>\n",
       "    <tr style=\"text-align: right;\">\n",
       "      <th></th>\n",
       "      <th>text</th>\n",
       "      <th>target</th>\n",
       "    </tr>\n",
       "  </thead>\n",
       "  <tbody>\n",
       "    <tr>\n",
       "      <th>213</th>\n",
       "      <td>Awwh babs... you look so sad underneith that s...</td>\n",
       "      <td>0</td>\n",
       "    </tr>\n",
       "    <tr>\n",
       "      <th>800261</th>\n",
       "      <td>Awwh babs... you look so sad underneith that s...</td>\n",
       "      <td>4</td>\n",
       "    </tr>\n",
       "    <tr>\n",
       "      <th>275</th>\n",
       "      <td>Haven't tweeted nearly all day  Posted my webs...</td>\n",
       "      <td>0</td>\n",
       "    </tr>\n",
       "    <tr>\n",
       "      <th>800300</th>\n",
       "      <td>Haven't tweeted nearly all day  Posted my webs...</td>\n",
       "      <td>4</td>\n",
       "    </tr>\n",
       "    <tr>\n",
       "      <th>989</th>\n",
       "      <td>@hellobebe I also send some updates in plurk b...</td>\n",
       "      <td>0</td>\n",
       "    </tr>\n",
       "    <tr>\n",
       "      <th>...</th>\n",
       "      <td>...</td>\n",
       "      <td>...</td>\n",
       "    </tr>\n",
       "    <tr>\n",
       "      <th>524290</th>\n",
       "      <td>finally finished typing!!!! Woohoooo  , still ...</td>\n",
       "      <td>0</td>\n",
       "    </tr>\n",
       "    <tr>\n",
       "      <th>1599440</th>\n",
       "      <td>@fanafatin see, @misschimichanga tweet u to jo...</td>\n",
       "      <td>4</td>\n",
       "    </tr>\n",
       "    <tr>\n",
       "      <th>524345</th>\n",
       "      <td>@fanafatin see, @misschimichanga tweet u to jo...</td>\n",
       "      <td>0</td>\n",
       "    </tr>\n",
       "    <tr>\n",
       "      <th>524688</th>\n",
       "      <td>Had an injection today. Not fun  the rrst of t...</td>\n",
       "      <td>0</td>\n",
       "    </tr>\n",
       "    <tr>\n",
       "      <th>1599931</th>\n",
       "      <td>Had an injection today. Not fun  the rrst of t...</td>\n",
       "      <td>4</td>\n",
       "    </tr>\n",
       "  </tbody>\n",
       "</table>\n",
       "<p>3370 rows × 2 columns</p>\n",
       "</div>"
      ],
      "text/plain": [
       "                                                      text  target\n",
       "213      Awwh babs... you look so sad underneith that s...       0\n",
       "800261   Awwh babs... you look so sad underneith that s...       4\n",
       "275      Haven't tweeted nearly all day  Posted my webs...       0\n",
       "800300   Haven't tweeted nearly all day  Posted my webs...       4\n",
       "989      @hellobebe I also send some updates in plurk b...       0\n",
       "...                                                    ...     ...\n",
       "524290   finally finished typing!!!! Woohoooo  , still ...       0\n",
       "1599440  @fanafatin see, @misschimichanga tweet u to jo...       4\n",
       "524345   @fanafatin see, @misschimichanga tweet u to jo...       0\n",
       "524688   Had an injection today. Not fun  the rrst of t...       0\n",
       "1599931  Had an injection today. Not fun  the rrst of t...       4\n",
       "\n",
       "[3370 rows x 2 columns]"
      ]
     },
     "execution_count": 60,
     "metadata": {},
     "output_type": "execute_result"
    }
   ],
   "source": [
    "df_duplicated[['text', 'target']]"
   ]
  },
  {
   "cell_type": "markdown",
   "metadata": {},
   "source": [
    "A visual inspection of duplicated rows showed that all the tweets in these rows generally carry a negative sentiment. Also looking at the pairs of duplicate tweets, the tweet with lower index always has a negative sentiment. Here I am dropping all the duplicate tweets with positive sentiments. "
   ]
  },
  {
   "cell_type": "code",
   "execution_count": 65,
   "metadata": {},
   "outputs": [],
   "source": [
    "#get the index of duplicated rows where target value is 0\n",
    "duplicated_index = df_duplicated[df_duplicated['target'] == 0].index"
   ]
  },
  {
   "cell_type": "code",
   "execution_count": 67,
   "metadata": {},
   "outputs": [],
   "source": [
    "df_clean = df.drop(index=duplicated_index).copy()"
   ]
  },
  {
   "cell_type": "code",
   "execution_count": 68,
   "metadata": {},
   "outputs": [
    {
     "data": {
      "text/plain": [
       "1600000"
      ]
     },
     "execution_count": 68,
     "metadata": {},
     "output_type": "execute_result"
    }
   ],
   "source": [
    "#snity check to see if the operation perfomed \n",
    "df_clean.shape[0] + len(duplicated_index)"
   ]
  },
  {
   "cell_type": "code",
   "execution_count": 69,
   "metadata": {},
   "outputs": [
    {
     "name": "stdout",
     "output_type": "stream",
     "text": [
      "Unique values in ids: 1598315, 100.0\n",
      "Unique values in flag: 1, 6.256588970259305e-05\n",
      "Unique values in date: 774363, 48.448710047769055\n",
      "Unique values in user: 659775, 41.27940987852833\n",
      "Unique values in text: 1581466, 98.94582732440101\n",
      "Unique values in target: 2, 0.0001251317794051861\n"
     ]
    }
   ],
   "source": [
    "#check number of unique values for each of the columns in cleaned dataframe \n",
    "nunique_values(df_clean)"
   ]
  },
  {
   "cell_type": "markdown",
   "metadata": {},
   "source": [
    "- We can see that the total number of unique values for ids and total number of rows in the data are same. This shows that each tweet has a unique id in our cleaned data. \n",
    "- There is just one unique value for the flag columns that shows that no specific queries were made to reterieve data.   \n",
    "- The date column has 48.4% unique values. This implies multiple tweets were scraped from twitter's API at a single moment. \n",
    "- Further, there are 41.3% unique users as compare to total number of tweets. This implies that there are users who twitted more than once.    \n",
    "- Finally, there are 99% unique tweets as compare to total number of tweets. This shows that multiple users can tweet same thing for instance, some of the tweets such as 'goodmorning' were tweeted by more than one users. "
   ]
  },
  {
   "cell_type": "markdown",
   "metadata": {},
   "source": [
    "__Let's explore distribution for each column in our data__"
   ]
  },
  {
   "cell_type": "markdown",
   "metadata": {},
   "source": [
    "__Exploring column `Ids`__"
   ]
  },
  {
   "cell_type": "code",
   "execution_count": 71,
   "metadata": {},
   "outputs": [
    {
     "data": {
      "text/plain": [
       "count    1.598315e+06\n",
       "mean     1.998872e+09\n",
       "std      1.935913e+08\n",
       "min      1.467810e+09\n",
       "25%      1.956927e+09\n",
       "50%      2.002114e+09\n",
       "75%      2.177094e+09\n",
       "max      2.329206e+09\n",
       "Name: ids, dtype: float64"
      ]
     },
     "execution_count": 71,
     "metadata": {},
     "output_type": "execute_result"
    }
   ],
   "source": [
    "df_clean['ids'].describe()"
   ]
  },
  {
   "cell_type": "markdown",
   "metadata": {},
   "source": [
    "The id repersents a unique identifier for each of the tweet. It keeps track for each of the tweet in our data. The total number values, unique values and total number of tweets in the dataset are equal. The value of Id starts at `1.467810e+09` and ends at `2.3292063+09`. "
   ]
  },
  {
   "cell_type": "markdown",
   "metadata": {},
   "source": [
    "__Exploring column `flag`__"
   ]
  },
  {
   "cell_type": "markdown",
   "metadata": {},
   "source": [
    "The data type for this column is `string`. This column repersents the query for which the sentiment was analyzed. The follwoing table 2 provides some examples for the defination of the query.   \n",
    "<br>  \n",
    "\n",
    "|Sentiment    | flag    | Tweet    |\n",
    "|----|-----|-----|\n",
    "|Positive    |jquery     |dcostalis: Jquery is my new best friend.     |\n",
    "|Neutral    |San Francisco     |schuyler: just landed at San Francisco     |\n",
    "|Negative    |exam     |jvici0us: History exam studying ugh.     |\n",
    "\n",
    "<br>  \n",
    "\n",
    "From the above examples we can see that the falg is a word or combination of words for which the sentiment was determined.   \n",
    "\n",
    "<br>\n",
    "\n",
    "From the code below we can see that there is just one unique value, `NO_QUERY` in flag column. `NO_QUERY` represents that the target value, that is sentiment is not for a specific word rather it represents sentiment of the whole tweet. We can remove this column from our data set as it doesn't add any additional information to setiment for a tweet. "
   ]
  },
  {
   "cell_type": "code",
   "execution_count": 75,
   "metadata": {},
   "outputs": [
    {
     "name": "stdout",
     "output_type": "stream",
     "text": [
      "NO_QUERY    1598315\n",
      "Name: flag, dtype: int64\n",
      "1\n"
     ]
    }
   ],
   "source": [
    "print(df_clean['flag'].value_counts())\n",
    "print(df_clean['flag'].nunique())"
   ]
  },
  {
   "cell_type": "code",
   "execution_count": 76,
   "metadata": {},
   "outputs": [
    {
     "data": {
      "text/html": [
       "<div>\n",
       "<style scoped>\n",
       "    .dataframe tbody tr th:only-of-type {\n",
       "        vertical-align: middle;\n",
       "    }\n",
       "\n",
       "    .dataframe tbody tr th {\n",
       "        vertical-align: top;\n",
       "    }\n",
       "\n",
       "    .dataframe thead th {\n",
       "        text-align: right;\n",
       "    }\n",
       "</style>\n",
       "<table border=\"1\" class=\"dataframe\">\n",
       "  <thead>\n",
       "    <tr style=\"text-align: right;\">\n",
       "      <th></th>\n",
       "      <th>ids</th>\n",
       "      <th>date</th>\n",
       "      <th>user</th>\n",
       "      <th>text</th>\n",
       "      <th>target</th>\n",
       "    </tr>\n",
       "  </thead>\n",
       "  <tbody>\n",
       "    <tr>\n",
       "      <th>0</th>\n",
       "      <td>1467810369</td>\n",
       "      <td>Mon Apr 06 22:19:45 PDT 2009</td>\n",
       "      <td>_TheSpecialOne_</td>\n",
       "      <td>@switchfoot http://twitpic.com/2y1zl - Awww, t...</td>\n",
       "      <td>0</td>\n",
       "    </tr>\n",
       "    <tr>\n",
       "      <th>1</th>\n",
       "      <td>1467810672</td>\n",
       "      <td>Mon Apr 06 22:19:49 PDT 2009</td>\n",
       "      <td>scotthamilton</td>\n",
       "      <td>is upset that he can't update his Facebook by ...</td>\n",
       "      <td>0</td>\n",
       "    </tr>\n",
       "    <tr>\n",
       "      <th>2</th>\n",
       "      <td>1467810917</td>\n",
       "      <td>Mon Apr 06 22:19:53 PDT 2009</td>\n",
       "      <td>mattycus</td>\n",
       "      <td>@Kenichan I dived many times for the ball. Man...</td>\n",
       "      <td>0</td>\n",
       "    </tr>\n",
       "    <tr>\n",
       "      <th>3</th>\n",
       "      <td>1467811184</td>\n",
       "      <td>Mon Apr 06 22:19:57 PDT 2009</td>\n",
       "      <td>ElleCTF</td>\n",
       "      <td>my whole body feels itchy and like its on fire</td>\n",
       "      <td>0</td>\n",
       "    </tr>\n",
       "    <tr>\n",
       "      <th>4</th>\n",
       "      <td>1467811193</td>\n",
       "      <td>Mon Apr 06 22:19:57 PDT 2009</td>\n",
       "      <td>Karoli</td>\n",
       "      <td>@nationwideclass no, it's not behaving at all....</td>\n",
       "      <td>0</td>\n",
       "    </tr>\n",
       "  </tbody>\n",
       "</table>\n",
       "</div>"
      ],
      "text/plain": [
       "          ids                          date             user  \\\n",
       "0  1467810369  Mon Apr 06 22:19:45 PDT 2009  _TheSpecialOne_   \n",
       "1  1467810672  Mon Apr 06 22:19:49 PDT 2009    scotthamilton   \n",
       "2  1467810917  Mon Apr 06 22:19:53 PDT 2009         mattycus   \n",
       "3  1467811184  Mon Apr 06 22:19:57 PDT 2009          ElleCTF   \n",
       "4  1467811193  Mon Apr 06 22:19:57 PDT 2009           Karoli   \n",
       "\n",
       "                                                text  target  \n",
       "0  @switchfoot http://twitpic.com/2y1zl - Awww, t...       0  \n",
       "1  is upset that he can't update his Facebook by ...       0  \n",
       "2  @Kenichan I dived many times for the ball. Man...       0  \n",
       "3    my whole body feels itchy and like its on fire        0  \n",
       "4  @nationwideclass no, it's not behaving at all....       0  "
      ]
     },
     "execution_count": 76,
     "metadata": {},
     "output_type": "execute_result"
    }
   ],
   "source": [
    "df_clean.drop(columns='flag', inplace=True)\n",
    "df_clean.head()"
   ]
  },
  {
   "cell_type": "markdown",
   "metadata": {},
   "source": [
    "__Exploring column `target`__"
   ]
  },
  {
   "cell_type": "code",
   "execution_count": 124,
   "metadata": {},
   "outputs": [
    {
     "data": {
      "text/plain": [
       "array([0, 4], dtype=int64)"
      ]
     },
     "execution_count": 124,
     "metadata": {},
     "output_type": "execute_result"
    }
   ],
   "source": [
    "df_clean['target'].unique()"
   ]
  },
  {
   "cell_type": "markdown",
   "metadata": {},
   "source": [
    "The column target has only two values 0 and 4. 0 represents negative sentiment while 4 represents positive sentiment. There are no tweets in this data with neutral sentiments. I am replacing 4 with 1 to compy it with the convetion for naming a binary target with 0 and 1.   "
   ]
  },
  {
   "cell_type": "code",
   "execution_count": 126,
   "metadata": {},
   "outputs": [],
   "source": [
    "df_clean['target'].replace(to_replace=4, value=1, inplace=True)"
   ]
  },
  {
   "cell_type": "code",
   "execution_count": 127,
   "metadata": {},
   "outputs": [
    {
     "data": {
      "text/plain": [
       "array([0, 1], dtype=int64)"
      ]
     },
     "execution_count": 127,
     "metadata": {},
     "output_type": "execute_result"
    }
   ],
   "source": [
    "#sanity check\n",
    "df_clean['target'].unique()"
   ]
  },
  {
   "cell_type": "code",
   "execution_count": 153,
   "metadata": {},
   "outputs": [
    {
     "data": {
      "image/png": "[encoded data removed]",
      "text/plain": [
       "<Figure size 640x480 with 1 Axes>"
      ]
     },
     "metadata": {},
     "output_type": "display_data"
    }
   ],
   "source": [
    "num_positives, num_negatives = df_clean['target'].value_counts()[1], df_clean['target'].value_counts()[0] #number of positve and negative targets\n",
    "ax = plt.subplot() #axes object\n",
    "#plot target column using pandas plot funtion\n",
    "df_clean['target'].value_counts(normalize=True).plot(kind='bar', ylabel='Percentage', ax=ax)\n",
    "#change properties of plot using ax object \n",
    "ax.xaxis.set_ticks(ticks=[1,0], labels=['Negative', 'Positive'])\n",
    "ax.set_ylim(bottom=0, top=0.6)\n",
    "ax.text(0, 0.52, f'{num_positives}', style='italic')\n",
    "ax.text(1, 0.52, f'{num_negatives}', style='italic')\n",
    "plt.show() #close figure"
   ]
  },
  {
   "cell_type": "markdown",
   "metadata": {},
   "source": [
    "We can see from the figure above that the number of positives are slightly greater than number of negatives. Both the negatives and positves are around 50% of total number of targets.\n",
    "This is a good news as both the classes are almost equal in the numbers, we don't have to worry about class imbalance during modelling process.  "
   ]
  },
  {
   "cell_type": "markdown",
   "metadata": {},
   "source": [
    "__Exploring column `date`__"
   ]
  },
  {
   "cell_type": "code",
   "execution_count": 78,
   "metadata": {},
   "outputs": [
    {
     "name": "stderr",
     "output_type": "stream",
     "text": [
      "E:\\Machine Learning Engineer\\BrainStation\\Bootcamp\\7.Capstone\\capstone_env\\lib\\site-packages\\dateutil\\parser\\_parser.py:1207: UnknownTimezoneWarning: tzname PDT identified but not understood.  Pass `tzinfos` argument in order to correctly return a timezone-aware datetime.  In a future version, this will raise an exception.\n",
      "  warnings.warn(\"tzname {tzname} identified but not understood.  \"\n"
     ]
    }
   ],
   "source": [
    "date = pd.to_datetime(df_clean['date'])"
   ]
  },
  {
   "cell_type": "code",
   "execution_count": 82,
   "metadata": {},
   "outputs": [
    {
     "data": {
      "text/plain": [
       "(Timestamp('2009-04-06 22:19:45'), Timestamp('2009-06-25 10:28:31'))"
      ]
     },
     "execution_count": 82,
     "metadata": {},
     "output_type": "execute_result"
    }
   ],
   "source": [
    "min(date), max(date)"
   ]
  },
  {
   "cell_type": "markdown",
   "metadata": {},
   "source": [
    "The tweets in our dataset are between the dates `April 6, 2009` to `June 25, 2009`. "
   ]
  },
  {
   "cell_type": "code",
   "execution_count": 83,
   "metadata": {},
   "outputs": [],
   "source": [
    "df_clean['date'] = date"
   ]
  },
  {
   "cell_type": "code",
   "execution_count": 86,
   "metadata": {},
   "outputs": [
    {
     "data": {
      "text/plain": [
       "dtype('<M8[ns]')"
      ]
     },
     "execution_count": 86,
     "metadata": {},
     "output_type": "execute_result"
    }
   ],
   "source": [
    "df_clean['date'].dtype"
   ]
  },
  {
   "cell_type": "code",
   "execution_count": 157,
   "metadata": {},
   "outputs": [
    {
     "data": {
      "image/png": "[encoded data removed]",
      "text/plain": [
       "<Figure size 900x600 with 1 Axes>"
      ]
     },
     "metadata": {},
     "output_type": "display_data"
    }
   ],
   "source": [
    "#let's see number of tweets for each day\n",
    "ax = plt.subplot()\n",
    "df_clean.groupby(df_clean['date'].dt.date)['text'].count().plot(style='--bo', ylabel='Number of tweets'\n",
    "                                                               ,rot=90, figsize=(9,6), ax=ax)\n",
    "plt.show()"
   ]
  },
  {
   "cell_type": "code",
   "execution_count": 117,
   "metadata": {},
   "outputs": [
    {
     "data": {
      "text/plain": [
       "date\n",
       "2009-06-06    111513\n",
       "2009-06-01    110148\n",
       "2009-06-15    109654\n",
       "2009-05-30    103554\n",
       "2009-06-07     96233\n",
       "2009-05-31     94432\n",
       "2009-05-29     73755\n",
       "2009-06-16     67912\n",
       "2009-06-02     64115\n",
       "2009-06-05     58705\n",
       "2009-06-20     45364\n",
       "2009-06-17     44012\n",
       "2009-06-19     43136\n",
       "2009-06-18     43004\n",
       "2009-06-03     41532\n",
       "2009-05-17     40106\n",
       "2009-05-22     39018\n",
       "2009-05-18     36415\n",
       "2009-05-03     35288\n",
       "2009-04-19     27433\n",
       "2009-05-02     27402\n",
       "2009-05-10     25984\n",
       "2009-04-18     21732\n",
       "2009-06-25     19694\n",
       "2009-04-20     18433\n",
       "2009-05-14     17431\n",
       "2009-04-07     17289\n",
       "2009-06-23     17002\n",
       "2009-06-21     16360\n",
       "2009-05-28     15885\n",
       "2009-05-04     15457\n",
       "2009-06-22     12009\n",
       "2009-05-09     11732\n",
       "2009-05-26     10770\n",
       "2009-05-16      9135\n",
       "2009-04-21      8579\n",
       "2009-06-14      8261\n",
       "2009-06-04      7835\n",
       "2009-05-01      7708\n",
       "2009-06-24      6299\n",
       "2009-05-11      4184\n",
       "2009-05-13      4063\n",
       "2009-04-06      3354\n",
       "2009-04-17      3083\n",
       "2009-05-21      2128\n",
       "2009-05-27       839\n",
       "2009-05-25       169\n",
       "2009-05-23       169\n",
       "Name: text, dtype: int64"
      ]
     },
     "execution_count": 117,
     "metadata": {},
     "output_type": "execute_result"
    }
   ],
   "source": [
    "df_clean.groupby(df_clean['date'].dt.date)['text'].count().sort_values(ascending=False)"
   ]
  },
  {
   "cell_type": "markdown",
   "metadata": {},
   "source": [
    "We can see from the above figure that the number of tweets between `May 29, 2009` and `June 15, 2009` are highere compared to any other period of time. This depends on how data was scrapped by authors. It may be possible that authors scprapeed different number of tweets each day. \n",
    "<br>\n",
    "\n",
    "The other possible reason may be that higher number of tweets were tweeted between this time. "
   ]
  },
  {
   "cell_type": "code",
   "execution_count": 154,
   "metadata": {},
   "outputs": [
    {
     "data": {
      "text/html": [
       "<div>\n",
       "<style scoped>\n",
       "    .dataframe tbody tr th:only-of-type {\n",
       "        vertical-align: middle;\n",
       "    }\n",
       "\n",
       "    .dataframe tbody tr th {\n",
       "        vertical-align: top;\n",
       "    }\n",
       "\n",
       "    .dataframe thead th {\n",
       "        text-align: right;\n",
       "    }\n",
       "</style>\n",
       "<table border=\"1\" class=\"dataframe\">\n",
       "  <thead>\n",
       "    <tr style=\"text-align: right;\">\n",
       "      <th></th>\n",
       "      <th>ids</th>\n",
       "      <th>date</th>\n",
       "      <th>user</th>\n",
       "      <th>text</th>\n",
       "      <th>target</th>\n",
       "    </tr>\n",
       "  </thead>\n",
       "  <tbody>\n",
       "    <tr>\n",
       "      <th>161299</th>\n",
       "      <td>1957266782</td>\n",
       "      <td>2009-05-29 00:00:01</td>\n",
       "      <td>Kikirowr</td>\n",
       "      <td>@_erica I know right</td>\n",
       "      <td>0</td>\n",
       "    </tr>\n",
       "    <tr>\n",
       "      <th>161300</th>\n",
       "      <td>1957267208</td>\n",
       "      <td>2009-05-29 00:00:04</td>\n",
       "      <td>AlluringBri</td>\n",
       "      <td>i wish people would leave jon &amp;amp; kate alone...</td>\n",
       "      <td>0</td>\n",
       "    </tr>\n",
       "    <tr>\n",
       "      <th>161301</th>\n",
       "      <td>1957267231</td>\n",
       "      <td>2009-05-29 00:00:04</td>\n",
       "      <td>rohan_kini</td>\n",
       "      <td>@roshnimo yup .. sad eh .. Betty man .. it sho...</td>\n",
       "      <td>0</td>\n",
       "    </tr>\n",
       "    <tr>\n",
       "      <th>161302</th>\n",
       "      <td>1957267963</td>\n",
       "      <td>2009-05-29 00:00:08</td>\n",
       "      <td>c9xgmr</td>\n",
       "      <td>they shot him  he was still alive too...</td>\n",
       "      <td>0</td>\n",
       "    </tr>\n",
       "    <tr>\n",
       "      <th>161303</th>\n",
       "      <td>1957268164</td>\n",
       "      <td>2009-05-29 00:00:10</td>\n",
       "      <td>Pinguin98</td>\n",
       "      <td>very very bad headache that is getting worse b...</td>\n",
       "      <td>0</td>\n",
       "    </tr>\n",
       "    <tr>\n",
       "      <th>...</th>\n",
       "      <td>...</td>\n",
       "      <td>...</td>\n",
       "      <td>...</td>\n",
       "      <td>...</td>\n",
       "      <td>...</td>\n",
       "    </tr>\n",
       "    <tr>\n",
       "      <th>1575631</th>\n",
       "      <td>2189422922</td>\n",
       "      <td>2009-06-15 23:59:57</td>\n",
       "      <td>thepetshopboy</td>\n",
       "      <td>@nancerellababy couple tabs of pure mdma and y...</td>\n",
       "      <td>1</td>\n",
       "    </tr>\n",
       "    <tr>\n",
       "      <th>1575632</th>\n",
       "      <td>2189422986</td>\n",
       "      <td>2009-06-15 23:59:58</td>\n",
       "      <td>TenRings</td>\n",
       "      <td>I'm braving the world of Dudley to go to the m...</td>\n",
       "      <td>1</td>\n",
       "    </tr>\n",
       "    <tr>\n",
       "      <th>1575633</th>\n",
       "      <td>2189422993</td>\n",
       "      <td>2009-06-15 23:59:58</td>\n",
       "      <td>kelliesimpson</td>\n",
       "      <td>@curligirl \\o/ good work day</td>\n",
       "      <td>1</td>\n",
       "    </tr>\n",
       "    <tr>\n",
       "      <th>1575634</th>\n",
       "      <td>2189423047</td>\n",
       "      <td>2009-06-15 23:59:58</td>\n",
       "      <td>jasonromero</td>\n",
       "      <td>@gantzgraf Dude, great minds think alike! My f...</td>\n",
       "      <td>1</td>\n",
       "    </tr>\n",
       "    <tr>\n",
       "      <th>1575635</th>\n",
       "      <td>2189423228</td>\n",
       "      <td>2009-06-15 23:59:59</td>\n",
       "      <td>Chloe_AG</td>\n",
       "      <td>@babygirlparis http://twitpic.com/7i9o5 - oh o...</td>\n",
       "      <td>1</td>\n",
       "    </tr>\n",
       "  </tbody>\n",
       "</table>\n",
       "<p>879737 rows × 5 columns</p>\n",
       "</div>"
      ],
      "text/plain": [
       "                ids                date           user  \\\n",
       "161299   1957266782 2009-05-29 00:00:01       Kikirowr   \n",
       "161300   1957267208 2009-05-29 00:00:04    AlluringBri   \n",
       "161301   1957267231 2009-05-29 00:00:04     rohan_kini   \n",
       "161302   1957267963 2009-05-29 00:00:08         c9xgmr   \n",
       "161303   1957268164 2009-05-29 00:00:10      Pinguin98   \n",
       "...             ...                 ...            ...   \n",
       "1575631  2189422922 2009-06-15 23:59:57  thepetshopboy   \n",
       "1575632  2189422986 2009-06-15 23:59:58       TenRings   \n",
       "1575633  2189422993 2009-06-15 23:59:58  kelliesimpson   \n",
       "1575634  2189423047 2009-06-15 23:59:58    jasonromero   \n",
       "1575635  2189423228 2009-06-15 23:59:59       Chloe_AG   \n",
       "\n",
       "                                                      text  target  \n",
       "161299                               @_erica I know right        0  \n",
       "161300   i wish people would leave jon &amp; kate alone...       0  \n",
       "161301   @roshnimo yup .. sad eh .. Betty man .. it sho...       0  \n",
       "161302            they shot him  he was still alive too...       0  \n",
       "161303   very very bad headache that is getting worse b...       0  \n",
       "...                                                    ...     ...  \n",
       "1575631  @nancerellababy couple tabs of pure mdma and y...       1  \n",
       "1575632  I'm braving the world of Dudley to go to the m...       1  \n",
       "1575633                      @curligirl \\o/ good work day        1  \n",
       "1575634  @gantzgraf Dude, great minds think alike! My f...       1  \n",
       "1575635  @babygirlparis http://twitpic.com/7i9o5 - oh o...       1  \n",
       "\n",
       "[879737 rows x 5 columns]"
      ]
     },
     "execution_count": 154,
     "metadata": {},
     "output_type": "execute_result"
    }
   ],
   "source": [
    "condition1 = pd.Timestamp(year=2009, month=5, day=29)<df_clean['date']\n",
    "condition2 = df_clean['date']<pd.Timestamp(year=2009, month=6, day=16)\n",
    "df_clean[condition1 & condition2]"
   ]
  },
  {
   "cell_type": "code",
   "execution_count": 156,
   "metadata": {},
   "outputs": [
    {
     "data": {
      "text/plain": [
       "1    0.605443\n",
       "0    0.394557\n",
       "Name: target, dtype: float64"
      ]
     },
     "execution_count": 156,
     "metadata": {},
     "output_type": "execute_result"
    }
   ],
   "source": [
    "df_clean[condition1 & condition2].target.value_counts(normalize=True)"
   ]
  },
  {
   "cell_type": "markdown",
   "metadata": {},
   "source": [
    "If we assume that more number of tweets were tweeted during the above mentioned time, we can see that 60% of tweets have positve sentiment while 40% of tweets have negative sentiment. This can imply two things either people have generally tweet postive things or there was a event during this period of time that made people tweet positively.    "
   ]
  },
  {
   "cell_type": "code",
   "execution_count": 167,
   "metadata": {},
   "outputs": [
    {
     "data": {
      "image/png": "[encoded data removed]",
      "text/plain": [
       "<Figure size 700x500 with 1 Axes>"
      ]
     },
     "metadata": {},
     "output_type": "display_data"
    }
   ],
   "source": [
    "ax = plt.subplot()\n",
    "df_clean.groupby(df_clean['date'].dt.month)['text'].count().plot(ylabel='Number of tweets', xlabel='Month'\n",
    "                                                               ,rot=90, figsize=(7, 5), ax=ax,\n",
    "                                                                kind='bar')\n",
    "ax.xaxis.set_ticks(ticks=[0, 1, 2], labels=['April', 'May', 'June'])\n",
    "plt.show()"
   ]
  },
  {
   "cell_type": "markdown",
   "metadata": {},
   "source": [
    "We can see from this figure that number of tweets in the month of June are highest as compare to other months. Let's see how many days for each month there were tweets.    "
   ]
  },
  {
   "cell_type": "code",
   "execution_count": 174,
   "metadata": {},
   "outputs": [],
   "source": [
    "df_month_day = df_clean.groupby([df_clean['date'].dt.month, df_clean['date'].dt.day])['text'].count()"
   ]
  },
  {
   "cell_type": "code",
   "execution_count": 197,
   "metadata": {},
   "outputs": [
    {
     "data": {
      "image/png": "[encoded data removed]",
      "text/plain": [
       "<Figure size 640x480 with 1 Axes>"
      ]
     },
     "metadata": {},
     "output_type": "display_data"
    }
   ],
   "source": [
    "#Plotting number of tweets for each day of month April, May, and June \n",
    "plt.figure()\n",
    "plt.plot(df_month_day.loc[4].index, df_month_day.loc[4].values, '--bo', label='April')\n",
    "plt.plot(df_month_day.loc[5].index, df_month_day.loc[5].values, '--ro', label='May')\n",
    "plt.plot(df_month_day.loc[6].index, df_month_day.loc[6].values, '--go', label='June')\n",
    "plt.legend(loc=(0.6, 0.7))\n",
    "plt.xlabel('Day of month')\n",
    "plt.ylabel('Number of tweets')\n",
    "plt.title('Number of tweets for each of the months')\n",
    "plt.show()"
   ]
  },
  {
   "cell_type": "code",
   "execution_count": 193,
   "metadata": {},
   "outputs": [
    {
     "data": {
      "text/plain": [
       "((7,), (22,), (19,))"
      ]
     },
     "execution_count": 193,
     "metadata": {},
     "output_type": "execute_result"
    }
   ],
   "source": [
    "#number of days for each month\n",
    "df_month_day.loc[4].values.shape, df_month_day.loc[5].values.shape, df_month_day.loc[6].values.shape"
   ]
  },
  {
   "cell_type": "markdown",
   "metadata": {},
   "source": [
    "We can see from the figure above that tweets were scrapped for 7 days in April, 22 days in May, and 19 days in June, respectively. Total number of tweets are highest in the month of June followed by May and April. Although, tweets were scrapped for 19 days in June, the number of tweets are still more than number of tweets for the month of May. In general number of tweets on any given day in the month of June was higher than the months of April and May. "
   ]
  },
  {
   "cell_type": "markdown",
   "metadata": {},
   "source": [
    "__Exploring column `user`__"
   ]
  },
  {
   "cell_type": "code",
   "execution_count": 204,
   "metadata": {},
   "outputs": [
    {
     "data": {
      "image/png": "[encoded data removed]",
      "text/plain": [
       "<Figure size 1000x700 with 1 Axes>"
      ]
     },
     "metadata": {},
     "output_type": "display_data"
    }
   ],
   "source": [
    "df_clean['user'].value_counts().head(30).plot(kind='bar', figsize=(10,7))\n",
    "plt.show()"
   ]
  },
  {
   "cell_type": "code",
   "execution_count": 214,
   "metadata": {},
   "outputs": [
    {
     "data": {
      "text/plain": [
       "43935    @NyleW I am lost. Please help me find a good home. \n",
       "Name: text, dtype: object"
      ]
     },
     "metadata": {},
     "output_type": "display_data"
    }
   ],
   "source": [
    "with pd.option_context('display.max_colwidth', None): #using with to temporarily set column with for dataframe to maximum\n",
    "    display(df_clean[df_clean['user']=='lost_dog']['text'].head(1))"
   ]
  },
  {
   "cell_type": "code",
   "execution_count": 218,
   "metadata": {},
   "outputs": [
    {
     "data": {
      "text/html": [
       "<div>\n",
       "<style scoped>\n",
       "    .dataframe tbody tr th:only-of-type {\n",
       "        vertical-align: middle;\n",
       "    }\n",
       "\n",
       "    .dataframe tbody tr th {\n",
       "        vertical-align: top;\n",
       "    }\n",
       "\n",
       "    .dataframe thead th {\n",
       "        text-align: right;\n",
       "    }\n",
       "</style>\n",
       "<table border=\"1\" class=\"dataframe\">\n",
       "  <thead>\n",
       "    <tr style=\"text-align: right;\">\n",
       "      <th></th>\n",
       "      <th>ids</th>\n",
       "      <th>date</th>\n",
       "      <th>user</th>\n",
       "      <th>text</th>\n",
       "      <th>target</th>\n",
       "    </tr>\n",
       "  </thead>\n",
       "  <tbody>\n",
       "    <tr>\n",
       "      <th>363303</th>\n",
       "      <td>2047801265</td>\n",
       "      <td>2009-06-05 14:12:05</td>\n",
       "      <td>webwoke</td>\n",
       "      <td>auchh, drop by 1  (32)elitestv.com</td>\n",
       "      <td>0</td>\n",
       "    </tr>\n",
       "    <tr>\n",
       "      <th>366529</th>\n",
       "      <td>2048883634</td>\n",
       "      <td>2009-06-05 15:56:07</td>\n",
       "      <td>webwoke</td>\n",
       "      <td>auchh, drop by 1  (7)pedeee.com</td>\n",
       "      <td>0</td>\n",
       "    </tr>\n",
       "    <tr>\n",
       "      <th>366530</th>\n",
       "      <td>2048883882</td>\n",
       "      <td>2009-06-05 15:56:08</td>\n",
       "      <td>webwoke</td>\n",
       "      <td>auchh, drop by 1  (17)rumahabi.com</td>\n",
       "      <td>0</td>\n",
       "    </tr>\n",
       "    <tr>\n",
       "      <th>366597</th>\n",
       "      <td>2048903368</td>\n",
       "      <td>2009-06-05 15:58:07</td>\n",
       "      <td>webwoke</td>\n",
       "      <td>auchh, drop by 1  (18)twitter.com</td>\n",
       "      <td>0</td>\n",
       "    </tr>\n",
       "    <tr>\n",
       "      <th>366599</th>\n",
       "      <td>2048903446</td>\n",
       "      <td>2009-06-05 15:58:07</td>\n",
       "      <td>webwoke</td>\n",
       "      <td>auchh, drop by 1  (19)yehia.org</td>\n",
       "      <td>0</td>\n",
       "    </tr>\n",
       "    <tr>\n",
       "      <th>...</th>\n",
       "      <td>...</td>\n",
       "      <td>...</td>\n",
       "      <td>...</td>\n",
       "      <td>...</td>\n",
       "      <td>...</td>\n",
       "    </tr>\n",
       "    <tr>\n",
       "      <th>1505838</th>\n",
       "      <td>2072460652</td>\n",
       "      <td>2009-06-07 21:04:09</td>\n",
       "      <td>webwoke</td>\n",
       "      <td>ohh yesss move up by 3  99. mybloglog.com</td>\n",
       "      <td>1</td>\n",
       "    </tr>\n",
       "    <tr>\n",
       "      <th>1505841</th>\n",
       "      <td>2072460726</td>\n",
       "      <td>2009-06-07 21:04:09</td>\n",
       "      <td>webwoke</td>\n",
       "      <td>Gooo... move up by 3  100. digg.com</td>\n",
       "      <td>1</td>\n",
       "    </tr>\n",
       "    <tr>\n",
       "      <th>1506014</th>\n",
       "      <td>2072494733</td>\n",
       "      <td>2009-06-07 21:08:09</td>\n",
       "      <td>webwoke</td>\n",
       "      <td>GoGoGo... move up by 2  105. ardhindie.com</td>\n",
       "      <td>1</td>\n",
       "    </tr>\n",
       "    <tr>\n",
       "      <th>1506015</th>\n",
       "      <td>2072494818</td>\n",
       "      <td>2009-06-07 21:08:09</td>\n",
       "      <td>webwoke</td>\n",
       "      <td>uhuiii... move up by 2  106. seo-guy.com</td>\n",
       "      <td>1</td>\n",
       "    </tr>\n",
       "    <tr>\n",
       "      <th>1506019</th>\n",
       "      <td>2072494917</td>\n",
       "      <td>2009-06-07 21:08:10</td>\n",
       "      <td>webwoke</td>\n",
       "      <td>ilovegoogle, move up by 2  107. wordpress.com</td>\n",
       "      <td>1</td>\n",
       "    </tr>\n",
       "  </tbody>\n",
       "</table>\n",
       "<p>345 rows × 5 columns</p>\n",
       "</div>"
      ],
      "text/plain": [
       "                ids                date     user  \\\n",
       "363303   2047801265 2009-06-05 14:12:05  webwoke   \n",
       "366529   2048883634 2009-06-05 15:56:07  webwoke   \n",
       "366530   2048883882 2009-06-05 15:56:08  webwoke   \n",
       "366597   2048903368 2009-06-05 15:58:07  webwoke   \n",
       "366599   2048903446 2009-06-05 15:58:07  webwoke   \n",
       "...             ...                 ...      ...   \n",
       "1505838  2072460652 2009-06-07 21:04:09  webwoke   \n",
       "1505841  2072460726 2009-06-07 21:04:09  webwoke   \n",
       "1506014  2072494733 2009-06-07 21:08:09  webwoke   \n",
       "1506015  2072494818 2009-06-07 21:08:09  webwoke   \n",
       "1506019  2072494917 2009-06-07 21:08:10  webwoke   \n",
       "\n",
       "                                                  text  target  \n",
       "363303              auchh, drop by 1  (32)elitestv.com       0  \n",
       "366529                 auchh, drop by 1  (7)pedeee.com       0  \n",
       "366530              auchh, drop by 1  (17)rumahabi.com       0  \n",
       "366597               auchh, drop by 1  (18)twitter.com       0  \n",
       "366599                 auchh, drop by 1  (19)yehia.org       0  \n",
       "...                                                ...     ...  \n",
       "1505838      ohh yesss move up by 3  99. mybloglog.com       1  \n",
       "1505841            Gooo... move up by 3  100. digg.com       1  \n",
       "1506014     GoGoGo... move up by 2  105. ardhindie.com       1  \n",
       "1506015       uhuiii... move up by 2  106. seo-guy.com       1  \n",
       "1506019  ilovegoogle, move up by 2  107. wordpress.com       1  \n",
       "\n",
       "[345 rows x 5 columns]"
      ]
     },
     "execution_count": 218,
     "metadata": {},
     "output_type": "execute_result"
    }
   ],
   "source": [
    "df_clean[df_clean['user']=='webwoke']"
   ]
  },
  {
   "cell_type": "markdown",
   "metadata": {},
   "source": [
    "The figure above shows top thirty users who tweeted most. User `lost_dog` had the highest number of tweets compared to other tweeters. Looking at this user's tweets, it seems all the tweets are same and about `I am lost. Please help me find a good home.`. All the tweets are same but the user tweeted it multiple times by tagging different users. This shows that we may have to remove the users from text to remove duplicated text from `text` column.  "
   ]
  },
  {
   "cell_type": "markdown",
   "metadata": {},
   "source": [
    "__Exploring column `text`__"
   ]
  },
  {
   "cell_type": "code",
   "execution_count": 225,
   "metadata": {},
   "outputs": [
    {
     "data": {
      "text/html": [
       "<div>\n",
       "<style scoped>\n",
       "    .dataframe tbody tr th:only-of-type {\n",
       "        vertical-align: middle;\n",
       "    }\n",
       "\n",
       "    .dataframe tbody tr th {\n",
       "        vertical-align: top;\n",
       "    }\n",
       "\n",
       "    .dataframe thead th {\n",
       "        text-align: right;\n",
       "    }\n",
       "</style>\n",
       "<table border=\"1\" class=\"dataframe\">\n",
       "  <thead>\n",
       "    <tr style=\"text-align: right;\">\n",
       "      <th></th>\n",
       "      <th>text</th>\n",
       "      <th>target</th>\n",
       "    </tr>\n",
       "  </thead>\n",
       "  <tbody>\n",
       "    <tr>\n",
       "      <th>0</th>\n",
       "      <td>@switchfoot http://twitpic.com/2y1zl - Awww, that's a bummer.  You shoulda got David Carr of Third Day to do it. ;D</td>\n",
       "      <td>0</td>\n",
       "    </tr>\n",
       "    <tr>\n",
       "      <th>1</th>\n",
       "      <td>is upset that he can't update his Facebook by texting it... and might cry as a result  School today also. Blah!</td>\n",
       "      <td>0</td>\n",
       "    </tr>\n",
       "    <tr>\n",
       "      <th>2</th>\n",
       "      <td>@Kenichan I dived many times for the ball. Managed to save 50%  The rest go out of bounds</td>\n",
       "      <td>0</td>\n",
       "    </tr>\n",
       "    <tr>\n",
       "      <th>3</th>\n",
       "      <td>my whole body feels itchy and like its on fire</td>\n",
       "      <td>0</td>\n",
       "    </tr>\n",
       "    <tr>\n",
       "      <th>4</th>\n",
       "      <td>@nationwideclass no, it's not behaving at all. i'm mad. why am i here? because I can't see you all over there.</td>\n",
       "      <td>0</td>\n",
       "    </tr>\n",
       "    <tr>\n",
       "      <th>5</th>\n",
       "      <td>@Kwesidei not the whole crew</td>\n",
       "      <td>0</td>\n",
       "    </tr>\n",
       "    <tr>\n",
       "      <th>6</th>\n",
       "      <td>Need a hug</td>\n",
       "      <td>0</td>\n",
       "    </tr>\n",
       "    <tr>\n",
       "      <th>7</th>\n",
       "      <td>@LOLTrish hey  long time no see! Yes.. Rains a bit ,only a bit  LOL , I'm fine thanks , how's you ?</td>\n",
       "      <td>0</td>\n",
       "    </tr>\n",
       "    <tr>\n",
       "      <th>8</th>\n",
       "      <td>@Tatiana_K nope they didn't have it</td>\n",
       "      <td>0</td>\n",
       "    </tr>\n",
       "    <tr>\n",
       "      <th>9</th>\n",
       "      <td>@twittera que me muera ?</td>\n",
       "      <td>0</td>\n",
       "    </tr>\n",
       "    <tr>\n",
       "      <th>10</th>\n",
       "      <td>spring break in plain city... it's snowing</td>\n",
       "      <td>0</td>\n",
       "    </tr>\n",
       "    <tr>\n",
       "      <th>11</th>\n",
       "      <td>I just re-pierced my ears</td>\n",
       "      <td>0</td>\n",
       "    </tr>\n",
       "    <tr>\n",
       "      <th>12</th>\n",
       "      <td>@caregiving I couldn't bear to watch it.  And I thought the UA loss was embarrassing . . . . .</td>\n",
       "      <td>0</td>\n",
       "    </tr>\n",
       "    <tr>\n",
       "      <th>13</th>\n",
       "      <td>@octolinz16 It it counts, idk why I did either. you never talk to me anymore</td>\n",
       "      <td>0</td>\n",
       "    </tr>\n",
       "    <tr>\n",
       "      <th>14</th>\n",
       "      <td>@smarrison i would've been the first, but i didn't have a gun.    not really though, zac snyder's just a doucheclown.</td>\n",
       "      <td>0</td>\n",
       "    </tr>\n",
       "    <tr>\n",
       "      <th>15</th>\n",
       "      <td>@iamjazzyfizzle I wish I got to watch it with you!! I miss you and @iamlilnicki  how was the premiere?!</td>\n",
       "      <td>0</td>\n",
       "    </tr>\n",
       "    <tr>\n",
       "      <th>16</th>\n",
       "      <td>Hollis' death scene will hurt me severely to watch on film  wry is directors cut not out now?</td>\n",
       "      <td>0</td>\n",
       "    </tr>\n",
       "    <tr>\n",
       "      <th>17</th>\n",
       "      <td>about to file taxes</td>\n",
       "      <td>0</td>\n",
       "    </tr>\n",
       "    <tr>\n",
       "      <th>18</th>\n",
       "      <td>@LettyA ahh ive always wanted to see rent  love the soundtrack!!</td>\n",
       "      <td>0</td>\n",
       "    </tr>\n",
       "    <tr>\n",
       "      <th>19</th>\n",
       "      <td>@FakerPattyPattz Oh dear. Were you drinking out of the forgotten table drinks?</td>\n",
       "      <td>0</td>\n",
       "    </tr>\n",
       "    <tr>\n",
       "      <th>20</th>\n",
       "      <td>@alydesigns i was out most of the day so didn't get much done</td>\n",
       "      <td>0</td>\n",
       "    </tr>\n",
       "    <tr>\n",
       "      <th>21</th>\n",
       "      <td>one of my friend called me, and asked to meet with her at Mid Valley today...but i've no time *sigh*</td>\n",
       "      <td>0</td>\n",
       "    </tr>\n",
       "    <tr>\n",
       "      <th>22</th>\n",
       "      <td>@angry_barista I baked you a cake but I ated it</td>\n",
       "      <td>0</td>\n",
       "    </tr>\n",
       "    <tr>\n",
       "      <th>23</th>\n",
       "      <td>this week is not going as i had hoped</td>\n",
       "      <td>0</td>\n",
       "    </tr>\n",
       "    <tr>\n",
       "      <th>24</th>\n",
       "      <td>blagh class at 8 tomorrow</td>\n",
       "      <td>0</td>\n",
       "    </tr>\n",
       "    <tr>\n",
       "      <th>25</th>\n",
       "      <td>I hate when I have to call and wake people up</td>\n",
       "      <td>0</td>\n",
       "    </tr>\n",
       "    <tr>\n",
       "      <th>26</th>\n",
       "      <td>Just going to cry myself to sleep after watching Marley and Me.</td>\n",
       "      <td>0</td>\n",
       "    </tr>\n",
       "    <tr>\n",
       "      <th>27</th>\n",
       "      <td>im sad now  Miss.Lilly</td>\n",
       "      <td>0</td>\n",
       "    </tr>\n",
       "    <tr>\n",
       "      <th>28</th>\n",
       "      <td>ooooh.... LOL  that leslie.... and ok I won't do it again so leslie won't  get mad again</td>\n",
       "      <td>0</td>\n",
       "    </tr>\n",
       "    <tr>\n",
       "      <th>29</th>\n",
       "      <td>Meh... Almost Lover is the exception... this track gets me depressed every time.</td>\n",
       "      <td>0</td>\n",
       "    </tr>\n",
       "    <tr>\n",
       "      <th>30</th>\n",
       "      <td>some1 hacked my account on aim  now i have to make a new one</td>\n",
       "      <td>0</td>\n",
       "    </tr>\n",
       "    <tr>\n",
       "      <th>31</th>\n",
       "      <td>@alielayus I want to go to promote GEAR AND GROOVE but unfornately no ride there  I may b going to the one in Anaheim in May though</td>\n",
       "      <td>0</td>\n",
       "    </tr>\n",
       "    <tr>\n",
       "      <th>32</th>\n",
       "      <td>thought sleeping in was an option tomorrow but realizing that it now is not. evaluations in the morning and work in the afternoon!</td>\n",
       "      <td>0</td>\n",
       "    </tr>\n",
       "    <tr>\n",
       "      <th>33</th>\n",
       "      <td>@julieebaby awe i love you too!!!! 1 am here  i miss you</td>\n",
       "      <td>0</td>\n",
       "    </tr>\n",
       "    <tr>\n",
       "      <th>34</th>\n",
       "      <td>@HumpNinja I cry my asian eyes to sleep at night</td>\n",
       "      <td>0</td>\n",
       "    </tr>\n",
       "    <tr>\n",
       "      <th>35</th>\n",
       "      <td>ok I'm sick and spent an hour sitting in the shower cause I was too sick to stand and held back the puke like a champ. BED now</td>\n",
       "      <td>0</td>\n",
       "    </tr>\n",
       "    <tr>\n",
       "      <th>36</th>\n",
       "      <td>@cocomix04 ill tell ya the story later  not a good day and ill be workin for like three more hours...</td>\n",
       "      <td>0</td>\n",
       "    </tr>\n",
       "    <tr>\n",
       "      <th>37</th>\n",
       "      <td>@MissXu sorry! bed time came here (GMT+1)   http://is.gd/fNge</td>\n",
       "      <td>0</td>\n",
       "    </tr>\n",
       "    <tr>\n",
       "      <th>38</th>\n",
       "      <td>@fleurylis I don't either. Its depressing. I don't think I even want to know about the kids in suitcases.</td>\n",
       "      <td>0</td>\n",
       "    </tr>\n",
       "    <tr>\n",
       "      <th>39</th>\n",
       "      <td>Bed. Class 8-12. Work 12-3. Gym 3-5 or 6. Then class 6-10. Another day that's gonna fly by. I miss my girlfriend</td>\n",
       "      <td>0</td>\n",
       "    </tr>\n",
       "  </tbody>\n",
       "</table>\n",
       "</div>"
      ],
      "text/plain": [
       "                                                                                                                                   text  \\\n",
       "0                   @switchfoot http://twitpic.com/2y1zl - Awww, that's a bummer.  You shoulda got David Carr of Third Day to do it. ;D   \n",
       "1                       is upset that he can't update his Facebook by texting it... and might cry as a result  School today also. Blah!   \n",
       "2                                             @Kenichan I dived many times for the ball. Managed to save 50%  The rest go out of bounds   \n",
       "3                                                                                       my whole body feels itchy and like its on fire    \n",
       "4                       @nationwideclass no, it's not behaving at all. i'm mad. why am i here? because I can't see you all over there.    \n",
       "5                                                                                                         @Kwesidei not the whole crew    \n",
       "6                                                                                                                           Need a hug    \n",
       "7                                   @LOLTrish hey  long time no see! Yes.. Rains a bit ,only a bit  LOL , I'm fine thanks , how's you ?   \n",
       "8                                                                                                  @Tatiana_K nope they didn't have it    \n",
       "9                                                                                                             @twittera que me muera ?    \n",
       "10                                                                                          spring break in plain city... it's snowing    \n",
       "11                                                                                                           I just re-pierced my ears    \n",
       "12                                       @caregiving I couldn't bear to watch it.  And I thought the UA loss was embarrassing . . . . .   \n",
       "13                                                        @octolinz16 It it counts, idk why I did either. you never talk to me anymore    \n",
       "14                @smarrison i would've been the first, but i didn't have a gun.    not really though, zac snyder's just a doucheclown.   \n",
       "15                              @iamjazzyfizzle I wish I got to watch it with you!! I miss you and @iamlilnicki  how was the premiere?!   \n",
       "16                                        Hollis' death scene will hurt me severely to watch on film  wry is directors cut not out now?   \n",
       "17                                                                                                                 about to file taxes    \n",
       "18                                                                     @LettyA ahh ive always wanted to see rent  love the soundtrack!!   \n",
       "19                                                      @FakerPattyPattz Oh dear. Were you drinking out of the forgotten table drinks?    \n",
       "20                                                                       @alydesigns i was out most of the day so didn't get much done    \n",
       "21                                one of my friend called me, and asked to meet with her at Mid Valley today...but i've no time *sigh*    \n",
       "22                                                                                     @angry_barista I baked you a cake but I ated it    \n",
       "23                                                                                               this week is not going as i had hoped    \n",
       "24                                                                                                           blagh class at 8 tomorrow    \n",
       "25                                                                                       I hate when I have to call and wake people up    \n",
       "26                                                                    Just going to cry myself to sleep after watching Marley and Me.     \n",
       "27                                                                                                               im sad now  Miss.Lilly   \n",
       "28                                            ooooh.... LOL  that leslie.... and ok I won't do it again so leslie won't  get mad again    \n",
       "29                                                    Meh... Almost Lover is the exception... this track gets me depressed every time.    \n",
       "30                                                                         some1 hacked my account on aim  now i have to make a new one   \n",
       "31  @alielayus I want to go to promote GEAR AND GROOVE but unfornately no ride there  I may b going to the one in Anaheim in May though   \n",
       "32  thought sleeping in was an option tomorrow but realizing that it now is not. evaluations in the morning and work in the afternoon!    \n",
       "33                                                                             @julieebaby awe i love you too!!!! 1 am here  i miss you   \n",
       "34                                                                                    @HumpNinja I cry my asian eyes to sleep at night    \n",
       "35      ok I'm sick and spent an hour sitting in the shower cause I was too sick to stand and held back the puke like a champ. BED now    \n",
       "36                                @cocomix04 ill tell ya the story later  not a good day and ill be workin for like three more hours...   \n",
       "37                                                                        @MissXu sorry! bed time came here (GMT+1)   http://is.gd/fNge   \n",
       "38                           @fleurylis I don't either. Its depressing. I don't think I even want to know about the kids in suitcases.    \n",
       "39                    Bed. Class 8-12. Work 12-3. Gym 3-5 or 6. Then class 6-10. Another day that's gonna fly by. I miss my girlfriend    \n",
       "\n",
       "    target  \n",
       "0        0  \n",
       "1        0  \n",
       "2        0  \n",
       "3        0  \n",
       "4        0  \n",
       "5        0  \n",
       "6        0  \n",
       "7        0  \n",
       "8        0  \n",
       "9        0  \n",
       "10       0  \n",
       "11       0  \n",
       "12       0  \n",
       "13       0  \n",
       "14       0  \n",
       "15       0  \n",
       "16       0  \n",
       "17       0  \n",
       "18       0  \n",
       "19       0  \n",
       "20       0  \n",
       "21       0  \n",
       "22       0  \n",
       "23       0  \n",
       "24       0  \n",
       "25       0  \n",
       "26       0  \n",
       "27       0  \n",
       "28       0  \n",
       "29       0  \n",
       "30       0  \n",
       "31       0  \n",
       "32       0  \n",
       "33       0  \n",
       "34       0  \n",
       "35       0  \n",
       "36       0  \n",
       "37       0  \n",
       "38       0  \n",
       "39       0  "
      ]
     },
     "metadata": {},
     "output_type": "display_data"
    }
   ],
   "source": [
    "with pd.option_context('display.max_colwidth', None):\n",
    "    display(df_clean[['text', 'target']].head(40))"
   ]
  },
  {
   "cell_type": "markdown",
   "metadata": {},
   "source": [
    "From initial visual inspection, we can see that the `text` column contains links, and user names in addition to text. We have to remove user name and links from the `text` column as they do not provide any additional information about sentiment of the tweet. "
   ]
  },
  {
   "cell_type": "code",
   "execution_count": null,
   "metadata": {},
   "outputs": [],
   "source": []
  }
 ],
 "metadata": {
  "kernelspec": {
   "display_name": "capstone_env",
   "language": "python",
   "name": "capstone_env"
  },
  "language_info": {
   "codemirror_mode": {
    "name": "ipython",
    "version": 3
   },
   "file_extension": ".py",
   "mimetype": "text/x-python",
   "name": "python",
   "nbconvert_exporter": "python",
   "pygments_lexer": "ipython3",
   "version": "3.8.12"
  }
 },
 "nbformat": 4,
 "nbformat_minor": 5
}
