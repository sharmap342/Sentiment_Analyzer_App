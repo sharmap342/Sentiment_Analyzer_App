{
 "cells": [
  {
   "cell_type": "markdown",
   "metadata": {},
   "source": [
    "## Notebook 2: `2_Modelling`\n",
    "\n",
    "In the last notebook we carried out data cleaning and EDA to get some initial insights about our data. In this notebook we will use the cleaned data for modelling. Before the data can be fed to models, we have to transform text data to numeric data. Different steps taken to transform data are also described in this data. Finally, steps for training different models on the transformed data are described here.    \n",
    "\n",
    "The above steps are presented in the following table of contents. \n",
    "\n",
    "<br>\n",
    "\n",
    "### Table of Contents \n",
    "\n",
    "<br>   \n",
    "\n",
    "1. [Data Transformation](#transformation)                    \n",
    "2. [Modelling](#modelling)        \n",
    "    2.1 [Logistic Regression](#log)    \n",
    "    2.2 [KNN model](#knn)      \n",
    "    2.3 [Decision Tree Classifier](#DT)         \n",
    "    2.4 [XGBoost](#XGB)                       \n",
    "3. [Conclusion](#conclusion)       "
   ]
  },
  {
   "cell_type": "markdown",
   "metadata": {},
   "source": [
    "Import the required packages "
   ]
  },
  {
   "cell_type": "code",
   "execution_count": 1,
   "metadata": {},
   "outputs": [],
   "source": [
    "#data wrangling \n",
    "import numpy as np\n",
    "import pandas as pd\n",
    "\n",
    "\n",
    "#plotting \n",
    "import matplotlib.pyplot as plt\n",
    "plt.style.use('default')\n",
    "import seaborn as sns\n",
    "\n",
    "#text processing \n",
    "import re\n",
    "import nltk\n",
    "from nltk.corpus import stopwords\n",
    "from  nltk.stem import SnowballStemmer\n",
    "from sklearn.feature_extraction.text import CountVectorizer, TfidfVectorizer\n",
    "from wordcloud import WordCloud, STOPWORDS, ImageColorGenerator\n",
    "from nltk.stem import WordNetLemmatizer\n",
    "from nltk.tokenize import word_tokenize\n",
    "\n",
    "\n",
    "#Modelling \n",
    "from sklearn.model_selection import train_test_split\n",
    "from sklearn.feature_extraction.text import CountVectorizer\n",
    "from sklearn.linear_model import LogisticRegression\n",
    "\n",
    "import joblib"
   ]
  },
  {
   "cell_type": "markdown",
   "metadata": {},
   "source": [
    "Import cleaned data "
   ]
  },
  {
   "cell_type": "code",
   "execution_count": 2,
   "id": "fbe03061",
   "metadata": {},
   "outputs": [],
   "source": [
    "df_clean = pd.read_csv('../data/cleaned_data.csv')"
   ]
  },
  {
   "cell_type": "markdown",
   "metadata": {},
   "source": [
    "## Data Transformation  <a name=\"transformation\"></a>   \n",
    "\n",
    "In order to train any machine learning or deep learning models on the text data, first we have to convert the text data to machine readable form (numbers). For this, following steps were taken to transform text data to numerical tabular format. \n",
    "\n",
    "- Tokenize data \n",
    "- Remove stop words \n",
    "- Perform stemming or lemmitization\n",
    "- Encode tokens to numbers  "
   ]
  },
  {
   "cell_type": "code",
   "execution_count": 3,
   "id": "d8a2626f",
   "metadata": {},
   "outputs": [],
   "source": [
    "#tokenize the data \n",
    "df_clean['cleaned_text'] = df_clean['text'].apply(lambda x: word_tokenize(x))"
   ]
  },
  {
   "cell_type": "markdown",
   "metadata": {},
   "source": [
    "Our goal is to predict sentiment for a given tweet. Stop words such as the, a, an etc. do not contribute to the sentiment for a sentence. I am removing the stop words from tokenized data. "
   ]
  },
  {
   "cell_type": "code",
   "execution_count": 6,
   "id": "e7501634",
   "metadata": {},
   "outputs": [],
   "source": [
    "#create a list of stop words \n",
    "stop_words = stopwords.words('english')"
   ]
  },
  {
   "cell_type": "code",
   "execution_count": 4,
   "metadata": {},
   "outputs": [],
   "source": [
    "#initialize stemmer\n",
    "snowball_stemmer = SnowballStemmer(language='english')\n",
    "wordnet_stemmer = WordNetLemmatizer()"
   ]
  },
  {
   "cell_type": "code",
   "execution_count": 7,
   "id": "892e025a",
   "metadata": {},
   "outputs": [],
   "source": [
    "#remove stop words from tokenized data\n",
    "df_clean['cleaned_text'] = df_clean['cleaned_text'].apply(lambda x: [word for word in x if word.casefold() not in stop_words])"
   ]
  },
  {
   "cell_type": "markdown",
   "metadata": {},
   "source": [
    "The words derived from a root word has the same effect on the sentiment as of root word. For example both work and working, would have effect on the sentiment of a tweet. To reduce number of features, we can just keep root word in our data. This process is called stemming. Let's perform stemming on our data. "
   ]
  },
  {
   "cell_type": "code",
   "execution_count": 8,
   "id": "0691d265",
   "metadata": {},
   "outputs": [],
   "source": [
    "#perform stemming or lemmetization\n",
    "df_clean['cleaned_text'] = df_clean['cleaned_text'].apply(lambda x: [snowball_stemmer.stem(word) for word in x])  "
   ]
  },
  {
   "cell_type": "markdown",
   "metadata": {},
   "source": [
    "Now let's have a look at the tokenized data after removing stop words and lemmetization. "
   ]
  },
  {
   "cell_type": "code",
   "execution_count": 9,
   "id": "0d101b06",
   "metadata": {},
   "outputs": [
    {
     "data": {
      "text/html": [
       "<div>\n",
       "<style scoped>\n",
       "    .dataframe tbody tr th:only-of-type {\n",
       "        vertical-align: middle;\n",
       "    }\n",
       "\n",
       "    .dataframe tbody tr th {\n",
       "        vertical-align: top;\n",
       "    }\n",
       "\n",
       "    .dataframe thead th {\n",
       "        text-align: right;\n",
       "    }\n",
       "</style>\n",
       "<table border=\"1\" class=\"dataframe\">\n",
       "  <thead>\n",
       "    <tr style=\"text-align: right;\">\n",
       "      <th></th>\n",
       "      <th>Unnamed: 0</th>\n",
       "      <th>ids</th>\n",
       "      <th>date</th>\n",
       "      <th>user</th>\n",
       "      <th>text</th>\n",
       "      <th>target</th>\n",
       "      <th>cleaned_text</th>\n",
       "    </tr>\n",
       "  </thead>\n",
       "  <tbody>\n",
       "    <tr>\n",
       "      <th>0</th>\n",
       "      <td>0</td>\n",
       "      <td>1467810369</td>\n",
       "      <td>2009-04-06 22:19:45</td>\n",
       "      <td>_TheSpecialOne_</td>\n",
       "      <td>Awww thats a bummer You shoulda got David Carr...</td>\n",
       "      <td>0</td>\n",
       "      <td>[awww, that, bummer, shoulda, got, david, carr...</td>\n",
       "    </tr>\n",
       "    <tr>\n",
       "      <th>1</th>\n",
       "      <td>1</td>\n",
       "      <td>1467810672</td>\n",
       "      <td>2009-04-06 22:19:49</td>\n",
       "      <td>scotthamilton</td>\n",
       "      <td>is upset that he cant update his Facebook by t...</td>\n",
       "      <td>0</td>\n",
       "      <td>[upset, cant, updat, facebook, text, might, cr...</td>\n",
       "    </tr>\n",
       "    <tr>\n",
       "      <th>2</th>\n",
       "      <td>2</td>\n",
       "      <td>1467810917</td>\n",
       "      <td>2009-04-06 22:19:53</td>\n",
       "      <td>mattycus</td>\n",
       "      <td>I dived many times for the ball Managed to sav...</td>\n",
       "      <td>0</td>\n",
       "      <td>[dive, mani, time, ball, manag, save, 50, rest...</td>\n",
       "    </tr>\n",
       "    <tr>\n",
       "      <th>3</th>\n",
       "      <td>3</td>\n",
       "      <td>1467811184</td>\n",
       "      <td>2009-04-06 22:19:57</td>\n",
       "      <td>ElleCTF</td>\n",
       "      <td>my whole body feels itchy and like its on fire</td>\n",
       "      <td>0</td>\n",
       "      <td>[whole, bodi, feel, itchi, like, fire]</td>\n",
       "    </tr>\n",
       "    <tr>\n",
       "      <th>4</th>\n",
       "      <td>4</td>\n",
       "      <td>1467811193</td>\n",
       "      <td>2009-04-06 22:19:57</td>\n",
       "      <td>Karoli</td>\n",
       "      <td>no its not behaving at all im mad why am i her...</td>\n",
       "      <td>0</td>\n",
       "      <td>[behav, im, mad, cant, see]</td>\n",
       "    </tr>\n",
       "  </tbody>\n",
       "</table>\n",
       "</div>"
      ],
      "text/plain": [
       "   Unnamed: 0         ids                 date             user  \\\n",
       "0           0  1467810369  2009-04-06 22:19:45  _TheSpecialOne_   \n",
       "1           1  1467810672  2009-04-06 22:19:49    scotthamilton   \n",
       "2           2  1467810917  2009-04-06 22:19:53         mattycus   \n",
       "3           3  1467811184  2009-04-06 22:19:57          ElleCTF   \n",
       "4           4  1467811193  2009-04-06 22:19:57           Karoli   \n",
       "\n",
       "                                                text  target  \\\n",
       "0  Awww thats a bummer You shoulda got David Carr...       0   \n",
       "1  is upset that he cant update his Facebook by t...       0   \n",
       "2  I dived many times for the ball Managed to sav...       0   \n",
       "3     my whole body feels itchy and like its on fire       0   \n",
       "4  no its not behaving at all im mad why am i her...       0   \n",
       "\n",
       "                                        cleaned_text  \n",
       "0  [awww, that, bummer, shoulda, got, david, carr...  \n",
       "1  [upset, cant, updat, facebook, text, might, cr...  \n",
       "2  [dive, mani, time, ball, manag, save, 50, rest...  \n",
       "3             [whole, bodi, feel, itchi, like, fire]  \n",
       "4                        [behav, im, mad, cant, see]  "
      ]
     },
     "execution_count": 9,
     "metadata": {},
     "output_type": "execute_result"
    }
   ],
   "source": [
    "\n",
    "df_clean.head()"
   ]
  },
  {
   "cell_type": "markdown",
   "metadata": {},
   "source": [
    "After tokenizing text let's create feature and targets."
   ]
  },
  {
   "cell_type": "code",
   "execution_count": 10,
   "id": "27efe1ac",
   "metadata": {},
   "outputs": [],
   "source": [
    "X = df_clean['cleaned_text'].apply(lambda x: ' '.join(x))\n",
    "y = df_clean['target']"
   ]
  },
  {
   "cell_type": "markdown",
   "id": "6f7f5677",
   "metadata": {},
   "source": [
    "Split data into training and validation sets"
   ]
  },
  {
   "cell_type": "code",
   "execution_count": 11,
   "id": "200597e9",
   "metadata": {},
   "outputs": [],
   "source": [
    "X_train, X_validation, y_train, y_validation = train_test_split(X, y, train_size=0.8, stratify=y)"
   ]
  },
  {
   "cell_type": "markdown",
   "id": "6d83331b",
   "metadata": {},
   "source": [
    "Our data is still in text format. To convert it to numbers, we can either use CountVectorizer or TF-IDFVectorizer methods from sklearn. The resulting table of numbers is known as document term matrix. I am using `countvectorizer`. This selection is random, technically the process of selecting this is by evaluating accuracy using both the transformers and selecting the one which gives highest accuracy. \n"
   ]
  },
  {
   "cell_type": "code",
   "execution_count": 12,
   "id": "95d5daab",
   "metadata": {},
   "outputs": [],
   "source": [
    "bagofwords = CountVectorizer(min_df=20)"
   ]
  },
  {
   "cell_type": "markdown",
   "metadata": {},
   "source": [
    "Again, the selection of `min_df=20` is random. We will see later that the the value 20 is optimum because there is no significant difference in the model accuracy when using min_df 20 and 10.    \n",
    "\n",
    "Now let's fit this count vectorizer to training data. It should only be fitted to training data to avoid information leakage from validation set which is solely used for the purpose of evaluating model's accuracy. "
   ]
  },
  {
   "cell_type": "code",
   "execution_count": 13,
   "id": "40aa9300",
   "metadata": {},
   "outputs": [
    {
     "data": {
      "text/plain": [
       "CountVectorizer(min_df=20)"
      ]
     },
     "execution_count": 13,
     "metadata": {},
     "output_type": "execute_result"
    }
   ],
   "source": [
    "bagofwords.fit(X_train)\n"
   ]
  },
  {
   "cell_type": "markdown",
   "metadata": {},
   "source": [
    "- __Note:__ we are not normalizing the values of features because all the features take values between 0 and 1. We normalize features when the numerical values of one feature is exceptionally larger than the other."
   ]
  },
  {
   "cell_type": "markdown",
   "metadata": {},
   "source": [
    "Save the transformed to pkl file. We will load it later when we test our model on the scraped data from twitter.  "
   ]
  },
  {
   "cell_type": "code",
   "execution_count": null,
   "metadata": {},
   "outputs": [],
   "source": [
    "joblib.dump(bagofwords, \"count_vectorizer.pkl\")"
   ]
  },
  {
   "cell_type": "markdown",
   "metadata": {},
   "source": [
    "Using the vectorizer transform training and validation sets.   "
   ]
  },
  {
   "cell_type": "code",
   "execution_count": 14,
   "id": "5271f4bd",
   "metadata": {},
   "outputs": [
    {
     "data": {
      "text/plain": [
       "<1226163x15541 sparse matrix of type '<class 'numpy.int64'>'\n",
       "\twith 8204192 stored elements in Compressed Sparse Row format>"
      ]
     },
     "execution_count": 14,
     "metadata": {},
     "output_type": "execute_result"
    }
   ],
   "source": [
    "X_train_transformed = bagofwords.transform(X_train)\n",
    "X_train_transformed"
   ]
  },
  {
   "cell_type": "code",
   "execution_count": 15,
   "id": "657f27ef",
   "metadata": {},
   "outputs": [],
   "source": [
    "X_validation_transformed = bagofwords.transform(X_validation)"
   ]
  },
  {
   "cell_type": "markdown",
   "metadata": {},
   "source": [
    "<span style=\"color:red\">Warning, the following dense array takes a lot of memory!!!!!!!!!</span>. "
   ]
  },
  {
   "cell_type": "code",
   "execution_count": null,
   "id": "5fbcfeef",
   "metadata": {},
   "outputs": [],
   "source": [
    "#let's visualize top words in our training data \n",
    "X_train_array = X_train_transformed.toarray()"
   ]
  },
  {
   "cell_type": "code",
   "execution_count": 16,
   "id": "a0383d3d",
   "metadata": {},
   "outputs": [],
   "source": [
    "#get the feature names from the transformer \n",
    "words = bagofwords.get_feature_names()\n"
   ]
  },
  {
   "cell_type": "code",
   "execution_count": null,
   "id": "4e3afede",
   "metadata": {},
   "outputs": [],
   "source": [
    "word_counts = X_train_array.sum(axis=0)"
   ]
  },
  {
   "cell_type": "code",
   "execution_count": 27,
   "id": "c3b5c8f1",
   "metadata": {},
   "outputs": [],
   "source": [
    "#define a function to plot top words \n",
    "def plot_words(words, word_counts, top=20):\n",
    "    \"\"\"function to plot top words\n",
    "    Parameters\n",
    "    ----------\n",
    "    words: str, name of the features\n",
    "    word_counts: int, count of features\n",
    "    top: int, number of top words\n",
    "    \n",
    "    Returns\n",
    "    -------\n",
    "    matplotlib plot\"\"\"\n",
    "    \n",
    "    word_df = pd.DataFrame({'words' : words,\n",
    "                           'word_counts':word_counts})\n",
    "    fig, ax = plt.subplots()\n",
    "    word_df.set_index('words').sort_values(by='word_counts', ascending=False).\\\n",
    "    head(top).plot(kind='bar', rot=45, ax=ax)\n",
    "    sns.despine()\n",
    "    ax.set_title(f'Top {top} frequent words')\n",
    "    ax.set_ylabel('Frequency')\n",
    "    return ax "
   ]
  },
  {
   "cell_type": "code",
   "execution_count": null,
   "id": "9109c180",
   "metadata": {},
   "outputs": [
    {
     "data": {
      "image/png": "[encoded data removed]",
      "text/plain": [
       "<Figure size 640x480 with 1 Axes>"
      ]
     },
     "metadata": {},
     "output_type": "display_data"
    }
   ],
   "source": [
    "plot_words(words, word_counts)\n",
    "plt.show()"
   ]
  },
  {
   "cell_type": "markdown",
   "metadata": {},
   "source": [
    "We can see from the figure above that most common words are about going somewhere or about work or about daily plans. The tokens such as miss, love want shows affinity towards certain objects or person. Finally, gratitude words such as good, thank, like are also present in the most common words. "
   ]
  },
  {
   "cell_type": "markdown",
   "metadata": {},
   "source": [
    "## Modelling <a name=\"modelling\"></a>   "
   ]
  },
  {
   "cell_type": "markdown",
   "metadata": {},
   "source": [
    "### Logistic Regression <a name=\"log\"></a>   "
   ]
  },
  {
   "cell_type": "markdown",
   "id": "588b7134",
   "metadata": {},
   "source": [
    "Let's train a logistic regression model to predict sentiment for a tweet. \n"
   ]
  },
  {
   "cell_type": "code",
   "execution_count": 17,
   "id": "53653f74",
   "metadata": {},
   "outputs": [
    {
     "data": {
      "text/plain": [
       "LogisticRegression(C=0.1, max_iter=1000)"
      ]
     },
     "execution_count": 17,
     "metadata": {},
     "output_type": "execute_result"
    }
   ],
   "source": [
    "log_model = LogisticRegression(C=0.1, max_iter=1000)\n",
    "\n",
    "log_model.fit(X_train_transformed, y_train)"
   ]
  },
  {
   "cell_type": "markdown",
   "metadata": {},
   "source": [
    "I am saving this model as a pkl file for later use. We will see later during the hyperparameter optimization that this model has the optimum value of heyper parameter. Also we will use this model when we test it on the scraped data from twitter.  "
   ]
  },
  {
   "cell_type": "code",
   "execution_count": 31,
   "id": "a81c9a74",
   "metadata": {},
   "outputs": [
    {
     "data": {
      "text/plain": [
       "['LogisticRegressoinModel.pkl']"
      ]
     },
     "execution_count": 31,
     "metadata": {},
     "output_type": "execute_result"
    }
   ],
   "source": [
    "joblib.dump(log_model, 'LogisticRegressoinModel.pkl')"
   ]
  },
  {
   "cell_type": "code",
   "execution_count": 18,
   "id": "a73dac6c",
   "metadata": {},
   "outputs": [
    {
     "data": {
      "text/plain": [
       "0.7735311100309583"
      ]
     },
     "execution_count": 18,
     "metadata": {},
     "output_type": "execute_result"
    }
   ],
   "source": [
    "log_model.score(X_validation_transformed, y_validation)"
   ]
  },
  {
   "cell_type": "markdown",
   "metadata": {},
   "source": [
    "- This accuracy is not bad at all. Our base model would have an accuracy of 0.5 if we assume it was a random classifier.   \n",
    "- Let's optimize our model to get better accuracy. For this, we can change the parameter C and the values of maximum iterations.  "
   ]
  },
  {
   "cell_type": "code",
   "execution_count": 19,
   "id": "41261534",
   "metadata": {},
   "outputs": [],
   "source": [
    "#let's optimize our model to get better accuracy. \n",
    "def optimize_log(C_values):\n",
    "    \"\"\"Optimize the logistic regression model to get optimum accuracy\n",
    "    Parameters\n",
    "    ----------\n",
    "    C_values: array, values of C\n",
    "    Returns\n",
    "    Training and test set accuracy\"\"\"\n",
    "    score_dict = {'C_values':C_values, 'train_score':[], 'validation_score':[]}\n",
    "    \n",
    "    \n",
    "    for c in C_values:\n",
    "        #initialize the model\n",
    "        log_model = LogisticRegression(C=c, max_iter=1000)\n",
    "        #fit the model on training set \n",
    "        log_model.fit(X_train_transformed, y_train)\n",
    "        \n",
    "        #get the score on training and validation set\n",
    "        score_dict['train_score'].append(log_model.score(X_train_transformed, y_train))\n",
    "        score_dict['validation_score'].append(log_model.score(X_validation_transformed, y_validation))\n",
    "        \n",
    "    return pd.DataFrame(score_dict)"
   ]
  },
  {
   "cell_type": "code",
   "execution_count": null,
   "id": "cf2e5afc",
   "metadata": {},
   "outputs": [
    {
     "name": "stderr",
     "output_type": "stream",
     "text": [
      "C:\\Users\\SHARM~1.LAP\\AppData\\Local\\Temp/ipykernel_14232/2587502794.py:19: FutureWarning: The frame.append method is deprecated and will be removed from pandas in a future version. Use pandas.concat instead.\n",
      "  score_df = score_df.append({'train_score':log_model.score(X_train_transformed, y_train),\n",
      "C:\\Users\\SHARM~1.LAP\\AppData\\Local\\Temp/ipykernel_14232/2587502794.py:19: FutureWarning: The frame.append method is deprecated and will be removed from pandas in a future version. Use pandas.concat instead.\n",
      "  score_df = score_df.append({'train_score':log_model.score(X_train_transformed, y_train),\n",
      "C:\\Users\\SHARM~1.LAP\\AppData\\Local\\Temp/ipykernel_14232/2587502794.py:19: FutureWarning: The frame.append method is deprecated and will be removed from pandas in a future version. Use pandas.concat instead.\n",
      "  score_df = score_df.append({'train_score':log_model.score(X_train_transformed, y_train),\n",
      "C:\\Users\\SHARM~1.LAP\\AppData\\Local\\Temp/ipykernel_14232/2587502794.py:19: FutureWarning: The frame.append method is deprecated and will be removed from pandas in a future version. Use pandas.concat instead.\n",
      "  score_df = score_df.append({'train_score':log_model.score(X_train_transformed, y_train),\n",
      "C:\\Users\\SHARM~1.LAP\\AppData\\Local\\Temp/ipykernel_14232/2587502794.py:19: FutureWarning: The frame.append method is deprecated and will be removed from pandas in a future version. Use pandas.concat instead.\n",
      "  score_df = score_df.append({'train_score':log_model.score(X_train_transformed, y_train),\n",
      "E:\\Machine Learning Engineer\\BrainStation\\Bootcamp\\7.Capstone\\capstone_env\\lib\\site-packages\\sklearn\\linear_model\\_logistic.py:763: ConvergenceWarning: lbfgs failed to converge (status=1):\n",
      "STOP: TOTAL NO. of ITERATIONS REACHED LIMIT.\n",
      "\n",
      "Increase the number of iterations (max_iter) or scale the data as shown in:\n",
      "    https://scikit-learn.org/stable/modules/preprocessing.html\n",
      "Please also refer to the documentation for alternative solver options:\n",
      "    https://scikit-learn.org/stable/modules/linear_model.html#logistic-regression\n",
      "  n_iter_i = _check_optimize_result(\n",
      "C:\\Users\\SHARM~1.LAP\\AppData\\Local\\Temp/ipykernel_14232/2587502794.py:19: FutureWarning: The frame.append method is deprecated and will be removed from pandas in a future version. Use pandas.concat instead.\n",
      "  score_df = score_df.append({'train_score':log_model.score(X_train_transformed, y_train),\n",
      "C:\\Users\\SHARM~1.LAP\\AppData\\Local\\Temp/ipykernel_14232/2587502794.py:19: FutureWarning: The frame.append method is deprecated and will be removed from pandas in a future version. Use pandas.concat instead.\n",
      "  score_df = score_df.append({'train_score':log_model.score(X_train_transformed, y_train),\n"
     ]
    },
    {
     "data": {
      "text/html": [
       "<div>\n",
       "<style scoped>\n",
       "    .dataframe tbody tr th:only-of-type {\n",
       "        vertical-align: middle;\n",
       "    }\n",
       "\n",
       "    .dataframe tbody tr th {\n",
       "        vertical-align: top;\n",
       "    }\n",
       "\n",
       "    .dataframe thead th {\n",
       "        text-align: right;\n",
       "    }\n",
       "</style>\n",
       "<table border=\"1\" class=\"dataframe\">\n",
       "  <thead>\n",
       "    <tr style=\"text-align: right;\">\n",
       "      <th></th>\n",
       "      <th>train_score</th>\n",
       "      <th>validation_score</th>\n",
       "    </tr>\n",
       "  </thead>\n",
       "  <tbody>\n",
       "    <tr>\n",
       "      <th>0</th>\n",
       "      <td>0.748396</td>\n",
       "      <td>0.747874</td>\n",
       "    </tr>\n",
       "    <tr>\n",
       "      <th>1</th>\n",
       "      <td>0.768407</td>\n",
       "      <td>0.768096</td>\n",
       "    </tr>\n",
       "    <tr>\n",
       "      <th>2</th>\n",
       "      <td>0.778348</td>\n",
       "      <td>0.774767</td>\n",
       "    </tr>\n",
       "    <tr>\n",
       "      <th>3</th>\n",
       "      <td>0.780704</td>\n",
       "      <td>0.77452</td>\n",
       "    </tr>\n",
       "    <tr>\n",
       "      <th>4</th>\n",
       "      <td>0.780707</td>\n",
       "      <td>0.77388</td>\n",
       "    </tr>\n",
       "    <tr>\n",
       "      <th>5</th>\n",
       "      <td>0.780708</td>\n",
       "      <td>0.773795</td>\n",
       "    </tr>\n",
       "    <tr>\n",
       "      <th>6</th>\n",
       "      <td>0.780705</td>\n",
       "      <td>0.773792</td>\n",
       "    </tr>\n",
       "  </tbody>\n",
       "</table>\n",
       "</div>"
      ],
      "text/plain": [
       "  train_score validation_score\n",
       "0    0.748396         0.747874\n",
       "1    0.768407         0.768096\n",
       "2    0.778348         0.774767\n",
       "3    0.780704          0.77452\n",
       "4    0.780707          0.77388\n",
       "5    0.780708         0.773795\n",
       "6    0.780705         0.773792"
      ]
     },
     "metadata": {},
     "output_type": "display_data"
    }
   ],
   "source": [
    "C_values = np.power(10.0, np.arange(-3, 4))\n",
    "score_df = optimize_log(C_values)"
   ]
  },
  {
   "cell_type": "code",
   "execution_count": null,
   "id": "45bb68ac",
   "metadata": {},
   "outputs": [
    {
     "data": {
      "image/png": "[encoded data removed]",
      "text/plain": [
       "<Figure size 640x480 with 1 Axes>"
      ]
     },
     "metadata": {},
     "output_type": "display_data"
    }
   ],
   "source": [
    "score_df.plot(x= 'C_values', y=['train_score', 'validation_score'])\n",
    "plt.xscale('log')"
   ]
  },
  {
   "cell_type": "markdown",
   "metadata": {},
   "source": [
    "We can see from the figure above that both the training and test set accuracy increase with in crease in the value of C due to increase in the model complexity. The test set accuracy becomes constant after a value of c equal to 0.1. After this value variance in the model increases due to increase in model complexity. At this point, our model has learned to fit on the noise points in the data. The optimum value of C is therefore either 1 or 0.1. I am selecting 0.1 for this study, because more regularization means more generalization of model. \n",
    "\n",
    "Let's calculate accuracy of model with optimum parameters.   "
   ]
  },
  {
   "cell_type": "code",
   "execution_count": 20,
   "id": "7480039f",
   "metadata": {},
   "outputs": [
    {
     "data": {
      "text/plain": [
       "0.7735311100309583"
      ]
     },
     "execution_count": 20,
     "metadata": {},
     "output_type": "execute_result"
    }
   ],
   "source": [
    "#first re train the model with optimum parameters \n",
    "log_model = LogisticRegression(C=0.1, max_iter=1000)\n",
    "\n",
    "log_model.fit(X_train_transformed, y_train)\n",
    "\n",
    "log_model.score(X_validation_transformed, y_validation)"
   ]
  },
  {
   "cell_type": "markdown",
   "metadata": {},
   "source": [
    "Now let's interpret the results from our logistic regression model. One way to interpret the results to understand the effect of features on the the sentiment of tweet. This can be done by getting coefficients from logistic regression models. Let's first define a function to get the coefficients from logistic regression model. "
   ]
  },
  {
   "cell_type": "code",
   "execution_count": 21,
   "id": "bb0c9453",
   "metadata": {},
   "outputs": [],
   "source": [
    "#let's plot the coefficients now \n",
    "def plot_coeff(log_model, words, top=20):\n",
    "    \"\"\"Plots the coefficients from a logistic regression model\n",
    "    Parameters\n",
    "    ----------\n",
    "    log_model: sklearn_model\n",
    "    words: array, feature names\n",
    "    Returns:\n",
    "    A matplotlib chart\"\"\"\n",
    "    \n",
    "    coeff_df = pd.DataFrame({'words':words,\n",
    "                            'coeff':log_model.coef_[0]})\n",
    "    \n",
    "    #let's plot top 20 coefficients for positive and negative sentiment\n",
    "    fig, (ax1, ax2) = plt.subplots(1,2, figsize=(8,6))\n",
    "    \n",
    "    coeff_df.set_index('words').sort_values(by='coeff', ascending=False).head(top).plot(kind='barh',\n",
    "                                                                                       ax=ax1,\n",
    "                                                                                       color='orange')\n",
    "    ax1.set_title('Positive predictors')\n",
    "    ax1.invert_yaxis()\n",
    "    \n",
    "    coeff_df.set_index('words').sort_values(by='coeff', ascending=False).tail(top).plot(kind='barh',\n",
    "                                                                                       ax=ax2,\n",
    "                                                                                       color='green')\n",
    "    ax2.set_title('Negative predictors')\n",
    "    ax2.invert_xaxis()\n",
    "    sns.despine()\n",
    "    plt.tight_layout()\n",
    "    \n",
    "    return ax1, ax2"
   ]
  },
  {
   "cell_type": "code",
   "execution_count": 22,
   "id": "40da751b",
   "metadata": {},
   "outputs": [
    {
     "data": {
      "image/png": "[encoded data removed]",
      "text/plain": [
       "<Figure size 800x600 with 2 Axes>"
      ]
     },
     "metadata": {},
     "output_type": "display_data"
    }
   ],
   "source": [
    "plot_coeff(log_model, words, top=20)\n",
    "plt.show()"
   ]
  },
  {
   "cell_type": "markdown",
   "metadata": {},
   "source": [
    "In order to understand top words which are most predictive of positive and negative sentiment for a tweet, coefficients from the logistic regression model are plotted in the figure above.  \n",
    "- The coefficients of logistic regression model can be interpreted in terms of odds ratio, that is, the probability of an event happening as a proportion of the probability of that event not happening. The odds ration is calculated by taking exponential of the coefficients from logistic regression model. So for our case, with a unit increase in the coefficient for the words from tweet with positive sentiment the odds ratio of tweet having positive sentiment increases by an amount of $e^{coefficient}$.\n",
    "- The higher the odds ratio ($e^{coefficient}$), the greater the chances of review being positive.     \n",
    "\n",
    "For our case the coefficients are pretty self explanatory and intuitive. We know that words such as `smile`, `welcome`, `proud` carry positive sentiment with them and therefore are strong predictor of positive sentiment. Similarly, the words such as `sad`, `depress`, `disappoint` carry negative sentiment with them and therefore they are strong predictor of negative sentiment.     "
   ]
  },
  {
   "cell_type": "markdown",
   "metadata": {},
   "source": [
    "Now let's plot the confusion matrix for our logistic regression model. "
   ]
  },
  {
   "cell_type": "code",
   "execution_count": 23,
   "metadata": {},
   "outputs": [
    {
     "data": {
      "text/html": [
       "<div>\n",
       "<style scoped>\n",
       "    .dataframe tbody tr th:only-of-type {\n",
       "        vertical-align: middle;\n",
       "    }\n",
       "\n",
       "    .dataframe tbody tr th {\n",
       "        vertical-align: top;\n",
       "    }\n",
       "\n",
       "    .dataframe thead th {\n",
       "        text-align: right;\n",
       "    }\n",
       "</style>\n",
       "<table border=\"1\" class=\"dataframe\">\n",
       "  <thead>\n",
       "    <tr style=\"text-align: right;\">\n",
       "      <th></th>\n",
       "      <th>Predicted negative sentiment</th>\n",
       "      <th>Predicted positive</th>\n",
       "    </tr>\n",
       "  </thead>\n",
       "  <tbody>\n",
       "    <tr>\n",
       "      <th>True negative sentiment</th>\n",
       "      <td>115342</td>\n",
       "      <td>38812</td>\n",
       "    </tr>\n",
       "    <tr>\n",
       "      <th>True positive sentiment</th>\n",
       "      <td>30610</td>\n",
       "      <td>121777</td>\n",
       "    </tr>\n",
       "  </tbody>\n",
       "</table>\n",
       "</div>"
      ],
      "text/plain": [
       "                         Predicted negative sentiment  Predicted positive\n",
       "True negative sentiment                        115342               38812\n",
       "True positive sentiment                         30610              121777"
      ]
     },
     "metadata": {},
     "output_type": "display_data"
    }
   ],
   "source": [
    "from sklearn.metrics import plot_confusion_matrix, confusion_matrix\n",
    "\n",
    "# Get class predictions\n",
    "y_pred = log_model.predict(X_validation_transformed)\n",
    "\n",
    "# Generate confusion matrix\n",
    "cf_matrix = confusion_matrix(y_validation, y_pred)\n",
    "\n",
    "# label rows and columns\n",
    "cf_df = pd.DataFrame(\n",
    "    cf_matrix, \n",
    "    columns=[\"Predicted negative sentiment\", \"Predicted positive\"],\n",
    "    index=[\"True negative sentiment\", \"True positive sentiment\"]\n",
    ")\n",
    "\n",
    "display(cf_df)"
   ]
  },
  {
   "cell_type": "code",
   "execution_count": 24,
   "metadata": {},
   "outputs": [
    {
     "data": {
      "image/png": "[encoded data removed]",
      "text/plain": [
       "<Figure size 640x480 with 2 Axes>"
      ]
     },
     "metadata": {},
     "output_type": "display_data"
    }
   ],
   "source": [
    "#plot the confusion matrix\n",
    "plot_confusion_matrix(log_model, X_validation_transformed, y_validation);"
   ]
  },
  {
   "cell_type": "markdown",
   "metadata": {},
   "source": [
    "From the figure above we can see the confusion matrix for our best logistic regression model. The confusion matrix show that true positives and true negatives outnumber false negatives and false positives. To understand the percentages of true positives with respect to actual positives and predicted positives, let's get precision, recall, and f1 score for our model."
   ]
  },
  {
   "cell_type": "code",
   "execution_count": 25,
   "metadata": {},
   "outputs": [
    {
     "name": "stdout",
     "output_type": "stream",
     "text": [
      "              precision    recall  f1-score   support\n",
      "\n",
      "           0       0.79      0.75      0.77    154154\n",
      "           1       0.76      0.80      0.78    152387\n",
      "\n",
      "    accuracy                           0.77    306541\n",
      "   macro avg       0.77      0.77      0.77    306541\n",
      "weighted avg       0.77      0.77      0.77    306541\n",
      "\n"
     ]
    }
   ],
   "source": [
    "from sklearn.metrics import classification_report\n",
    "\n",
    "print(classification_report(y_validation, y_pred))"
   ]
  },
  {
   "cell_type": "markdown",
   "metadata": {},
   "source": [
    "From the classification report, we can see the recall score and precision scores for each of the class. Precision for class 1 is the ration between the number of true positive sentiment and total number of tweets with positive sentiment. Recall is the ratio between the number of true positive sentiment tweets and all predicted positive sentiment tweets by our logistic regression model.\n",
    "\n",
    "\n",
    "F1 score is just the hormonic mean of precision and recall. Higher or lower f1 score shows that both precision and recall are maximum or minimum at the same time. f1 score is used to strike a balance between precision and recall score.\n",
    "\n",
    "For our logistic regression model, there is no significant difference between precision, recall, and f1 score. This implies that our target variable does not have class imbalance.  \n",
    "\n",
    "\n",
    "The other way to strike balance between precision and recall is to plot true and false positive rate. This plot is also known as ROC curve."
   ]
  },
  {
   "cell_type": "code",
   "execution_count": 26,
   "metadata": {},
   "outputs": [
    {
     "data": {
      "image/png": "[encoded data removed]",
      "text/plain": [
       "<Figure size 640x480 with 1 Axes>"
      ]
     },
     "metadata": {},
     "output_type": "display_data"
    }
   ],
   "source": [
    "from sklearn.metrics import plot_roc_curve\n",
    "\n",
    "plot_roc_curve(log_model, X_validation_transformed, y_validation)\n",
    "plt.title('ROC Curve for predicting positive and negative sentiment')\n",
    "plt.plot([0,1], [0,1], '-r', label='Random classifier')\n",
    "plt.legend()\n",
    "plt.show()"
   ]
  },
  {
   "cell_type": "markdown",
   "metadata": {},
   "source": [
    "The above graph shows relationship between true and false positive rate for our logistic regression model. Our goal is to have minimum false positive rate while having maximum true positive rate at the same time. This can be achieved by maximizing the area under curve of above graph for our model. The area under the curve is known as AUC score.\n",
    "\n",
    "The red line in the graph corresponds to a random classifier, that is, the false positive rate and false negative rate are same for different threshold values. Our classifier is above this line, which represents gain in information by training a logistic regression model. \n",
    "\n",
    "\n",
    "The AUC score for logistic regression model is 0.85."
   ]
  },
  {
   "cell_type": "markdown",
   "metadata": {},
   "source": [
    "Now that we have a good understanding of features and their predictive power on sentiment of tweets, let's automate the process to further hyper-tune the parameters and see if the model accuracy is improved. One way to do is develope sklearn pipeline. \n",
    "\n",
    "Let's develope an sklearn pipeline for hyper-parameter optimization. "
   ]
  },
  {
   "cell_type": "code",
   "execution_count": 27,
   "metadata": {},
   "outputs": [],
   "source": [
    "from sklearn.model_selection import GridSearchCV\n",
    "from sklearn.pipeline import Pipeline\n",
    "from tempfile import mkdtemp #for efficiency in pipeline - this will store  result temporarily in temp folder \n"
   ]
  },
  {
   "cell_type": "code",
   "execution_count": 28,
   "metadata": {},
   "outputs": [
    {
     "data": {
      "text/plain": [
       "Pipeline(memory='../temp\\\\tmpw2yti3il',\n",
       "         steps=[('count_vectorizer', CountVectorizer()),\n",
       "                ('model', LogisticRegression(max_iter=1000, solver='saga'))])"
      ]
     },
     "execution_count": 28,
     "metadata": {},
     "output_type": "execute_result"
    }
   ],
   "source": [
    "cachedir = mkdtemp(dir='../temp') #make sure you create a temp folder\n",
    "\n",
    "estimators = [('count_vectorizer', CountVectorizer()), #vectorize data \n",
    "              ('model', LogisticRegression(max_iter=1000, solver='saga'))] #fit a logistic model\n",
    "\n",
    "pipe = Pipeline(estimators, memory = cachedir) #make a pipeline\n",
    "pipe #checkout the pipe"
   ]
  },
  {
   "cell_type": "code",
   "execution_count": 29,
   "metadata": {},
   "outputs": [
    {
     "data": {
      "text/plain": [
       "GridSearchCV(cv=5,\n",
       "             estimator=Pipeline(memory='../temp\\\\tmpw2yti3il',\n",
       "                                steps=[('count_vectorizer', CountVectorizer()),\n",
       "                                       ('model',\n",
       "                                        LogisticRegression(max_iter=1000,\n",
       "                                                           solver='saga'))]),\n",
       "             param_grid={'count_vectorizer__min_df': [10, 20, 30, 50],\n",
       "                         'model__C': [0.001, 0.01, 0.1, 1, 10, 100]})"
      ]
     },
     "execution_count": 29,
     "metadata": {},
     "output_type": "execute_result"
    }
   ],
   "source": [
    "#let's perform grid search for the hyperparameter optimization\n",
    "param_grid = {\n",
    "        'count_vectorizer__min_df': [10, 20, 30, 50], \n",
    "        'model__C': [0.001, 0.01, 0.1, 1, 10, 100],\n",
    "    }\n",
    "\n",
    "#initialize gird for the pipe\n",
    "grid = GridSearchCV(pipe, param_grid, cv=5)  \n",
    "\n",
    "#checkout the grid \n",
    "grid"
   ]
  },
  {
   "cell_type": "markdown",
   "metadata": {},
   "source": [
    "<span style=\"color:red\">Warning, the cell below takes 15.5 hours to run </span>. "
   ]
  },
  {
   "cell_type": "code",
   "execution_count": 30,
   "metadata": {},
   "outputs": [
    {
     "name": "stderr",
     "output_type": "stream",
     "text": [
      "E:\\Machine Learning Engineer\\BrainStation\\Bootcamp\\7.Capstone\\capstone_env\\lib\\site-packages\\sklearn\\pipeline.py:303: UserWarning: Persisting input arguments took 5.65s to run.\n",
      "If this happens often in your code, it can cause performance problems \n",
      "(results will be correct in all cases). \n",
      "The reason for this is probably some large input arguments for a wrapped\n",
      " function (e.g. large strings).\n",
      "THIS IS A JOBLIB ISSUE. If you can, kindly provide the joblib's team with an\n",
      " example so that they can fix the problem.\n",
      "  X, fitted_transformer = fit_transform_one_cached(\n",
      "E:\\Machine Learning Engineer\\BrainStation\\Bootcamp\\7.Capstone\\capstone_env\\lib\\site-packages\\sklearn\\pipeline.py:303: UserWarning: Persisting input arguments took 5.54s to run.\n",
      "If this happens often in your code, it can cause performance problems \n",
      "(results will be correct in all cases). \n",
      "The reason for this is probably some large input arguments for a wrapped\n",
      " function (e.g. large strings).\n",
      "THIS IS A JOBLIB ISSUE. If you can, kindly provide the joblib's team with an\n",
      " example so that they can fix the problem.\n",
      "  X, fitted_transformer = fit_transform_one_cached(\n",
      "E:\\Machine Learning Engineer\\BrainStation\\Bootcamp\\7.Capstone\\capstone_env\\lib\\site-packages\\sklearn\\pipeline.py:303: UserWarning: Persisting input arguments took 5.87s to run.\n",
      "If this happens often in your code, it can cause performance problems \n",
      "(results will be correct in all cases). \n",
      "The reason for this is probably some large input arguments for a wrapped\n",
      " function (e.g. large strings).\n",
      "THIS IS A JOBLIB ISSUE. If you can, kindly provide the joblib's team with an\n",
      " example so that they can fix the problem.\n",
      "  X, fitted_transformer = fit_transform_one_cached(\n",
      "E:\\Machine Learning Engineer\\BrainStation\\Bootcamp\\7.Capstone\\capstone_env\\lib\\site-packages\\sklearn\\pipeline.py:303: UserWarning: Persisting input arguments took 5.53s to run.\n",
      "If this happens often in your code, it can cause performance problems \n",
      "(results will be correct in all cases). \n",
      "The reason for this is probably some large input arguments for a wrapped\n",
      " function (e.g. large strings).\n",
      "THIS IS A JOBLIB ISSUE. If you can, kindly provide the joblib's team with an\n",
      " example so that they can fix the problem.\n",
      "  X, fitted_transformer = fit_transform_one_cached(\n",
      "E:\\Machine Learning Engineer\\BrainStation\\Bootcamp\\7.Capstone\\capstone_env\\lib\\site-packages\\sklearn\\pipeline.py:303: UserWarning: Persisting input arguments took 5.83s to run.\n",
      "If this happens often in your code, it can cause performance problems \n",
      "(results will be correct in all cases). \n",
      "The reason for this is probably some large input arguments for a wrapped\n",
      " function (e.g. large strings).\n",
      "THIS IS A JOBLIB ISSUE. If you can, kindly provide the joblib's team with an\n",
      " example so that they can fix the problem.\n",
      "  X, fitted_transformer = fit_transform_one_cached(\n",
      "E:\\Machine Learning Engineer\\BrainStation\\Bootcamp\\7.Capstone\\capstone_env\\lib\\site-packages\\sklearn\\linear_model\\_sag.py:328: ConvergenceWarning: The max_iter was reached which means the coef_ did not converge\n",
      "  warnings.warn(\"The max_iter was reached which means \"\n",
      "E:\\Machine Learning Engineer\\BrainStation\\Bootcamp\\7.Capstone\\capstone_env\\lib\\site-packages\\sklearn\\linear_model\\_sag.py:328: ConvergenceWarning: The max_iter was reached which means the coef_ did not converge\n",
      "  warnings.warn(\"The max_iter was reached which means \"\n",
      "E:\\Machine Learning Engineer\\BrainStation\\Bootcamp\\7.Capstone\\capstone_env\\lib\\site-packages\\sklearn\\linear_model\\_sag.py:328: ConvergenceWarning: The max_iter was reached which means the coef_ did not converge\n",
      "  warnings.warn(\"The max_iter was reached which means \"\n",
      "E:\\Machine Learning Engineer\\BrainStation\\Bootcamp\\7.Capstone\\capstone_env\\lib\\site-packages\\sklearn\\linear_model\\_sag.py:328: ConvergenceWarning: The max_iter was reached which means the coef_ did not converge\n",
      "  warnings.warn(\"The max_iter was reached which means \"\n",
      "E:\\Machine Learning Engineer\\BrainStation\\Bootcamp\\7.Capstone\\capstone_env\\lib\\site-packages\\sklearn\\linear_model\\_sag.py:328: ConvergenceWarning: The max_iter was reached which means the coef_ did not converge\n",
      "  warnings.warn(\"The max_iter was reached which means \"\n",
      "E:\\Machine Learning Engineer\\BrainStation\\Bootcamp\\7.Capstone\\capstone_env\\lib\\site-packages\\sklearn\\linear_model\\_sag.py:328: ConvergenceWarning: The max_iter was reached which means the coef_ did not converge\n",
      "  warnings.warn(\"The max_iter was reached which means \"\n",
      "E:\\Machine Learning Engineer\\BrainStation\\Bootcamp\\7.Capstone\\capstone_env\\lib\\site-packages\\sklearn\\linear_model\\_sag.py:328: ConvergenceWarning: The max_iter was reached which means the coef_ did not converge\n",
      "  warnings.warn(\"The max_iter was reached which means \"\n",
      "E:\\Machine Learning Engineer\\BrainStation\\Bootcamp\\7.Capstone\\capstone_env\\lib\\site-packages\\sklearn\\linear_model\\_sag.py:328: ConvergenceWarning: The max_iter was reached which means the coef_ did not converge\n",
      "  warnings.warn(\"The max_iter was reached which means \"\n",
      "E:\\Machine Learning Engineer\\BrainStation\\Bootcamp\\7.Capstone\\capstone_env\\lib\\site-packages\\sklearn\\linear_model\\_sag.py:328: ConvergenceWarning: The max_iter was reached which means the coef_ did not converge\n",
      "  warnings.warn(\"The max_iter was reached which means \"\n",
      "E:\\Machine Learning Engineer\\BrainStation\\Bootcamp\\7.Capstone\\capstone_env\\lib\\site-packages\\sklearn\\linear_model\\_sag.py:328: ConvergenceWarning: The max_iter was reached which means the coef_ did not converge\n",
      "  warnings.warn(\"The max_iter was reached which means \"\n",
      "E:\\Machine Learning Engineer\\BrainStation\\Bootcamp\\7.Capstone\\capstone_env\\lib\\site-packages\\sklearn\\pipeline.py:303: UserWarning: Persisting input arguments took 5.55s to run.\n",
      "If this happens often in your code, it can cause performance problems \n",
      "(results will be correct in all cases). \n",
      "The reason for this is probably some large input arguments for a wrapped\n",
      " function (e.g. large strings).\n",
      "THIS IS A JOBLIB ISSUE. If you can, kindly provide the joblib's team with an\n",
      " example so that they can fix the problem.\n",
      "  X, fitted_transformer = fit_transform_one_cached(\n",
      "E:\\Machine Learning Engineer\\BrainStation\\Bootcamp\\7.Capstone\\capstone_env\\lib\\site-packages\\sklearn\\pipeline.py:303: UserWarning: Persisting input arguments took 5.84s to run.\n",
      "If this happens often in your code, it can cause performance problems \n",
      "(results will be correct in all cases). \n",
      "The reason for this is probably some large input arguments for a wrapped\n",
      " function (e.g. large strings).\n",
      "THIS IS A JOBLIB ISSUE. If you can, kindly provide the joblib's team with an\n",
      " example so that they can fix the problem.\n",
      "  X, fitted_transformer = fit_transform_one_cached(\n",
      "E:\\Machine Learning Engineer\\BrainStation\\Bootcamp\\7.Capstone\\capstone_env\\lib\\site-packages\\sklearn\\pipeline.py:303: UserWarning: Persisting input arguments took 5.41s to run.\n",
      "If this happens often in your code, it can cause performance problems \n",
      "(results will be correct in all cases). \n",
      "The reason for this is probably some large input arguments for a wrapped\n",
      " function (e.g. large strings).\n",
      "THIS IS A JOBLIB ISSUE. If you can, kindly provide the joblib's team with an\n",
      " example so that they can fix the problem.\n",
      "  X, fitted_transformer = fit_transform_one_cached(\n",
      "E:\\Machine Learning Engineer\\BrainStation\\Bootcamp\\7.Capstone\\capstone_env\\lib\\site-packages\\sklearn\\pipeline.py:303: UserWarning: Persisting input arguments took 5.98s to run.\n",
      "If this happens often in your code, it can cause performance problems \n",
      "(results will be correct in all cases). \n",
      "The reason for this is probably some large input arguments for a wrapped\n",
      " function (e.g. large strings).\n",
      "THIS IS A JOBLIB ISSUE. If you can, kindly provide the joblib's team with an\n",
      " example so that they can fix the problem.\n",
      "  X, fitted_transformer = fit_transform_one_cached(\n",
      "E:\\Machine Learning Engineer\\BrainStation\\Bootcamp\\7.Capstone\\capstone_env\\lib\\site-packages\\sklearn\\pipeline.py:303: UserWarning: Persisting input arguments took 5.46s to run.\n",
      "If this happens often in your code, it can cause performance problems \n",
      "(results will be correct in all cases). \n",
      "The reason for this is probably some large input arguments for a wrapped\n",
      " function (e.g. large strings).\n",
      "THIS IS A JOBLIB ISSUE. If you can, kindly provide the joblib's team with an\n",
      " example so that they can fix the problem.\n",
      "  X, fitted_transformer = fit_transform_one_cached(\n",
      "E:\\Machine Learning Engineer\\BrainStation\\Bootcamp\\7.Capstone\\capstone_env\\lib\\site-packages\\sklearn\\linear_model\\_sag.py:328: ConvergenceWarning: The max_iter was reached which means the coef_ did not converge\n",
      "  warnings.warn(\"The max_iter was reached which means \"\n",
      "E:\\Machine Learning Engineer\\BrainStation\\Bootcamp\\7.Capstone\\capstone_env\\lib\\site-packages\\sklearn\\linear_model\\_sag.py:328: ConvergenceWarning: The max_iter was reached which means the coef_ did not converge\n",
      "  warnings.warn(\"The max_iter was reached which means \"\n",
      "E:\\Machine Learning Engineer\\BrainStation\\Bootcamp\\7.Capstone\\capstone_env\\lib\\site-packages\\sklearn\\linear_model\\_sag.py:328: ConvergenceWarning: The max_iter was reached which means the coef_ did not converge\n",
      "  warnings.warn(\"The max_iter was reached which means \"\n",
      "E:\\Machine Learning Engineer\\BrainStation\\Bootcamp\\7.Capstone\\capstone_env\\lib\\site-packages\\sklearn\\linear_model\\_sag.py:328: ConvergenceWarning: The max_iter was reached which means the coef_ did not converge\n",
      "  warnings.warn(\"The max_iter was reached which means \"\n",
      "E:\\Machine Learning Engineer\\BrainStation\\Bootcamp\\7.Capstone\\capstone_env\\lib\\site-packages\\sklearn\\linear_model\\_sag.py:328: ConvergenceWarning: The max_iter was reached which means the coef_ did not converge\n",
      "  warnings.warn(\"The max_iter was reached which means \"\n",
      "E:\\Machine Learning Engineer\\BrainStation\\Bootcamp\\7.Capstone\\capstone_env\\lib\\site-packages\\sklearn\\linear_model\\_sag.py:328: ConvergenceWarning: The max_iter was reached which means the coef_ did not converge\n",
      "  warnings.warn(\"The max_iter was reached which means \"\n",
      "E:\\Machine Learning Engineer\\BrainStation\\Bootcamp\\7.Capstone\\capstone_env\\lib\\site-packages\\sklearn\\linear_model\\_sag.py:328: ConvergenceWarning: The max_iter was reached which means the coef_ did not converge\n",
      "  warnings.warn(\"The max_iter was reached which means \"\n",
      "E:\\Machine Learning Engineer\\BrainStation\\Bootcamp\\7.Capstone\\capstone_env\\lib\\site-packages\\sklearn\\linear_model\\_sag.py:328: ConvergenceWarning: The max_iter was reached which means the coef_ did not converge\n",
      "  warnings.warn(\"The max_iter was reached which means \"\n",
      "E:\\Machine Learning Engineer\\BrainStation\\Bootcamp\\7.Capstone\\capstone_env\\lib\\site-packages\\sklearn\\linear_model\\_sag.py:328: ConvergenceWarning: The max_iter was reached which means the coef_ did not converge\n",
      "  warnings.warn(\"The max_iter was reached which means \"\n",
      "E:\\Machine Learning Engineer\\BrainStation\\Bootcamp\\7.Capstone\\capstone_env\\lib\\site-packages\\sklearn\\linear_model\\_sag.py:328: ConvergenceWarning: The max_iter was reached which means the coef_ did not converge\n",
      "  warnings.warn(\"The max_iter was reached which means \"\n",
      "E:\\Machine Learning Engineer\\BrainStation\\Bootcamp\\7.Capstone\\capstone_env\\lib\\site-packages\\sklearn\\pipeline.py:303: UserWarning: Persisting input arguments took 5.37s to run.\n",
      "If this happens often in your code, it can cause performance problems \n",
      "(results will be correct in all cases). \n",
      "The reason for this is probably some large input arguments for a wrapped\n",
      " function (e.g. large strings).\n",
      "THIS IS A JOBLIB ISSUE. If you can, kindly provide the joblib's team with an\n",
      " example so that they can fix the problem.\n",
      "  X, fitted_transformer = fit_transform_one_cached(\n",
      "E:\\Machine Learning Engineer\\BrainStation\\Bootcamp\\7.Capstone\\capstone_env\\lib\\site-packages\\sklearn\\pipeline.py:303: UserWarning: Persisting input arguments took 5.42s to run.\n",
      "If this happens often in your code, it can cause performance problems \n",
      "(results will be correct in all cases). \n",
      "The reason for this is probably some large input arguments for a wrapped\n",
      " function (e.g. large strings).\n",
      "THIS IS A JOBLIB ISSUE. If you can, kindly provide the joblib's team with an\n",
      " example so that they can fix the problem.\n",
      "  X, fitted_transformer = fit_transform_one_cached(\n",
      "E:\\Machine Learning Engineer\\BrainStation\\Bootcamp\\7.Capstone\\capstone_env\\lib\\site-packages\\sklearn\\pipeline.py:303: UserWarning: Persisting input arguments took 5.31s to run.\n",
      "If this happens often in your code, it can cause performance problems \n",
      "(results will be correct in all cases). \n",
      "The reason for this is probably some large input arguments for a wrapped\n",
      " function (e.g. large strings).\n",
      "THIS IS A JOBLIB ISSUE. If you can, kindly provide the joblib's team with an\n",
      " example so that they can fix the problem.\n",
      "  X, fitted_transformer = fit_transform_one_cached(\n",
      "E:\\Machine Learning Engineer\\BrainStation\\Bootcamp\\7.Capstone\\capstone_env\\lib\\site-packages\\sklearn\\pipeline.py:303: UserWarning: Persisting input arguments took 5.44s to run.\n",
      "If this happens often in your code, it can cause performance problems \n",
      "(results will be correct in all cases). \n",
      "The reason for this is probably some large input arguments for a wrapped\n",
      " function (e.g. large strings).\n",
      "THIS IS A JOBLIB ISSUE. If you can, kindly provide the joblib's team with an\n",
      " example so that they can fix the problem.\n",
      "  X, fitted_transformer = fit_transform_one_cached(\n",
      "E:\\Machine Learning Engineer\\BrainStation\\Bootcamp\\7.Capstone\\capstone_env\\lib\\site-packages\\sklearn\\pipeline.py:303: UserWarning: Persisting input arguments took 5.38s to run.\n",
      "If this happens often in your code, it can cause performance problems \n",
      "(results will be correct in all cases). \n",
      "The reason for this is probably some large input arguments for a wrapped\n",
      " function (e.g. large strings).\n",
      "THIS IS A JOBLIB ISSUE. If you can, kindly provide the joblib's team with an\n",
      " example so that they can fix the problem.\n",
      "  X, fitted_transformer = fit_transform_one_cached(\n",
      "E:\\Machine Learning Engineer\\BrainStation\\Bootcamp\\7.Capstone\\capstone_env\\lib\\site-packages\\sklearn\\linear_model\\_sag.py:328: ConvergenceWarning: The max_iter was reached which means the coef_ did not converge\n",
      "  warnings.warn(\"The max_iter was reached which means \"\n",
      "E:\\Machine Learning Engineer\\BrainStation\\Bootcamp\\7.Capstone\\capstone_env\\lib\\site-packages\\sklearn\\linear_model\\_sag.py:328: ConvergenceWarning: The max_iter was reached which means the coef_ did not converge\n",
      "  warnings.warn(\"The max_iter was reached which means \"\n",
      "E:\\Machine Learning Engineer\\BrainStation\\Bootcamp\\7.Capstone\\capstone_env\\lib\\site-packages\\sklearn\\linear_model\\_sag.py:328: ConvergenceWarning: The max_iter was reached which means the coef_ did not converge\n",
      "  warnings.warn(\"The max_iter was reached which means \"\n",
      "E:\\Machine Learning Engineer\\BrainStation\\Bootcamp\\7.Capstone\\capstone_env\\lib\\site-packages\\sklearn\\linear_model\\_sag.py:328: ConvergenceWarning: The max_iter was reached which means the coef_ did not converge\n",
      "  warnings.warn(\"The max_iter was reached which means \"\n",
      "E:\\Machine Learning Engineer\\BrainStation\\Bootcamp\\7.Capstone\\capstone_env\\lib\\site-packages\\sklearn\\linear_model\\_sag.py:328: ConvergenceWarning: The max_iter was reached which means the coef_ did not converge\n",
      "  warnings.warn(\"The max_iter was reached which means \"\n",
      "E:\\Machine Learning Engineer\\BrainStation\\Bootcamp\\7.Capstone\\capstone_env\\lib\\site-packages\\sklearn\\linear_model\\_sag.py:328: ConvergenceWarning: The max_iter was reached which means the coef_ did not converge\n",
      "  warnings.warn(\"The max_iter was reached which means \"\n",
      "E:\\Machine Learning Engineer\\BrainStation\\Bootcamp\\7.Capstone\\capstone_env\\lib\\site-packages\\sklearn\\linear_model\\_sag.py:328: ConvergenceWarning: The max_iter was reached which means the coef_ did not converge\n",
      "  warnings.warn(\"The max_iter was reached which means \"\n",
      "E:\\Machine Learning Engineer\\BrainStation\\Bootcamp\\7.Capstone\\capstone_env\\lib\\site-packages\\sklearn\\linear_model\\_sag.py:328: ConvergenceWarning: The max_iter was reached which means the coef_ did not converge\n",
      "  warnings.warn(\"The max_iter was reached which means \"\n",
      "E:\\Machine Learning Engineer\\BrainStation\\Bootcamp\\7.Capstone\\capstone_env\\lib\\site-packages\\sklearn\\linear_model\\_sag.py:328: ConvergenceWarning: The max_iter was reached which means the coef_ did not converge\n",
      "  warnings.warn(\"The max_iter was reached which means \"\n",
      "E:\\Machine Learning Engineer\\BrainStation\\Bootcamp\\7.Capstone\\capstone_env\\lib\\site-packages\\sklearn\\pipeline.py:303: UserWarning: Persisting input arguments took 5.90s to run.\n",
      "If this happens often in your code, it can cause performance problems \n",
      "(results will be correct in all cases). \n",
      "The reason for this is probably some large input arguments for a wrapped\n",
      " function (e.g. large strings).\n",
      "THIS IS A JOBLIB ISSUE. If you can, kindly provide the joblib's team with an\n",
      " example so that they can fix the problem.\n",
      "  X, fitted_transformer = fit_transform_one_cached(\n",
      "E:\\Machine Learning Engineer\\BrainStation\\Bootcamp\\7.Capstone\\capstone_env\\lib\\site-packages\\sklearn\\pipeline.py:303: UserWarning: Persisting input arguments took 5.38s to run.\n",
      "If this happens often in your code, it can cause performance problems \n",
      "(results will be correct in all cases). \n",
      "The reason for this is probably some large input arguments for a wrapped\n",
      " function (e.g. large strings).\n",
      "THIS IS A JOBLIB ISSUE. If you can, kindly provide the joblib's team with an\n",
      " example so that they can fix the problem.\n",
      "  X, fitted_transformer = fit_transform_one_cached(\n",
      "E:\\Machine Learning Engineer\\BrainStation\\Bootcamp\\7.Capstone\\capstone_env\\lib\\site-packages\\sklearn\\pipeline.py:303: UserWarning: Persisting input arguments took 5.17s to run.\n",
      "If this happens often in your code, it can cause performance problems \n",
      "(results will be correct in all cases). \n",
      "The reason for this is probably some large input arguments for a wrapped\n",
      " function (e.g. large strings).\n",
      "THIS IS A JOBLIB ISSUE. If you can, kindly provide the joblib's team with an\n",
      " example so that they can fix the problem.\n",
      "  X, fitted_transformer = fit_transform_one_cached(\n",
      "E:\\Machine Learning Engineer\\BrainStation\\Bootcamp\\7.Capstone\\capstone_env\\lib\\site-packages\\sklearn\\pipeline.py:303: UserWarning: Persisting input arguments took 5.50s to run.\n",
      "If this happens often in your code, it can cause performance problems \n",
      "(results will be correct in all cases). \n",
      "The reason for this is probably some large input arguments for a wrapped\n",
      " function (e.g. large strings).\n",
      "THIS IS A JOBLIB ISSUE. If you can, kindly provide the joblib's team with an\n",
      " example so that they can fix the problem.\n",
      "  X, fitted_transformer = fit_transform_one_cached(\n",
      "E:\\Machine Learning Engineer\\BrainStation\\Bootcamp\\7.Capstone\\capstone_env\\lib\\site-packages\\sklearn\\pipeline.py:303: UserWarning: Persisting input arguments took 5.22s to run.\n",
      "If this happens often in your code, it can cause performance problems \n",
      "(results will be correct in all cases). \n",
      "The reason for this is probably some large input arguments for a wrapped\n",
      " function (e.g. large strings).\n",
      "THIS IS A JOBLIB ISSUE. If you can, kindly provide the joblib's team with an\n",
      " example so that they can fix the problem.\n",
      "  X, fitted_transformer = fit_transform_one_cached(\n",
      "E:\\Machine Learning Engineer\\BrainStation\\Bootcamp\\7.Capstone\\capstone_env\\lib\\site-packages\\sklearn\\linear_model\\_sag.py:328: ConvergenceWarning: The max_iter was reached which means the coef_ did not converge\n",
      "  warnings.warn(\"The max_iter was reached which means \"\n",
      "E:\\Machine Learning Engineer\\BrainStation\\Bootcamp\\7.Capstone\\capstone_env\\lib\\site-packages\\sklearn\\linear_model\\_sag.py:328: ConvergenceWarning: The max_iter was reached which means the coef_ did not converge\n",
      "  warnings.warn(\"The max_iter was reached which means \"\n",
      "E:\\Machine Learning Engineer\\BrainStation\\Bootcamp\\7.Capstone\\capstone_env\\lib\\site-packages\\sklearn\\linear_model\\_sag.py:328: ConvergenceWarning: The max_iter was reached which means the coef_ did not converge\n",
      "  warnings.warn(\"The max_iter was reached which means \"\n",
      "E:\\Machine Learning Engineer\\BrainStation\\Bootcamp\\7.Capstone\\capstone_env\\lib\\site-packages\\sklearn\\linear_model\\_sag.py:328: ConvergenceWarning: The max_iter was reached which means the coef_ did not converge\n",
      "  warnings.warn(\"The max_iter was reached which means \"\n",
      "E:\\Machine Learning Engineer\\BrainStation\\Bootcamp\\7.Capstone\\capstone_env\\lib\\site-packages\\sklearn\\linear_model\\_sag.py:328: ConvergenceWarning: The max_iter was reached which means the coef_ did not converge\n",
      "  warnings.warn(\"The max_iter was reached which means \"\n",
      "E:\\Machine Learning Engineer\\BrainStation\\Bootcamp\\7.Capstone\\capstone_env\\lib\\site-packages\\sklearn\\linear_model\\_sag.py:328: ConvergenceWarning: The max_iter was reached which means the coef_ did not converge\n",
      "  warnings.warn(\"The max_iter was reached which means \"\n",
      "E:\\Machine Learning Engineer\\BrainStation\\Bootcamp\\7.Capstone\\capstone_env\\lib\\site-packages\\sklearn\\linear_model\\_sag.py:328: ConvergenceWarning: The max_iter was reached which means the coef_ did not converge\n",
      "  warnings.warn(\"The max_iter was reached which means \"\n",
      "E:\\Machine Learning Engineer\\BrainStation\\Bootcamp\\7.Capstone\\capstone_env\\lib\\site-packages\\sklearn\\linear_model\\_sag.py:328: ConvergenceWarning: The max_iter was reached which means the coef_ did not converge\n",
      "  warnings.warn(\"The max_iter was reached which means \"\n",
      "E:\\Machine Learning Engineer\\BrainStation\\Bootcamp\\7.Capstone\\capstone_env\\lib\\site-packages\\sklearn\\pipeline.py:303: UserWarning: Persisting input arguments took 7.46s to run.\n",
      "If this happens often in your code, it can cause performance problems \n",
      "(results will be correct in all cases). \n",
      "The reason for this is probably some large input arguments for a wrapped\n",
      " function (e.g. large strings).\n",
      "THIS IS A JOBLIB ISSUE. If you can, kindly provide the joblib's team with an\n",
      " example so that they can fix the problem.\n",
      "  X, fitted_transformer = fit_transform_one_cached(\n"
     ]
    }
   ],
   "source": [
    "#fit on the training set \n",
    "fitted_gird = grid.fit(X, y)"
   ]
  },
  {
   "cell_type": "code",
   "execution_count": 31,
   "metadata": {},
   "outputs": [
    {
     "data": {
      "text/plain": [
       "Pipeline(memory='../temp\\\\tmpw2yti3il',\n",
       "         steps=[('count_vectorizer', CountVectorizer(min_df=10)),\n",
       "                ('model',\n",
       "                 LogisticRegression(C=0.1, max_iter=1000, solver='saga'))])"
      ]
     },
     "execution_count": 31,
     "metadata": {},
     "output_type": "execute_result"
    }
   ],
   "source": [
    "fitted_gird.best_estimator_"
   ]
  },
  {
   "cell_type": "markdown",
   "metadata": {},
   "source": [
    "The best estimator (logistic regression model) was the one with `min_df` parameter 10 and a c value of 0.1. The accuracy of best logistic regression model was found to be 0.77 which is approximately same as of the logistic regression model with `min_df` as 20 (0.774). To save the computation cost, I am using C=0.1 and `min_df` = 20 for my final logistic regression model.   "
   ]
  },
  {
   "cell_type": "code",
   "execution_count": 35,
   "metadata": {},
   "outputs": [
    {
     "data": {
      "text/plain": [
       "0.7695393238285487"
      ]
     },
     "execution_count": 35,
     "metadata": {},
     "output_type": "execute_result"
    }
   ],
   "source": [
    "fitted_gird.best_score_"
   ]
  },
  {
   "cell_type": "code",
   "execution_count": null,
   "metadata": {},
   "outputs": [],
   "source": [
    "joblib.dump(fitted_gird, 'log_grid.pkl')"
   ]
  },
  {
   "cell_type": "markdown",
   "metadata": {},
   "source": [
    "### KNN model  <a name=\"knn\"></a>   "
   ]
  },
  {
   "cell_type": "markdown",
   "metadata": {},
   "source": [
    "Let's fit some more models to see if we can improve the performance of our model. "
   ]
  },
  {
   "cell_type": "code",
   "execution_count": null,
   "id": "f0c55558",
   "metadata": {},
   "outputs": [],
   "source": [
    "from sklearn.neighbors import KNeighborsClassifier\n",
    "from sklearn.tree import DecisionTreeClassifier\n",
    "from sklearn.decomposition import PCA"
   ]
  },
  {
   "cell_type": "code",
   "execution_count": null,
   "id": "19087d4c",
   "metadata": {},
   "outputs": [
    {
     "data": {
      "text/plain": [
       "0.6991071341190901"
      ]
     },
     "metadata": {},
     "output_type": "display_data"
    }
   ],
   "source": [
    "#fit a knn model to this data\n",
    "knn_model = KNeighborsClassifier()\n",
    "knn_model.fit(X_train_transformed, y_train)\n",
    "knn_model.score(X_validation_transformed, y_validation)"
   ]
  },
  {
   "cell_type": "markdown",
   "metadata": {},
   "source": [
    "The accuracy of knn model on validation set is 0.7 which is lower than the accuracy of logistic regression model. Also the calculation time fitting model on this data set is in hours. Looking at the time it takes to just fit one model, I am not hyper tuning parameters for the knn classifier. "
   ]
  },
  {
   "cell_type": "markdown",
   "metadata": {},
   "source": [
    "### Decision Tree Classifier <a name=\"DT\"></a>   "
   ]
  },
  {
   "cell_type": "code",
   "execution_count": null,
   "id": "d87d3ce5",
   "metadata": {},
   "outputs": [
    {
     "data": {
      "text/plain": [
       "0.5883062950796142"
      ]
     },
     "metadata": {},
     "output_type": "display_data"
    }
   ],
   "source": [
    "#let's see how decision trees performs here\n",
    "DT_model = DecisionTreeClassifier(max_depth=10)\n",
    "DT_model.fit(X_train_transformed, y_train)\n",
    "DT_model.score(X_validation_transformed, y_validation)"
   ]
  },
  {
   "cell_type": "markdown",
   "metadata": {},
   "source": [
    "Fitting the grid for logistic regression took a day, while fitting knn classifier without any hyper parameter tuning took hours. The long training time is due to fact that we have 1.5 million rows in our data. For training more models, let's just take a sample of data. In the next book, I will take a sample of data and perform modelling with some advanced models. "
   ]
  },
  {
   "cell_type": "markdown",
   "metadata": {},
   "source": [
    "### XGBoost <a name=\"XGB\"></a>  \n",
    "\n",
    "XGBoost stands for eXtreme Gradient Boosting. This is one of the type of implementation of gradient boosting that tends to be more accurate and faster than the sklearn's implementation. XGBoost work well when there is categorical data in features and also when the number features are less than the training samples. \n",
    "\n",
    "For our case the number of samples largely outnumber the number of features. Let's try XGBoost and see how it performs.   "
   ]
  },
  {
   "cell_type": "code",
   "execution_count": 36,
   "metadata": {},
   "outputs": [
    {
     "name": "stderr",
     "output_type": "stream",
     "text": [
      "E:\\Machine Learning Engineer\\BrainStation\\Bootcamp\\7.Capstone\\capstone_env\\lib\\site-packages\\xgboost\\compat.py:93: FutureWarning: pandas.Int64Index is deprecated and will be removed from pandas in a future version. Use pandas.Index with the appropriate dtype instead.\n",
      "  from pandas import MultiIndex, Int64Index\n"
     ]
    }
   ],
   "source": [
    "from xgboost import XGBClassifier"
   ]
  },
  {
   "cell_type": "code",
   "execution_count": 37,
   "metadata": {},
   "outputs": [],
   "source": [
    "#initialize the classifier \n",
    "XGB_model = XGBClassifier(n_estimators=41, max_depth=3)"
   ]
  },
  {
   "cell_type": "code",
   "execution_count": 38,
   "metadata": {},
   "outputs": [
    {
     "data": {
      "text/plain": [
       "XGBClassifier(base_score=0.5, booster='gbtree', colsample_bylevel=1,\n",
       "              colsample_bynode=1, colsample_bytree=1, gamma=0, gpu_id=-1,\n",
       "              importance_type='gain', interaction_constraints='',\n",
       "              learning_rate=0.300000012, max_delta_step=0, max_depth=3,\n",
       "              min_child_weight=1, missing=nan, monotone_constraints='()',\n",
       "              n_estimators=41, n_jobs=0, num_parallel_tree=1, random_state=0,\n",
       "              reg_alpha=0, reg_lambda=1, scale_pos_weight=1, subsample=1,\n",
       "              tree_method='exact', validate_parameters=1, verbosity=None)"
      ]
     },
     "execution_count": 38,
     "metadata": {},
     "output_type": "execute_result"
    }
   ],
   "source": [
    "#fit the model \n",
    "XGB_model.fit(X_train_transformed, y_train)"
   ]
  },
  {
   "cell_type": "code",
   "execution_count": 40,
   "metadata": {},
   "outputs": [
    {
     "data": {
      "text/plain": [
       "0.6969377668892579"
      ]
     },
     "execution_count": 40,
     "metadata": {},
     "output_type": "execute_result"
    }
   ],
   "source": [
    "XGB_model.score(X_validation_transformed, y_validation)"
   ]
  },
  {
   "cell_type": "markdown",
   "metadata": {},
   "source": [
    "The accuracy of XGB on validation set is around 0.7 which is not great as compared to the logistic regression model. One thing to note is that XGB is sensitive to hyper-parameter tuning. So let's optimize the hyper-parameter and see how does it perform.    "
   ]
  },
  {
   "cell_type": "code",
   "execution_count": 41,
   "metadata": {},
   "outputs": [],
   "source": [
    "def opt_XGB(n_estimators, max_depths):\n",
    "    \"\"\"Get's the accuracy of xgb for different hyperparameters\"\"\"\n",
    "\n",
    "\n",
    "    score_dict = {'pair':[], 'train_score':[], 'validation_score':[]}\n",
    "\n",
    "    for n_estimator in n_estimators:\n",
    "\n",
    "        for depth in max_depths:\n",
    "\n",
    "            #initialize the model \n",
    "            XGB_model = XGBClassifier(n_estimators=n_estimator, max_depth=depth)\n",
    "\n",
    "            #fit the model\n",
    "            XGB_model.fit(X_train_transformed, y_train)\n",
    "\n",
    "            #get the accuracy on training and test set \n",
    "            score_dict['train_score'].append(XGB_model.score(X_train_transformed, y_train))\n",
    "            score_dict['validation_score'].append(XGB_model.score(X_validation_transformed, y_validation))\n",
    "            score_dict['pair'].append((n_estimator, depth))\n",
    "\n",
    "    return pd.DataFrame(score_dict)"
   ]
  },
  {
   "cell_type": "markdown",
   "metadata": {},
   "source": [
    "<span style=\"color:red\">Warning, the cell below takes more than 1000 minutes to run </span>. It takes that long for parameters `np.arange(1, 1000, 10), np.arange(1, 100, 2)`"
   ]
  },
  {
   "cell_type": "code",
   "execution_count": 47,
   "metadata": {},
   "outputs": [],
   "source": [
    "#this should run in 15 minutes \n",
    "score_df = opt_XGB(np.arange(1, 100, 10), np.arange(1, 10, 2))"
   ]
  },
  {
   "cell_type": "code",
   "execution_count": 53,
   "metadata": {},
   "outputs": [
    {
     "data": {
      "text/plain": [
       "Text(0.5, 0, 'pair (n_estimator, depth)')"
      ]
     },
     "execution_count": 53,
     "metadata": {},
     "output_type": "execute_result"
    },
    {
     "data": {
      "image/png": "[encoded data removed]",
      "text/plain": [
       "<Figure size 640x480 with 1 Axes>"
      ]
     },
     "metadata": {},
     "output_type": "display_data"
    }
   ],
   "source": [
    "score_df.plot(y=['train_score', 'validation_score'])\n",
    "plt.title('validation score with title')\n",
    "plt.ylabel('score')\n",
    "plt.xlabel('pair (n_estimator, depth)')\n"
   ]
  },
  {
   "cell_type": "markdown",
   "metadata": {},
   "source": [
    "The accuracy is increasing with key value pair (n_estimator, depth). This code is taking too long. Further hyper tuning of hyeper parameter is required. "
   ]
  },
  {
   "cell_type": "code",
   "execution_count": 49,
   "metadata": {},
   "outputs": [
    {
     "data": {
      "text/plain": [
       "(91, 9)"
      ]
     },
     "execution_count": 49,
     "metadata": {},
     "output_type": "execute_result"
    }
   ],
   "source": [
    "#best parameters \n",
    "score_df.iloc[score_df['validation_score'].idxmax(), 0]"
   ]
  },
  {
   "cell_type": "markdown",
   "metadata": {},
   "source": [
    "The optimum value of hyper parameter from the hyper parameter turning until now is (91, 9). That is n_estimators =91 and depth=9"
   ]
  },
  {
   "cell_type": "code",
   "execution_count": null,
   "metadata": {},
   "outputs": [],
   "source": [
    "#the best model until now \n",
    "XGB_model = XGBClassifier(n_estimators=91, max_depth=9)\n",
    "XGB_model.fit(X_train_transformed, y_train)\n",
    "joblib.dump(XGB_model, 'best_XGB')"
   ]
  },
  {
   "cell_type": "markdown",
   "metadata": {},
   "source": [
    "### Random forest classifier <a name=\"XGB\"></a>    \n",
    "Let's see how random forest performs on this data. This took a lot of time so I am keeping the code only here. "
   ]
  },
  {
   "cell_type": "code",
   "execution_count": null,
   "metadata": {},
   "outputs": [],
   "source": [
    "# Import the model we are using\n",
    "from sklearn.ensemble import RandomForestRegressor\n",
    "\n",
    "# Instantiate model with 1000 decision trees\n",
    "rf = RandomForestRegressor(n_estimators = 1000, random_state = 42)\n",
    "\n",
    "# Train the model on training data\n",
    "rf.fit(X_train_transformed, y_train);\n",
    "\n",
    "\n",
    "#check the accuracy \n",
    "rf.score(X_validation_transformed, y_validation);"
   ]
  },
  {
   "cell_type": "markdown",
   "metadata": {},
   "source": [
    "## Conclusion <a name=\"conclusion\"></a>  \n",
    "\n",
    "In this notebook we first transformed text data to numerical data after tokenizing, removing stop words, and stemming. We used countvectorizer to make document-term matrix using the tokens.   \n",
    "\n",
    "After changing text data to numbers, data was split into training and validation set. Different machine learning models were trained on the training data. Logistic regression, knn, decision trees, random forest, and XGBoost models were trained on the training data. \n",
    "\n",
    "Validation set was used for heyper-parameter tuning for some of the models due to extensive amount of time required to tune the hyper parameters. \n",
    "\n",
    "In order to train models within a practical time, we will sample a part of the data and train our models on them. In next notebook some more models are trained on a sample of data. Also TF-IDF vectorizer was used to form document term matrix.      "
   ]
  },
  {
   "cell_type": "markdown",
   "metadata": {},
   "source": []
  }
 ],
 "metadata": {
  "interpreter": {
   "hash": "fe3e4ff462899b486b9163665ff890ebf517273e1fd85c1abd58b8741c9e644b"
  },
  "kernelspec": {
   "display_name": "Python 3.8.12",
   "language": "python",
   "name": "python3"
  },
  "language_info": {
   "codemirror_mode": {
    "name": "ipython",
    "version": 3
   },
   "file_extension": ".py",
   "mimetype": "text/x-python",
   "name": "python",
   "nbconvert_exporter": "python",
   "pygments_lexer": "ipython3",
   "version": "3.8.12"
  },
  "orig_nbformat": 4
 },
 "nbformat": 4,
 "nbformat_minor": 2
}
